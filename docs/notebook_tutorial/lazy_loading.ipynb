{
 "cells": [
  {
   "cell_type": "markdown",
   "id": "eea534ca",
   "metadata": {},
   "source": [
    "# Loading Data As Needed"
   ]
  },
  {
   "cell_type": "markdown",
   "id": "bb1774c1",
   "metadata": {},
   "source": [
    "Sometimes it is preferrable to load data only when it is required. For example, when creating a pipeline that handles a large amount of image data, a naive way would be to load the data at the beginning (i.e. through a reader), and pass all the data along the pipeline.\n",
    "\n",
    "Yet this approach could be inefficient since the actual images are passing along the pipeline, potentially through a network. If not all the processors in the pipeline need to access the image data, an better alternative would be to lazy load the data when needed, while all the data stays at an online location (such as an NSF location or a hyperlink).\n",
    "\n",
    "Forte's `Payload` classes provides options for you to do exactly that."
   ]
  },
  {
   "cell_type": "code",
   "execution_count": 1,
   "id": "02eee8e8",
   "metadata": {},
   "outputs": [],
   "source": [
    "from typing import Optional\n",
    "from dataclasses import dataclass\n",
    "\n",
    "from forte.data.data_pack import DataPack\n",
    "from forte.data.ontology.top import ImagePayload\n",
    "\n",
    "@dataclass\n",
    "class JpegPayload(ImagePayload):\n",
    "    \"\"\"\n",
    "    Attributes:\n",
    "        extensions (Optional[str]):\n",
    "        mime (Optional[str]):\n",
    "        type_code (Optional[str]):\n",
    "        version (Optional[int]):\n",
    "        source_type (Optional[int]):\n",
    "    \"\"\"\n",
    "\n",
    "    extensions: Optional[str]\n",
    "    mime: Optional[str]\n",
    "    type_code: Optional[str]\n",
    "    version: Optional[int]\n",
    "    source_type: Optional[int]\n",
    "\n",
    "    def __init__(self, pack: DataPack):\n",
    "        super().__init__(pack)\n",
    "        self.extensions: Optional[str] = None\n",
    "        self.mime: Optional[str] = None\n",
    "        self.type_code: Optional[str] = None\n",
    "        self.version: Optional[int] = None\n",
    "        self.source_type: Optional[int] = None"
   ]
  },
  {
   "cell_type": "markdown",
   "id": "ed594564",
   "metadata": {},
   "source": [
    "The class above is an example `Payload` class inheriting the Forte built-in `ImagePayload` class (note that this class is generated through the ontology generator, you should be able to find the definitions [here](https://github.com/asyml/forte/blob/master/forte/ontology_specs/payload_ontology.json)). \n",
    "\n",
    "The `Payload` classes, as their name suggest, are used to store data. A `Payload` class has certain default members, such as a `uri` and a `cache`, and one can also enrich the class by extending it, like above. \n",
    "\n",
    "The simple usage of a `Payload` class is to access its `uri` and `cache`. The `uri` is defined by you, it could be a URL or a remote file path. And the `cache` is used to store the actual data. In a regular Forte reader implementation, one might want to specify the `uri` and populate the `cache` with actual data. Let's see a quick example."
   ]
  },
  {
   "cell_type": "code",
   "execution_count": 2,
   "id": "d8aa8245",
   "metadata": {},
   "outputs": [
    {
     "name": "stdout",
     "output_type": "stream",
     "text": [
      "http://some/path/\n"
     ]
    }
   ],
   "source": [
    "# A Payload is just another regular entry object, \n",
    "# so we can handle this in the same way.\n",
    "datapack = DataPack()\n",
    "sp = JpegPayload(datapack)\n",
    "sp.uri = \"http://some/path/\"\n",
    "\n",
    "print(datapack.get_single(JpegPayload).uri)"
   ]
  },
  {
   "cell_type": "markdown",
   "id": "2aad0626",
   "metadata": {},
   "source": [
    "We have set the `uri` for this particular payload, which is lightweight since we only added a string to it. While one can load the actual data into `sp.cache` by reading the `uri` now, let's study the \"lazy loading\" option.\n",
    "\n",
    "Forte allows one to do this by associating a `load` function to the `Payload` class using a simple decorator like below:"
   ]
  },
  {
   "cell_type": "code",
   "execution_count": 3,
   "id": "9ddc7420",
   "metadata": {},
   "outputs": [],
   "source": [
    "from forte.data.ontology.top import load_func\n",
    "\n",
    "\n",
    "@load_func(JpegPayload)\n",
    "def load(payload: JpegPayload):\n",
    "    def read_uri(input_uri): # The function to read the URI.\n",
    "        # to be implemented\n",
    "        pass\n",
    "    return read_uri(payload.uri) # Returns the payload content."
   ]
  },
  {
   "cell_type": "markdown",
   "id": "6765a65c",
   "metadata": {},
   "source": [
    "What happens here is that we decorate the `load` function with the Forte built-in `load_func` decorator, which associates the `JpegPayload` type with the `load` function. Note that this function takes an `input_uri` as input, internally, Forte will pass `JpegPayload.uri` to it.\n",
    "\n",
    "Now when you call the `load` function in the `JpegPayload` class, it will try to populate the `cache` with the return value of the `load` function, by providing the `uri`.  \n",
    "\n",
    "Let's see a full implementation of this function."
   ]
  },
  {
   "cell_type": "code",
   "execution_count": 4,
   "id": "34a1f764",
   "metadata": {},
   "outputs": [],
   "source": [
    "@load_func(JpegPayload)\n",
    "def load(payload: JpegPayload):\n",
    "    \"\"\"\n",
    "    A function that parses payload metadata and prepare and returns a loading function.\n",
    "\n",
    "    This function is not stored in data store but will be used\n",
    "    for registering in PayloadFactory.\n",
    "\n",
    "    Returns:\n",
    "        a function that reads image data from an url.\n",
    "    \"\"\"\n",
    "    try:\n",
    "        from PIL import Image\n",
    "        import requests\n",
    "        import numpy as np\n",
    "    except ModuleNotFoundError as e:\n",
    "        raise ModuleNotFoundError(\n",
    "            \"ImagePayload reading web file requires `PIL` and\"\n",
    "            \"`requests` packages to be installed.\"\n",
    "        ) from e\n",
    "\n",
    "    def read_uri(input_uri):\n",
    "        # customize this function to read data from uri\n",
    "        uri_obj = requests.get(input_uri, stream=True)\n",
    "        pil_image = Image.open(uri_obj.raw)\n",
    "        return np.asarray(pil_image)\n",
    "\n",
    "    return read_uri(payload.uri)"
   ]
  },
  {
   "cell_type": "markdown",
   "id": "caf1dd57",
   "metadata": {},
   "source": [
    "This `load` implementation uses the `PIL` library to read images, which supportes JPEG.\n",
    "\n",
    "Now we have registered the `load` function to the `SoundFilePayload` class. Let's have a try."
   ]
  },
  {
   "cell_type": "code",
   "execution_count": 5,
   "id": "1a494ed1",
   "metadata": {},
   "outputs": [],
   "source": [
    "datapack = DataPack(\"image\")\n",
    "payload = JpegPayload(datapack)\n",
    "datapack.add_entry(payload)\n",
    "payload.uri = \"https://raw.githubusercontent.com/asyml/forte/assets/ocr_tutorial/ocr.jpg\""
   ]
  },
  {
   "cell_type": "markdown",
   "id": "3a37456a",
   "metadata": {},
   "source": [
    "We have successfully read the data URL, now we can load the payload content at any time."
   ]
  },
  {
   "cell_type": "code",
   "execution_count": 6,
   "id": "69ed6c16",
   "metadata": {},
   "outputs": [
    {
     "name": "stdout",
     "output_type": "stream",
     "text": [
      "(539, 810, 3)\n"
     ]
    }
   ],
   "source": [
    "payload.load()\n",
    "print(payload.cache.shape)"
   ]
  },
  {
   "cell_type": "markdown",
   "id": "8a1cd601",
   "metadata": {},
   "source": [
    "Note that here we explicitly called the `load` function for illustration purposes. Forte actually allows you to directly access the `cache`, and it will attempt to `load` the data without the explict `load` call."
   ]
  },
  {
   "cell_type": "code",
   "execution_count": 7,
   "id": "657b5879",
   "metadata": {},
   "outputs": [
    {
     "name": "stdout",
     "output_type": "stream",
     "text": [
      "(539, 810, 3)\n"
     ]
    }
   ],
   "source": [
    "datapack_lazy = DataPack(\"image\")\n",
    "pl = JpegPayload(datapack_lazy)\n",
    "datapack_lazy.add_entry(pl)\n",
    "pl.uri = \"https://raw.githubusercontent.com/asyml/forte/assets/ocr_tutorial/ocr.jpg\"\n",
    "print(pl.cache.shape)"
   ]
  },
  {
   "cell_type": "markdown",
   "id": "cc77554f",
   "metadata": {},
   "source": [
    "In this way, we achieve the \"lazy loading\" idea, with a registered function, and without having users to manually worry about when to load the content.\n",
    "\n",
    "Finally, there are a few usage tips:\n",
    "1. Once the data is loaded into `cache`, it will stay with the data pack (which means it will be transferred through the pipeline). Currently Forte does not have a mechanism to automatically clean the `cache`. One can call the `clear_cache` function manually.\n",
    "2. To use the lazy loading mechanism in `Payload`, it is preferrable to register a function for a dedicated type. This will help you organize the loading methods of different types of data. Under the hood. Forte simply assign the loading method into the corresponding `Payload` class. This means method overriding will work as expected: if a different `load` function is assigned to a child class, then the `load` function registered to the child class will be used."
   ]
  },
  {
   "cell_type": "code",
   "execution_count": 8,
   "id": "57c94d67",
   "metadata": {},
   "outputs": [
    {
     "name": "stdout",
     "output_type": "stream",
     "text": [
      "None\n"
     ]
    }
   ],
   "source": [
    "pl.clear_cache()\n",
    "print(pl._cache)"
   ]
  }
 ],
 "metadata": {
  "kernelspec": {
   "display_name": "Python 3 (ipykernel)",
   "language": "python",
   "name": "python3"
  },
  "language_info": {
   "codemirror_mode": {
    "name": "ipython",
    "version": 3
   },
   "file_extension": ".py",
   "mimetype": "text/x-python",
   "name": "python",
   "nbconvert_exporter": "python",
   "pygments_lexer": "ipython3",
   "version": "3.9.13"
  }
 },
 "nbformat": 4,
 "nbformat_minor": 5
}
