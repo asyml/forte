{
 "cells": [
  {
   "cell_type": "markdown",
   "metadata": {
    "tags": [
     "Text",
     "Classification",
     "-",
     "Multiclass"
    ]
   },
   "source": [
    "# Text Classification : MultiClass\n",
    "\n",
    "## Background\n",
    "This notebook tutorial is derived from [a classification example](https://github.com/asyml/forte/tree/master/examples/classification).\n",
    "Given a table-like csv file with data at some columns are input text and data at one column is label, we set up a text classification pipeline below. This example is also a good example of wrapping external library classes/methods into `PipelineComponent`.\n",
    "\n",
    "## Inference Workflow\n",
    "\n",
    "### Pipeline\n",
    "* [Pipeline setup](https://github.com/asyml/forte/blob/master/examples/classification/bank_customer_intent.py#L123)\n",
    "\n",
    "* The pipeline has one reader `ClassificationDatasetReader` and two processor\n",
    "`NLTKSentenceSegmenter` and `ZeroShotClassifier`. \n",
    "\n",
    "\n",
    "### Reader\n",
    "* [ClassificationDatasetReader](https://github.com/asyml/forte/blob/7dc6e6c7d62d9a4126bdfc5ca02d15be3ffd61ca/forte/data/readers/classification_reader.py#L26)\n",
    "    * `set_up()`: It checks whether the configuration is correct. For example, `skip_k_starting_lines` should be larger than 0 otherwise it doesn't make sense. It also converts different table data at the label column to a digit.\n",
    "    * `_collect()`: read rows from csv file and returns iterator that yields line id and line data.\n",
    "    * `_cache_key_function()`: use the line id as the cache key. \n",
    "    * `_parse_pack()`: parse data from iterator returned by `_collect` and load it in the datapack\n",
    "\n",
    "\n",
    "\n",
    "### Processor\n",
    "In this example, we want to classify data sentence by sentence so we wrapped `nltk.PunktSentenceTokenizer` in [NLTKSentenceSegmenter](https://github.com/asyml/forte-wrappers/blob/80cfe19926c0596edd13985581e8ca01a7be86ad/src/nltk/fortex/nltk/nltk_processors.py#L247) to segment sentences. \n",
    "\n",
    "* `_process()`: split data pack text into sentence spans.\n",
    "\n",
    "\n",
    "\n",
    "Then need a model to do classification. We wrap `transformers.pipeline` in \n",
    "[Huggingface ZeroShotClassifier](https://github.com/asyml/forte-wrappers/blob/main/src/huggingface/fortex/huggingface/zero_shot_classifier.py).\n",
    "\n",
    "* `_process()`: running classifier over data pack data and write the prediction results back to data pack.\n",
    "\n",
    "`ZeroShotClassifier` and `NLTKSentenceSegmenter` both inherit from `PackProcessor` as it processes one `DataPack` at a time. Suppose if we processes one `MultiPack` at a time, we need to inherit `MultiPackProcessor` instead. "
   ]
  },
  {
   "cell_type": "markdown",
   "metadata": {},
   "source": [
    "## Imports"
   ]
  },
  {
   "cell_type": "code",
   "execution_count": 2,
   "metadata": {
    "tags": [
     "imports"
    ]
   },
   "outputs": [],
   "source": [
    "import sys\n",
    "from importlib_metadata import csv\n",
    "from termcolor import colored\n",
    "\n",
    "from forte import Pipeline\n",
    "from forte.data.readers import ClassificationDatasetReader\n",
    "from fortex.nltk import NLTKSentenceSegmenter\n",
    "from fortex.huggingface import ZeroShotClassifier\n",
    "from ft.onto.base_ontology import Sentence\n",
    "import pandas as pd"
   ]
  },
  {
   "cell_type": "markdown",
   "metadata": {},
   "source": [
    "## Dataset"
   ]
  },
  {
   "cell_type": "markdown",
   "metadata": {
    "tags": [
     "Dataset"
    ]
   },
   "source": [
    "Banking77 is a multi-class datasets. It has 77 classes which are fine-grained intents in a banking domain.\n",
    "The train data can be downloaded from [link](https://raw.githubusercontent.com/PolyAI-LDN/task-specific-datasets/master/banking_data/train.csv) and test data can be downloaded from [link](https://raw.githubusercontent.com/PolyAI-LDN/task-specific-datasets/master/banking_data/test.csv)."
   ]
  },
  {
   "cell_type": "markdown",
   "metadata": {},
   "source": [
    "## Visualize data"
   ]
  },
  {
   "cell_type": "code",
   "execution_count": 3,
   "metadata": {
    "scrolled": true,
    "tags": [
     "Visualize",
     "sample",
     "data"
    ]
   },
   "outputs": [
    {
     "data": {
      "text/html": [
       "<div>\n",
       "<style scoped>\n",
       "    .dataframe tbody tr th:only-of-type {\n",
       "        vertical-align: middle;\n",
       "    }\n",
       "\n",
       "    .dataframe tbody tr th {\n",
       "        vertical-align: top;\n",
       "    }\n",
       "\n",
       "    .dataframe thead th {\n",
       "        text-align: right;\n",
       "    }\n",
       "</style>\n",
       "<table border=\"1\" class=\"dataframe\">\n",
       "  <thead>\n",
       "    <tr style=\"text-align: right;\">\n",
       "      <th></th>\n",
       "      <th>text</th>\n",
       "      <th>category</th>\n",
       "    </tr>\n",
       "  </thead>\n",
       "  <tbody>\n",
       "    <tr>\n",
       "      <th>12</th>\n",
       "      <td>I still don't have my card after 2 weeks.  Wha...</td>\n",
       "      <td>card_arrival</td>\n",
       "    </tr>\n",
       "    <tr>\n",
       "      <th>11</th>\n",
       "      <td>How long does a card delivery take?</td>\n",
       "      <td>card_arrival</td>\n",
       "    </tr>\n",
       "    <tr>\n",
       "      <th>15</th>\n",
       "      <td>I have been waiting longer than expected for m...</td>\n",
       "      <td>card_arrival</td>\n",
       "    </tr>\n",
       "    <tr>\n",
       "      <th>1</th>\n",
       "      <td>I still have not received my new card, I order...</td>\n",
       "      <td>card_arrival</td>\n",
       "    </tr>\n",
       "    <tr>\n",
       "      <th>13</th>\n",
       "      <td>still waiting on my new card</td>\n",
       "      <td>card_arrival</td>\n",
       "    </tr>\n",
       "  </tbody>\n",
       "</table>\n",
       "</div>"
      ],
      "text/plain": [
       "                                                 text      category\n",
       "12  I still don't have my card after 2 weeks.  Wha...  card_arrival\n",
       "11                How long does a card delivery take?  card_arrival\n",
       "15  I have been waiting longer than expected for m...  card_arrival\n",
       "1   I still have not received my new card, I order...  card_arrival\n",
       "13                       still waiting on my new card  card_arrival"
      ]
     },
     "execution_count": 3,
     "metadata": {},
     "output_type": "execute_result"
    }
   ],
   "source": [
    "csv_path = \"../../data_samples/banking77/sample.csv\"\n",
    "df=pd.read_csv(csv_path)\n",
    "df.sample(5)"
   ]
  },
  {
   "cell_type": "markdown",
   "metadata": {},
   "source": [
    "## Reader Configuration\n",
    "`ClassificationDatasetReader` is designed to read table-like classification datasets and currently it only support `csv` file which is a common file format. To use the reader correctly, User needs to check the dataset and configure the reader correspondingly. To better explain this, we will use banking77 dataset as an example throughout the explanation.\n",
    "* User needs to check column names of the dataset. In the example dataset, we have column names [label, title, content]. First, we need know the first column is about data labels. Second, we know the second and third column can be input text. Therefore, we can set `forte_data_fields` to be `['label', 'ft.onto.base_ontology.Title', 'ft.onto.base_ontology.Body']` that each element matches column names from dataset. `label` is just a keyword that reader needs to identify the label. `'ft.onto.base_ontology.Title'` and `'ft.onto.base_ontology.Body'` are two forte data entries that stores input text in proper wrappers. In some cases that dataset might contain unnecessary columns that User doesn't want to use at all, User can set corresponding list elements in `forte_data_fields` to `None` so that the reader can skip processing them. \n",
    "* User also needs to check if how many classes in the dataset to configure `index2class` which is a dictionary mapping from zero-based indices to class names. For dataset with many classes such as banking77, User can initialize `class_names` to store a list of class names and then set \n",
    "    `index2class` to `dict(enumerate(class_names))`.\n",
    "* User needs to check the first line of dataset if they are column names which are not input data. If it's the case, User needs to set `skip_k_starting_lines` to `1` to skip the first line. Otherwise, `skip_k_starting_lines` defaults to `0` which means not skipping the first line. In special cases when User wants to skip multiple lines, User can just set `skip_k_starting_lines` to the number of lines they want to skip.\n",
    "* In some cases, dataset labels are digits rather than text. User needs to set `digit_label` to `True`. Then User needs to check if the dataset label starting with `1`, if so, User needs to set `one_based_index_label` to True.\n"
   ]
  },
  {
   "cell_type": "markdown",
   "metadata": {},
   "source": [
    "## List of class names"
   ]
  },
  {
   "cell_type": "code",
   "execution_count": 4,
   "metadata": {
    "tags": [
     "list",
     "of",
     "all",
     "class",
     "names"
    ]
   },
   "outputs": [],
   "source": [
    "class_names = [\n",
    "    \"activate_my_card\",\n",
    "    \"age_limit\",\n",
    "    \"apple_pay_or_google_pay\",\n",
    "    \"atm_support\",\n",
    "    \"automatic_top_up\",\n",
    "    \"balance_not_updated_after_bank_transfer\",\n",
    "    \"balance_not_updated_after_cheque_or_cash_deposit\",\n",
    "    \"beneficiary_not_allowed\",\n",
    "    \"cancel_transfer\",\n",
    "    \"card_about_to_expire\",\n",
    "    \"card_acceptance\",\n",
    "    \"card_arrival\",\n",
    "    \"card_delivery_estimate\",\n",
    "    \"card_linking\",\n",
    "    \"card_not_working\",\n",
    "    \"card_payment_fee_charged\",\n",
    "    \"card_payment_not_recognised\",\n",
    "    \"card_payment_wrong_exchange_rate\",\n",
    "    \"card_swallowed\",\n",
    "    \"cash_withdrawal_charge\",\n",
    "    \"cash_withdrawal_not_recognised\",\n",
    "    \"change_pin\",\n",
    "    \"compromised_card\",\n",
    "    \"contactless_not_working\",\n",
    "    \"country_support\",\n",
    "    \"declined_card_payment\",\n",
    "    \"declined_cash_withdrawal\",\n",
    "    \"declined_transfer\",\n",
    "    \"direct_debit_payment_not_recognised\",\n",
    "    \"disposable_card_limits\",\n",
    "    \"edit_personal_details\",\n",
    "    \"exchange_charge\",\n",
    "    \"exchange_rate\",\n",
    "    \"exchange_via_app\",\n",
    "    \"extra_charge_on_statement\",\n",
    "    \"failed_transfer\",\n",
    "    \"fiat_currency_support\",\n",
    "    \"get_disposable_virtual_card\",\n",
    "    \"get_physical_card\",\n",
    "    \"getting_spare_card\",\n",
    "    \"getting_virtual_card\",\n",
    "    \"lost_or_stolen_card\",\n",
    "    \"lost_or_stolen_phone\",\n",
    "    \"order_physical_card\",\n",
    "    \"passcode_forgotten\",\n",
    "    \"pending_card_payment\",\n",
    "    \"pending_cash_withdrawal\",\n",
    "    \"pending_top_up\",\n",
    "    \"pending_transfer\",\n",
    "    \"pin_blocked\",\n",
    "    \"receiving_money\",\n",
    "    \"Refund_not_showing_up\",\n",
    "    \"request_refund\",\n",
    "    \"reverted_card_payment?\",\n",
    "    \"supported_cards_and_currencies\",\n",
    "    \"terminate_account\",\n",
    "    \"top_up_by_bank_transfer_charge\",\n",
    "    \"top_up_by_card_charge\",\n",
    "    \"top_up_by_cash_or_cheque\",\n",
    "    \"top_up_failed\",\n",
    "    \"top_up_limits\",\n",
    "    \"top_up_reverted\",\n",
    "    \"topping_up_by_card\",\n",
    "    \"transaction_charged_twice\",\n",
    "    \"transfer_fee_charged\",\n",
    "    \"transfer_into_account\",\n",
    "    \"transfer_not_received_by_recipient\",\n",
    "    \"transfer_timing\",\n",
    "    \"unable_to_verify_identity\",\n",
    "    \"verify_my_identity\",\n",
    "    \"verify_source_of_funds\",\n",
    "    \"verify_top_up\",\n",
    "    \"virtual_card_not_working\",\n",
    "    \"visa_or_mastercard\",\n",
    "    \"why_verify_identity\",\n",
    "    \"wrong_amount_of_cash_received\",\n",
    "    \"wrong_exchange_rate_for_cash_withdrawal\",\n",
    "]"
   ]
  },
  {
   "cell_type": "markdown",
   "metadata": {},
   "source": [
    "## Converting class names into numerical values"
   ]
  },
  {
   "cell_type": "code",
   "execution_count": 6,
   "metadata": {},
   "outputs": [],
   "source": [
    "index2class = dict(enumerate(class_names))"
   ]
  },
  {
   "cell_type": "markdown",
   "metadata": {},
   "source": [
    "##  Initialize reader config"
   ]
  },
  {
   "cell_type": "code",
   "execution_count": 7,
   "metadata": {
    "tags": [
     "config"
    ]
   },
   "outputs": [],
   "source": [
    "this_reader_config = {\n",
    "    \"forte_data_fields\": [\n",
    "        \"ft.onto.base_ontology.Body\",\n",
    "        \"label\",\n",
    "    ],\n",
    "    \"index2class\": index2class,\n",
    "    \"text_fields\": [\n",
    "        \"ft.onto.base_ontology.Body\"\n",
    "    ],\n",
    "    \"digit_label\": False,\n",
    "    \"one_based_index_label\": False,\n",
    "}"
   ]
  },
  {
   "cell_type": "markdown",
   "metadata": {},
   "source": [
    "## Initialize the pipeline "
   ]
  },
  {
   "cell_type": "code",
   "execution_count": 8,
   "metadata": {
    "tags": [
     "pipeline"
    ]
   },
   "outputs": [
    {
     "name": "stderr",
     "output_type": "stream",
     "text": [
      "WARNING:root:Re-declared a new class named [ConstituentNode], which is probably used in import.\n",
      "[nltk_data] Downloading package punkt to\n",
      "[nltk_data]     /Users/bhaskarrao/nltk_data...\n",
      "[nltk_data]   Package punkt is already up-to-date!\n"
     ]
    },
    {
     "data": {
      "text/plain": [
       "<forte.pipeline.Pipeline at 0x7f7b9a1afbb0>"
      ]
     },
     "execution_count": 8,
     "metadata": {},
     "output_type": "execute_result"
    }
   ],
   "source": [
    "pl = Pipeline()\n",
    "pl.set_reader(ClassificationDatasetReader(), config=this_reader_config)\n",
    "pl.add(NLTKSentenceSegmenter())\n",
    "pl.add(ZeroShotClassifier(), config={\"candidate_labels\": class_names})\n",
    "pl.initialize()"
   ]
  },
  {
   "cell_type": "markdown",
   "metadata": {},
   "source": [
    "## The below code will predict the classification result of each sentence in the csv file"
   ]
  },
  {
   "cell_type": "code",
   "execution_count": 9,
   "metadata": {
    "tags": [
     "prediction"
    ]
   },
   "outputs": [
    {
     "name": "stdout",
     "output_type": "stream",
     "text": [
      "\u001b[31mSentence:\u001b[0m How do I locate my card? \n",
      "\n",
      "\u001b[34mPrediction:\u001b[0m {'lost_or_stolen_card': 0.4788, 'compromised_card': 0.3407, 'get_physical_card': 0.3214, 'card_linking': 0.2053, 'card_acceptance': 0.1595, 'passcode_forgotten': 0.1424, 'getting_spare_card': 0.1394, 'order_physical_card': 0.1389, 'reverted_card_payment?': 0.1371, 'getting_virtual_card': 0.1054, 'virtual_card_not_working': 0.066, 'why_verify_identity': 0.0623, 'card_not_working': 0.0616, 'get_disposable_virtual_card': 0.061, 'card_swallowed': 0.0603, 'supported_cards_and_currencies': 0.06, 'contactless_not_working': 0.0593, 'activate_my_card': 0.0576, 'verify_my_identity': 0.056, 'card_payment_not_recognised': 0.055, 'card_about_to_expire': 0.0426, 'visa_or_mastercard': 0.0393, 'pending_card_payment': 0.0384, 'card_arrival': 0.0375, 'cash_withdrawal_not_recognised': 0.0372, 'unable_to_verify_identity': 0.0321, 'declined_card_payment': 0.0294, 'card_delivery_estimate': 0.0261, 'declined_cash_withdrawal': 0.025, 'direct_debit_payment_not_recognised': 0.0244, 'pending_cash_withdrawal': 0.0241, 'pin_blocked': 0.0205, 'pending_transfer': 0.0204, 'exchange_via_app': 0.0191, 'declined_transfer': 0.0184, 'atm_support': 0.0182, 'edit_personal_details': 0.0165, 'card_payment_fee_charged': 0.016, 'fiat_currency_support': 0.0151, 'disposable_card_limits': 0.0142, 'balance_not_updated_after_bank_transfer': 0.0136, 'failed_transfer': 0.0116, 'exchange_charge': 0.0116, 'balance_not_updated_after_cheque_or_cash_deposit': 0.0112, 'transfer_fee_charged': 0.0091, 'top_up_reverted': 0.009, 'topping_up_by_card': 0.0088, 'change_pin': 0.0082, 'Refund_not_showing_up': 0.0082, 'card_payment_wrong_exchange_rate': 0.0074, 'verify_source_of_funds': 0.0072, 'country_support': 0.0072, 'request_refund': 0.0071, 'transfer_not_received_by_recipient': 0.0067, 'receiving_money': 0.0066, 'cash_withdrawal_charge': 0.0062, 'pending_top_up': 0.0055, 'top_up_by_cash_or_cheque': 0.0055, 'age_limit': 0.0048, 'extra_charge_on_statement': 0.0044, 'transfer_timing': 0.0044, 'transaction_charged_twice': 0.0042, 'top_up_by_card_charge': 0.0041, 'lost_or_stolen_phone': 0.004, 'cancel_transfer': 0.0035, 'top_up_limits': 0.0034, 'transfer_into_account': 0.0032, 'automatic_top_up': 0.003, 'top_up_by_bank_transfer_charge': 0.0029, 'verify_top_up': 0.0026, 'wrong_amount_of_cash_received': 0.0026, 'wrong_exchange_rate_for_cash_withdrawal': 0.0026, 'apple_pay_or_google_pay': 0.0019, 'top_up_failed': 0.0016, 'exchange_rate': 0.0015, 'terminate_account': 0.0013, 'beneficiary_not_allowed': 0.0008}\n",
      "\u001b[31mSentence:\u001b[0m I still have not received my new card, I ordered over a week ago. \n",
      "\n",
      "\u001b[34mPrediction:\u001b[0m {'pending_card_payment': 0.4946, 'card_delivery_estimate': 0.3938, 'pending_transfer': 0.3238, 'card_not_working': 0.3156, 'transfer_not_received_by_recipient': 0.2323, 'failed_transfer': 0.1512, 'contactless_not_working': 0.1277, 'declined_transfer': 0.1103, 'order_physical_card': 0.1088, 'pending_cash_withdrawal': 0.1049, 'unable_to_verify_identity': 0.1005, 'pin_blocked': 0.097, 'top_up_failed': 0.0947, 'card_acceptance': 0.0905, 'virtual_card_not_working': 0.0782, 'passcode_forgotten': 0.0731, 'card_payment_not_recognised': 0.0695, 'Refund_not_showing_up': 0.0669, 'card_linking': 0.0652, 'get_physical_card': 0.0626, 'pending_top_up': 0.0599, 'card_swallowed': 0.057, 'compromised_card': 0.0538, 'exchange_charge': 0.0476, 'getting_virtual_card': 0.0443, 'supported_cards_and_currencies': 0.0431, 'getting_spare_card': 0.0404, 'reverted_card_payment?': 0.0403, 'receiving_money': 0.0366, 'declined_card_payment': 0.0365, 'exchange_via_app': 0.0306, 'card_about_to_expire': 0.0267, 'fiat_currency_support': 0.0263, 'direct_debit_payment_not_recognised': 0.0253, 'exchange_rate': 0.0235, 'card_payment_fee_charged': 0.0232, 'visa_or_mastercard': 0.0231, 'why_verify_identity': 0.0231, 'age_limit': 0.0228, 'declined_cash_withdrawal': 0.0218, 'transfer_timing': 0.0211, 'topping_up_by_card': 0.0209, 'activate_my_card': 0.0207, 'cash_withdrawal_not_recognised': 0.0204, 'balance_not_updated_after_cheque_or_cash_deposit': 0.0201, 'top_up_reverted': 0.02, 'balance_not_updated_after_bank_transfer': 0.0195, 'verify_my_identity': 0.0193, 'change_pin': 0.0191, 'cancel_transfer': 0.0185, 'edit_personal_details': 0.0183, 'card_payment_wrong_exchange_rate': 0.0183, 'transfer_fee_charged': 0.018, 'disposable_card_limits': 0.018, 'request_refund': 0.0153, 'get_disposable_virtual_card': 0.0144, 'atm_support': 0.0144, 'top_up_by_card_charge': 0.0139, 'country_support': 0.0135, 'top_up_limits': 0.012, 'lost_or_stolen_card': 0.0118, 'beneficiary_not_allowed': 0.0114, 'extra_charge_on_statement': 0.0105, 'cash_withdrawal_charge': 0.0102, 'wrong_exchange_rate_for_cash_withdrawal': 0.01, 'card_arrival': 0.0093, 'top_up_by_bank_transfer_charge': 0.0082, 'verify_source_of_funds': 0.0078, 'top_up_by_cash_or_cheque': 0.0074, 'wrong_amount_of_cash_received': 0.0064, 'transfer_into_account': 0.0063, 'lost_or_stolen_phone': 0.0055, 'verify_top_up': 0.005, 'apple_pay_or_google_pay': 0.0047, 'transaction_charged_twice': 0.0037, 'automatic_top_up': 0.0037, 'terminate_account': 0.0029}\n",
      "\u001b[31mSentence:\u001b[0m I ordered a card but it has not arrived. \n",
      "\n",
      "\u001b[34mPrediction:\u001b[0m {'pending_card_payment': 0.8703, 'card_delivery_estimate': 0.8396, 'card_not_working': 0.7368, 'failed_transfer': 0.7277, 'pending_transfer': 0.6785, 'order_physical_card': 0.6103, 'transfer_not_received_by_recipient': 0.5269, 'declined_transfer': 0.437, 'virtual_card_not_working': 0.4311, 'Refund_not_showing_up': 0.4252, 'pending_cash_withdrawal': 0.4179, 'top_up_failed': 0.4061, 'get_physical_card': 0.406, 'reverted_card_payment?': 0.4031, 'contactless_not_working': 0.3621, 'card_payment_not_recognised': 0.3354, 'unable_to_verify_identity': 0.306, 'card_acceptance': 0.256, 'pin_blocked': 0.2497, 'declined_card_payment': 0.2458, 'card_swallowed': 0.1985, 'getting_spare_card': 0.1856, 'direct_debit_payment_not_recognised': 0.1783, 'pending_top_up': 0.172, 'getting_virtual_card': 0.165, 'lost_or_stolen_card': 0.1409, 'request_refund': 0.1401, 'card_linking': 0.1323, 'supported_cards_and_currencies': 0.1314, 'get_disposable_virtual_card': 0.1153, 'compromised_card': 0.1136, 'passcode_forgotten': 0.1014, 'exchange_charge': 0.0992, 'visa_or_mastercard': 0.0902, 'exchange_via_app': 0.0894, 'disposable_card_limits': 0.0873, 'balance_not_updated_after_cheque_or_cash_deposit': 0.087, 'activate_my_card': 0.0759, 'edit_personal_details': 0.0703, 'cash_withdrawal_not_recognised': 0.0692, 'verify_my_identity': 0.0608, 'cancel_transfer': 0.06, 'topping_up_by_card': 0.0594, 'card_payment_wrong_exchange_rate': 0.0591, 'why_verify_identity': 0.058, 'balance_not_updated_after_bank_transfer': 0.0495, 'fiat_currency_support': 0.0495, 'declined_cash_withdrawal': 0.0479, 'transfer_timing': 0.0469, 'card_payment_fee_charged': 0.0451, 'receiving_money': 0.0431, 'transfer_fee_charged': 0.0385, 'exchange_rate': 0.0365, 'change_pin': 0.0335, 'age_limit': 0.0333, 'top_up_limits': 0.0289, 'atm_support': 0.0274, 'top_up_reverted': 0.027, 'extra_charge_on_statement': 0.0257, 'top_up_by_card_charge': 0.0233, 'cash_withdrawal_charge': 0.0223, 'top_up_by_cash_or_cheque': 0.0213, 'verify_source_of_funds': 0.0205, 'country_support': 0.0182, 'card_about_to_expire': 0.017, 'card_arrival': 0.0164, 'wrong_exchange_rate_for_cash_withdrawal': 0.0162, 'verify_top_up': 0.0133, 'transfer_into_account': 0.0118, 'top_up_by_bank_transfer_charge': 0.0095, 'wrong_amount_of_cash_received': 0.0093, 'beneficiary_not_allowed': 0.0088, 'automatic_top_up': 0.0073, 'terminate_account': 0.0072, 'apple_pay_or_google_pay': 0.0054, 'lost_or_stolen_phone': 0.0053, 'transaction_charged_twice': 0.0048}\n",
      "\u001b[31mSentence:\u001b[0m Help please! \n",
      "\n",
      "\u001b[34mPrediction:\u001b[0m {'card_not_working': 0.6807, 'contactless_not_working': 0.5555, 'passcode_forgotten': 0.4772, 'pin_blocked': 0.4079, 'virtual_card_not_working': 0.3229, 'card_payment_not_recognised': 0.2698, 'compromised_card': 0.2429, 'unable_to_verify_identity': 0.1723, 'direct_debit_payment_not_recognised': 0.1295, 'lost_or_stolen_card': 0.1163, 'reverted_card_payment?': 0.1135, 'declined_card_payment': 0.1106, 'cash_withdrawal_not_recognised': 0.105, 'fiat_currency_support': 0.1029, 'lost_or_stolen_phone': 0.1009, 'card_swallowed': 0.0965, 'balance_not_updated_after_cheque_or_cash_deposit': 0.0961, 'balance_not_updated_after_bank_transfer': 0.0754, 'card_payment_wrong_exchange_rate': 0.0725, 'card_about_to_expire': 0.07, 'failed_transfer': 0.0668, 'Refund_not_showing_up': 0.0638, 'atm_support': 0.0633, 'declined_transfer': 0.0555, 'declined_cash_withdrawal': 0.0442, 'get_disposable_virtual_card': 0.0392, 'transfer_not_received_by_recipient': 0.0381, 'order_physical_card': 0.0376, 'pending_card_payment': 0.037, 'card_delivery_estimate': 0.0345, 'pending_transfer': 0.0327, 'getting_spare_card': 0.0308, 'disposable_card_limits': 0.0292, 'transfer_fee_charged': 0.0277, 'age_limit': 0.0266, 'request_refund': 0.0265, 'edit_personal_details': 0.0263, 'country_support': 0.0259, 'card_linking': 0.0254, 'card_acceptance': 0.0248, 'change_pin': 0.0234, 'getting_virtual_card': 0.0229, 'wrong_exchange_rate_for_cash_withdrawal': 0.0219, 'top_up_reverted': 0.0215, 'extra_charge_on_statement': 0.0206, 'exchange_charge': 0.0201, 'get_physical_card': 0.0191, 'pending_cash_withdrawal': 0.0182, 'transaction_charged_twice': 0.0179, 'card_payment_fee_charged': 0.0174, 'exchange_via_app': 0.0164, 'wrong_amount_of_cash_received': 0.0155, 'transfer_timing': 0.0149, 'visa_or_mastercard': 0.0139, 'top_up_failed': 0.0135, 'verify_source_of_funds': 0.0121, 'why_verify_identity': 0.012, 'pending_top_up': 0.0118, 'activate_my_card': 0.0117, 'card_arrival': 0.0109, 'supported_cards_and_currencies': 0.0107, 'topping_up_by_card': 0.0102, 'verify_my_identity': 0.0098, 'top_up_limits': 0.0097, 'receiving_money': 0.0096, 'cancel_transfer': 0.0086, 'exchange_rate': 0.0084, 'terminate_account': 0.0079, 'beneficiary_not_allowed': 0.0074, 'top_up_by_cash_or_cheque': 0.0073, 'cash_withdrawal_charge': 0.0072, 'transfer_into_account': 0.0056, 'automatic_top_up': 0.005, 'top_up_by_card_charge': 0.0048, 'verify_top_up': 0.0045, 'apple_pay_or_google_pay': 0.0037, 'top_up_by_bank_transfer_charge': 0.0035}\n"
     ]
    },
    {
     "name": "stdout",
     "output_type": "stream",
     "text": [
      "\u001b[31mSentence:\u001b[0m Is there a way to know when my card will arrive? \n",
      "\n",
      "\u001b[34mPrediction:\u001b[0m {'card_delivery_estimate': 0.2742, 'card_not_working': 0.1729, 'order_physical_card': 0.0868, 'card_acceptance': 0.0861, 'getting_spare_card': 0.0844, 'compromised_card': 0.0785, 'reverted_card_payment?': 0.0733, 'pending_card_payment': 0.0688, 'card_arrival': 0.0688, 'card_linking': 0.0637, 'virtual_card_not_working': 0.0618, 'getting_virtual_card': 0.0604, 'get_physical_card': 0.0568, 'pending_transfer': 0.0538, 'declined_transfer': 0.0476, 'transfer_timing': 0.0437, 'card_swallowed': 0.0372, 'pending_cash_withdrawal': 0.0326, 'unable_to_verify_identity': 0.0311, 'contactless_not_working': 0.0304, 'pin_blocked': 0.028, 'fiat_currency_support': 0.0229, 'supported_cards_and_currencies': 0.0216, 'activate_my_card': 0.021, 'failed_transfer': 0.0179, 'receiving_money': 0.016, 'get_disposable_virtual_card': 0.0147, 'passcode_forgotten': 0.0145, 'lost_or_stolen_card': 0.0143, 'visa_or_mastercard': 0.0134, 'why_verify_identity': 0.0134, 'pending_top_up': 0.013, 'card_about_to_expire': 0.011, 'atm_support': 0.0109, 'change_pin': 0.0107, 'topping_up_by_card': 0.0106, 'Refund_not_showing_up': 0.0103, 'declined_card_payment': 0.0101, 'exchange_charge': 0.0099, 'country_support': 0.0096, 'declined_cash_withdrawal': 0.0094, 'exchange_via_app': 0.0093, 'disposable_card_limits': 0.0086, 'card_payment_not_recognised': 0.0081, 'top_up_limits': 0.0076, 'direct_debit_payment_not_recognised': 0.007, 'edit_personal_details': 0.0067, 'card_payment_fee_charged': 0.0067, 'transfer_fee_charged': 0.0066, 'balance_not_updated_after_cheque_or_cash_deposit': 0.0062, 'age_limit': 0.006, 'top_up_reverted': 0.0054, 'verify_my_identity': 0.0053, 'cash_withdrawal_not_recognised': 0.0051, 'balance_not_updated_after_bank_transfer': 0.005, 'transfer_not_received_by_recipient': 0.0043, 'automatic_top_up': 0.0042, 'exchange_rate': 0.0041, 'wrong_exchange_rate_for_cash_withdrawal': 0.0038, 'card_payment_wrong_exchange_rate': 0.0035, 'verify_source_of_funds': 0.0035, 'request_refund': 0.0032, 'top_up_by_card_charge': 0.003, 'top_up_by_cash_or_cheque': 0.0029, 'transaction_charged_twice': 0.0028, 'verify_top_up': 0.0026, 'extra_charge_on_statement': 0.0026, 'cancel_transfer': 0.0024, 'cash_withdrawal_charge': 0.0024, 'wrong_amount_of_cash_received': 0.0023, 'top_up_by_bank_transfer_charge': 0.0023, 'top_up_failed': 0.0023, 'transfer_into_account': 0.0018, 'lost_or_stolen_phone': 0.0013, 'apple_pay_or_google_pay': 0.0009, 'terminate_account': 0.0008, 'beneficiary_not_allowed': 0.0005}\n",
      "\u001b[31mSentence:\u001b[0m My card has not arrived yet. \n",
      "\n",
      "\u001b[34mPrediction:\u001b[0m {'pending_card_payment': 0.9422, 'card_delivery_estimate': 0.9249, 'failed_transfer': 0.9249, 'pending_transfer': 0.9201, 'pending_cash_withdrawal': 0.8319, 'transfer_not_received_by_recipient': 0.7359, 'declined_transfer': 0.7144, 'Refund_not_showing_up': 0.6868, 'pending_top_up': 0.6705, 'card_payment_not_recognised': 0.6129, 'declined_card_payment': 0.5725, 'pin_blocked': 0.5605, 'card_not_working': 0.5287, 'reverted_card_payment?': 0.4739, 'balance_not_updated_after_bank_transfer': 0.4725, 'contactless_not_working': 0.4627, 'direct_debit_payment_not_recognised': 0.4397, 'card_acceptance': 0.3388, 'balance_not_updated_after_cheque_or_cash_deposit': 0.338, 'unable_to_verify_identity': 0.3284, 'order_physical_card': 0.3151, 'virtual_card_not_working': 0.3124, 'get_physical_card': 0.2838, 'cash_withdrawal_not_recognised': 0.2639, 'top_up_failed': 0.2497, 'declined_cash_withdrawal': 0.236, 'card_arrival': 0.236, 'getting_virtual_card': 0.2317, 'passcode_forgotten': 0.2085, 'getting_spare_card': 0.1781, 'transfer_timing': 0.1703, 'visa_or_mastercard': 0.1631, 'receiving_money': 0.1439, 'card_swallowed': 0.1385, 'card_linking': 0.1375, 'disposable_card_limits': 0.1202, 'activate_my_card': 0.1168, 'supported_cards_and_currencies': 0.1122, 'topping_up_by_card': 0.1056, 'request_refund': 0.096, 'cancel_transfer': 0.0778, 'compromised_card': 0.0671, 'fiat_currency_support': 0.0654, 'transfer_fee_charged': 0.0651, 'top_up_reverted': 0.0626, 'card_payment_fee_charged': 0.0591, 'edit_personal_details': 0.0581, 'top_up_limits': 0.0566, 'age_limit': 0.0541, 'exchange_charge': 0.0518, 'card_payment_wrong_exchange_rate': 0.05, 'why_verify_identity': 0.0468, 'verify_my_identity': 0.0461, 'exchange_via_app': 0.046, 'lost_or_stolen_card': 0.045, 'top_up_by_cash_or_cheque': 0.0411, 'get_disposable_virtual_card': 0.0409, 'wrong_amount_of_cash_received': 0.039, 'top_up_by_card_charge': 0.0377, 'change_pin': 0.0374, 'extra_charge_on_statement': 0.0347, 'cash_withdrawal_charge': 0.0339, 'card_about_to_expire': 0.0313, 'transfer_into_account': 0.0252, 'exchange_rate': 0.0246, 'atm_support': 0.0245, 'top_up_by_bank_transfer_charge': 0.023, 'wrong_exchange_rate_for_cash_withdrawal': 0.023, 'verify_source_of_funds': 0.0148, 'verify_top_up': 0.0144, 'country_support': 0.0132, 'beneficiary_not_allowed': 0.0127, 'automatic_top_up': 0.0121, 'apple_pay_or_google_pay': 0.0092, 'lost_or_stolen_phone': 0.0074, 'terminate_account': 0.0067, 'transaction_charged_twice': 0.0044}\n",
      "\u001b[31mSentence:\u001b[0m When will I get my card? \n",
      "\n",
      "\u001b[34mPrediction:\u001b[0m {'card_delivery_estimate': 0.8562, 'pending_card_payment': 0.7885, 'card_arrival': 0.5478, 'lost_or_stolen_card': 0.4803, 'card_acceptance': 0.3846, 'reverted_card_payment?': 0.3694, 'pending_transfer': 0.325, 'get_physical_card': 0.2968, 'order_physical_card': 0.207, 'compromised_card': 0.1658, 'pin_blocked': 0.1646, 'pending_cash_withdrawal': 0.1484, 'transfer_timing': 0.1466, 'getting_spare_card': 0.1149, 'getting_virtual_card': 0.096, 'card_linking': 0.0878, 'virtual_card_not_working': 0.0863, 'declined_transfer': 0.0788, 'card_not_working': 0.0719, 'pending_top_up': 0.0707, 'visa_or_mastercard': 0.07, 'passcode_forgotten': 0.0682, 'activate_my_card': 0.0627, 'contactless_not_working': 0.0622, 'verify_my_identity': 0.0609, 'card_swallowed': 0.06, 'declined_cash_withdrawal': 0.0577, 'get_disposable_virtual_card': 0.0565, 'failed_transfer': 0.0539, 'supported_cards_and_currencies': 0.0503, 'declined_card_payment': 0.0493, 'exchange_via_app': 0.0401, 'why_verify_identity': 0.0397, 'exchange_charge': 0.034, 'fiat_currency_support': 0.0327, 'card_payment_not_recognised': 0.0319, 'balance_not_updated_after_cheque_or_cash_deposit': 0.0265, 'Refund_not_showing_up': 0.0262, 'cash_withdrawal_not_recognised': 0.0251, 'card_payment_fee_charged': 0.025, 'top_up_reverted': 0.0247, 'unable_to_verify_identity': 0.0247, 'balance_not_updated_after_bank_transfer': 0.024, 'direct_debit_payment_not_recognised': 0.0234, 'edit_personal_details': 0.0232, 'card_about_to_expire': 0.0227, 'transfer_not_received_by_recipient': 0.0222, 'topping_up_by_card': 0.0214, 'age_limit': 0.0197, 'card_payment_wrong_exchange_rate': 0.0188, 'transfer_fee_charged': 0.017, 'top_up_by_cash_or_cheque': 0.0158, 'disposable_card_limits': 0.0157, 'change_pin': 0.0132, 'verify_source_of_funds': 0.0128, 'country_support': 0.0121, 'top_up_by_card_charge': 0.0108, 'extra_charge_on_statement': 0.0105, 'lost_or_stolen_phone': 0.0104, 'request_refund': 0.0104, 'cancel_transfer': 0.0103, 'atm_support': 0.0092, 'receiving_money': 0.0087, 'top_up_limits': 0.0086, 'cash_withdrawal_charge': 0.0075, 'transaction_charged_twice': 0.0072, 'top_up_by_bank_transfer_charge': 0.0069, 'verify_top_up': 0.006, 'wrong_exchange_rate_for_cash_withdrawal': 0.0059, 'transfer_into_account': 0.0058, 'automatic_top_up': 0.005, 'exchange_rate': 0.0041, 'apple_pay_or_google_pay': 0.0035, 'wrong_amount_of_cash_received': 0.0028, 'top_up_failed': 0.0021, 'terminate_account': 0.0012, 'beneficiary_not_allowed': 0.0006}\n",
      "\u001b[31mSentence:\u001b[0m Do you know if there is a tracking number for the new card you sent me? \n",
      "\n",
      "\u001b[34mPrediction:\u001b[0m {'card_linking': 0.0406, 'compromised_card': 0.0348, 'unable_to_verify_identity': 0.0288, 'card_acceptance': 0.0267, 'declined_transfer': 0.0206, 'get_physical_card': 0.0197, 'passcode_forgotten': 0.0177, 'card_delivery_estimate': 0.0168, 'pin_blocked': 0.0166, 'card_arrival': 0.016, 'reverted_card_payment?': 0.0148, 'order_physical_card': 0.0143, 'supported_cards_and_currencies': 0.0106, 'pending_card_payment': 0.0103, 'why_verify_identity': 0.0102, 'pending_transfer': 0.0099, 'card_swallowed': 0.0098, 'getting_virtual_card': 0.0096, 'getting_spare_card': 0.0086, 'transfer_timing': 0.0086, 'exchange_charge': 0.0083, 'contactless_not_working': 0.0083, 'activate_my_card': 0.008, 'atm_support': 0.0079, 'verify_my_identity': 0.0072, 'receiving_money': 0.0071, 'change_pin': 0.0071, 'card_not_working': 0.0064, 'get_disposable_virtual_card': 0.0063, 'topping_up_by_card': 0.0061, 'exchange_via_app': 0.006, 'visa_or_mastercard': 0.006, 'top_up_reverted': 0.0053, 'card_payment_not_recognised': 0.0051, 'lost_or_stolen_card': 0.0049, 'virtual_card_not_working': 0.0047, 'edit_personal_details': 0.0047, 'card_about_to_expire': 0.0043, 'pending_cash_withdrawal': 0.0042, 'fiat_currency_support': 0.0041, 'card_payment_fee_charged': 0.0035, 'transfer_not_received_by_recipient': 0.0034, 'country_support': 0.0033, 'request_refund': 0.0032, 'declined_cash_withdrawal': 0.0032, 'declined_card_payment': 0.0031, 'direct_debit_payment_not_recognised': 0.003, 'disposable_card_limits': 0.0029, 'failed_transfer': 0.0025, 'balance_not_updated_after_bank_transfer': 0.0024, 'cash_withdrawal_not_recognised': 0.0024, 'balance_not_updated_after_cheque_or_cash_deposit': 0.0023, 'age_limit': 0.0023, 'verify_source_of_funds': 0.0022, 'automatic_top_up': 0.0021, 'transfer_fee_charged': 0.002, 'top_up_by_cash_or_cheque': 0.002, 'pending_top_up': 0.0019, 'top_up_by_card_charge': 0.0019, 'cancel_transfer': 0.0018, 'top_up_limits': 0.0017, 'verify_top_up': 0.0016, 'exchange_rate': 0.0015, 'lost_or_stolen_phone': 0.0015, 'card_payment_wrong_exchange_rate': 0.0014, 'transaction_charged_twice': 0.0014, 'wrong_exchange_rate_for_cash_withdrawal': 0.0013, 'cash_withdrawal_charge': 0.0013, 'wrong_amount_of_cash_received': 0.0012, 'top_up_by_bank_transfer_charge': 0.001, 'Refund_not_showing_up': 0.001, 'extra_charge_on_statement': 0.001, 'beneficiary_not_allowed': 0.0009, 'transfer_into_account': 0.0009, 'top_up_failed': 0.0008, 'terminate_account': 0.0005, 'apple_pay_or_google_pay': 0.0004}\n"
     ]
    },
    {
     "name": "stdout",
     "output_type": "stream",
     "text": [
      "\u001b[31mSentence:\u001b[0m i have not received my card \n",
      "\n",
      "\u001b[34mPrediction:\u001b[0m {'pending_card_payment': 0.9204, 'pending_transfer': 0.8726, 'failed_transfer': 0.8579, 'card_payment_not_recognised': 0.8114, 'card_not_working': 0.7187, 'card_delivery_estimate': 0.6956, 'declined_transfer': 0.627, 'pending_cash_withdrawal': 0.5498, 'pin_blocked': 0.394, 'transfer_not_received_by_recipient': 0.3481, 'contactless_not_working': 0.3406, 'declined_card_payment': 0.3279, 'lost_or_stolen_card': 0.3207, 'pending_top_up': 0.3149, 'passcode_forgotten': 0.3072, 'virtual_card_not_working': 0.3023, 'direct_debit_payment_not_recognised': 0.2902, 'card_swallowed': 0.2836, 'reverted_card_payment?': 0.1706, 'cash_withdrawal_not_recognised': 0.1639, 'unable_to_verify_identity': 0.1463, 'get_physical_card': 0.1376, 'Refund_not_showing_up': 0.1242, 'getting_spare_card': 0.1046, 'card_acceptance': 0.1002, 'declined_cash_withdrawal': 0.0727, 'order_physical_card': 0.0627, 'balance_not_updated_after_bank_transfer': 0.0575, 'compromised_card': 0.0569, 'top_up_failed': 0.0518, 'balance_not_updated_after_cheque_or_cash_deposit': 0.0374, 'cancel_transfer': 0.0328, 'request_refund': 0.0309, 'disposable_card_limits': 0.03, 'getting_virtual_card': 0.0271, 'visa_or_mastercard': 0.0263, 'card_linking': 0.024, 'verify_my_identity': 0.0238, 'supported_cards_and_currencies': 0.0235, 'card_about_to_expire': 0.0228, 'why_verify_identity': 0.0203, 'card_payment_wrong_exchange_rate': 0.0182, 'get_disposable_virtual_card': 0.0171, 'edit_personal_details': 0.0162, 'card_arrival': 0.0154, 'activate_my_card': 0.0141, 'card_payment_fee_charged': 0.0138, 'lost_or_stolen_phone': 0.0135, 'transfer_timing': 0.0129, 'exchange_charge': 0.0121, 'age_limit': 0.0103, 'top_up_by_cash_or_cheque': 0.0096, 'exchange_via_app': 0.0095, 'transfer_fee_charged': 0.0084, 'fiat_currency_support': 0.0079, 'top_up_reverted': 0.0078, 'topping_up_by_card': 0.0075, 'wrong_amount_of_cash_received': 0.0074, 'extra_charge_on_statement': 0.0064, 'exchange_rate': 0.0063, 'wrong_exchange_rate_for_cash_withdrawal': 0.006, 'change_pin': 0.0058, 'beneficiary_not_allowed': 0.0055, 'top_up_by_card_charge': 0.005, 'cash_withdrawal_charge': 0.0049, 'atm_support': 0.0045, 'terminate_account': 0.0044, 'country_support': 0.004, 'top_up_limits': 0.0039, 'transfer_into_account': 0.0037, 'receiving_money': 0.0036, 'verify_source_of_funds': 0.0036, 'top_up_by_bank_transfer_charge': 0.0029, 'verify_top_up': 0.0025, 'apple_pay_or_google_pay': 0.0018, 'automatic_top_up': 0.0014, 'transaction_charged_twice': 0.0013}\n",
      "\u001b[31mSentence:\u001b[0m still waiting on that card \n",
      "\n",
      "\u001b[34mPrediction:\u001b[0m {'pending_card_payment': 0.5349, 'card_not_working': 0.4985, 'pending_transfer': 0.2771, 'unable_to_verify_identity': 0.2491, 'balance_not_updated_after_cheque_or_cash_deposit': 0.2425, 'balance_not_updated_after_bank_transfer': 0.1998, 'card_delivery_estimate': 0.1987, 'card_acceptance': 0.1946, 'pending_cash_withdrawal': 0.156, 'pin_blocked': 0.1313, 'virtual_card_not_working': 0.1281, 'order_physical_card': 0.1101, 'card_payment_not_recognised': 0.1041, 'contactless_not_working': 0.1036, 'getting_spare_card': 0.1031, 'reverted_card_payment?': 0.1029, 'get_physical_card': 0.0949, 'compromised_card': 0.0938, 'declined_transfer': 0.0846, 'transfer_not_received_by_recipient': 0.081, 'declined_card_payment': 0.0752, 'failed_transfer': 0.0706, 'pending_top_up': 0.0703, 'getting_virtual_card': 0.0701, 'direct_debit_payment_not_recognised': 0.0537, 'passcode_forgotten': 0.0523, 'card_arrival': 0.0522, 'declined_cash_withdrawal': 0.0468, 'visa_or_mastercard': 0.0452, 'get_disposable_virtual_card': 0.0436, 'card_about_to_expire': 0.0435, 'card_swallowed': 0.0384, 'card_linking': 0.0369, 'lost_or_stolen_card': 0.0346, 'cash_withdrawal_not_recognised': 0.0307, 'activate_my_card': 0.028, 'why_verify_identity': 0.0266, 'exchange_charge': 0.0248, 'verify_my_identity': 0.0213, 'Refund_not_showing_up': 0.0211, 'fiat_currency_support': 0.0198, 'supported_cards_and_currencies': 0.0176, 'topping_up_by_card': 0.0171, 'disposable_card_limits': 0.0168, 'age_limit': 0.0165, 'atm_support': 0.0161, 'extra_charge_on_statement': 0.0158, 'change_pin': 0.0146, 'cancel_transfer': 0.0142, 'edit_personal_details': 0.0134, 'transfer_timing': 0.0133, 'top_up_reverted': 0.0131, 'card_payment_wrong_exchange_rate': 0.0129, 'card_payment_fee_charged': 0.0125, 'verify_source_of_funds': 0.0125, 'request_refund': 0.0113, 'top_up_by_card_charge': 0.0113, 'receiving_money': 0.0105, 'transfer_fee_charged': 0.0099, 'country_support': 0.0088, 'top_up_by_cash_or_cheque': 0.0082, 'exchange_rate': 0.0064, 'cash_withdrawal_charge': 0.006, 'top_up_limits': 0.0057, 'top_up_by_bank_transfer_charge': 0.0055, 'exchange_via_app': 0.0054, 'wrong_amount_of_cash_received': 0.0052, 'transfer_into_account': 0.0051, 'verify_top_up': 0.0038, 'apple_pay_or_google_pay': 0.0036, 'wrong_exchange_rate_for_cash_withdrawal': 0.0035, 'top_up_failed': 0.0031, 'transaction_charged_twice': 0.0023, 'lost_or_stolen_phone': 0.0022, 'automatic_top_up': 0.0016, 'terminate_account': 0.0015, 'beneficiary_not_allowed': 0.0008}\n",
      "\u001b[31mSentence:\u001b[0m Is it normal to have to wait over a week for my new card? \n",
      "\n",
      "\u001b[34mPrediction:\u001b[0m {'card_delivery_estimate': 0.1106, 'card_acceptance': 0.0915, 'card_not_working': 0.0807, 'pin_blocked': 0.0769, 'reverted_card_payment?': 0.0644, 'declined_transfer': 0.0524, 'compromised_card': 0.0462, 'get_physical_card': 0.0444, 'order_physical_card': 0.0423, 'card_swallowed': 0.0378, 'pending_transfer': 0.034, 'failed_transfer': 0.0332, 'unable_to_verify_identity': 0.0298, 'pending_card_payment': 0.0292, 'transfer_timing': 0.0274, 'contactless_not_working': 0.0273, 'getting_spare_card': 0.0235, 'declined_card_payment': 0.0196, 'card_linking': 0.0192, 'virtual_card_not_working': 0.0184, 'receiving_money': 0.017, 'card_arrival': 0.0157, 'disposable_card_limits': 0.0155, 'getting_virtual_card': 0.0155, 'fiat_currency_support': 0.0136, 'card_payment_not_recognised': 0.0132, 'passcode_forgotten': 0.0123, 'activate_my_card': 0.012, 'change_pin': 0.0119, 'card_about_to_expire': 0.0116, 'exchange_charge': 0.0116, 'visa_or_mastercard': 0.0115, 'get_disposable_virtual_card': 0.0114, 'pending_cash_withdrawal': 0.0114, 'age_limit': 0.0103, 'declined_cash_withdrawal': 0.0096, 'supported_cards_and_currencies': 0.0092, 'top_up_failed': 0.0086, 'verify_my_identity': 0.0085, 'top_up_reverted': 0.0079, 'cash_withdrawal_not_recognised': 0.0075, 'country_support': 0.0075, 'card_payment_fee_charged': 0.0074, 'balance_not_updated_after_cheque_or_cash_deposit': 0.0069, 'transfer_not_received_by_recipient': 0.0069, 'why_verify_identity': 0.0069, 'pending_top_up': 0.0069, 'edit_personal_details': 0.0066, 'atm_support': 0.0063, 'balance_not_updated_after_bank_transfer': 0.0061, 'top_up_limits': 0.0059, 'request_refund': 0.0059, 'direct_debit_payment_not_recognised': 0.0057, 'exchange_via_app': 0.0054, 'cancel_transfer': 0.0052, 'topping_up_by_card': 0.0047, 'card_payment_wrong_exchange_rate': 0.0046, 'transfer_fee_charged': 0.0042, 'lost_or_stolen_card': 0.0037, 'verify_source_of_funds': 0.0037, 'exchange_rate': 0.0036, 'wrong_amount_of_cash_received': 0.0035, 'Refund_not_showing_up': 0.0033, 'wrong_exchange_rate_for_cash_withdrawal': 0.0028, 'transaction_charged_twice': 0.0024, 'top_up_by_card_charge': 0.0024, 'verify_top_up': 0.0022, 'cash_withdrawal_charge': 0.0021, 'top_up_by_bank_transfer_charge': 0.002, 'extra_charge_on_statement': 0.0019, 'transfer_into_account': 0.0017, 'top_up_by_cash_or_cheque': 0.0015, 'terminate_account': 0.001, 'lost_or_stolen_phone': 0.0008, 'apple_pay_or_google_pay': 0.0008, 'beneficiary_not_allowed': 0.0007, 'automatic_top_up': 0.0007}\n",
      "\u001b[31mSentence:\u001b[0m How do I track my card? \n",
      "\n",
      "\u001b[34mPrediction:\u001b[0m {'card_linking': 0.3716, 'lost_or_stolen_card': 0.2415, 'compromised_card': 0.1918, 'get_physical_card': 0.1449, 'reverted_card_payment?': 0.1257, 'why_verify_identity': 0.1097, 'order_physical_card': 0.1044, 'card_acceptance': 0.0876, 'virtual_card_not_working': 0.0801, 'card_not_working': 0.0763, 'card_about_to_expire': 0.0721, 'supported_cards_and_currencies': 0.0579, 'passcode_forgotten': 0.0555, 'getting_virtual_card': 0.055, 'getting_spare_card': 0.0452, 'card_swallowed': 0.0424, 'verify_my_identity': 0.0408, 'pending_card_payment': 0.0295, 'pin_blocked': 0.0294, 'atm_support': 0.0293, 'get_disposable_virtual_card': 0.029, 'visa_or_mastercard': 0.0287, 'declined_card_payment': 0.0272, 'card_payment_not_recognised': 0.0254, 'unable_to_verify_identity': 0.0253, 'contactless_not_working': 0.0251, 'card_delivery_estimate': 0.0241, 'fiat_currency_support': 0.0207, 'activate_my_card': 0.0196, 'declined_transfer': 0.0191, 'balance_not_updated_after_bank_transfer': 0.0174, 'direct_debit_payment_not_recognised': 0.0166, 'edit_personal_details': 0.0154, 'declined_cash_withdrawal': 0.0153, 'card_arrival': 0.0147, 'card_payment_fee_charged': 0.0146, 'balance_not_updated_after_cheque_or_cash_deposit': 0.0146, 'cash_withdrawal_not_recognised': 0.0141, 'disposable_card_limits': 0.014, 'change_pin': 0.0131, 'exchange_via_app': 0.0125, 'topping_up_by_card': 0.0104, 'pending_transfer': 0.0101, 'pending_cash_withdrawal': 0.0099, 'top_up_reverted': 0.0087, 'transaction_charged_twice': 0.0083, 'country_support': 0.0081, 'Refund_not_showing_up': 0.008, 'verify_source_of_funds': 0.0076, 'card_payment_wrong_exchange_rate': 0.0072, 'transfer_not_received_by_recipient': 0.0067, 'exchange_charge': 0.0065, 'transfer_fee_charged': 0.0065, 'failed_transfer': 0.0055, 'pending_top_up': 0.0055, 'receiving_money': 0.0053, 'transfer_timing': 0.005, 'extra_charge_on_statement': 0.0049, 'age_limit': 0.0046, 'lost_or_stolen_phone': 0.0038, 'top_up_by_card_charge': 0.0035, 'top_up_limits': 0.0035, 'wrong_amount_of_cash_received': 0.0033, 'top_up_by_bank_transfer_charge': 0.0026, 'top_up_by_cash_or_cheque': 0.0025, 'automatic_top_up': 0.0025, 'request_refund': 0.0025, 'cash_withdrawal_charge': 0.0023, 'apple_pay_or_google_pay': 0.0023, 'transfer_into_account': 0.0022, 'cancel_transfer': 0.002, 'wrong_exchange_rate_for_cash_withdrawal': 0.0019, 'verify_top_up': 0.0016, 'exchange_rate': 0.0015, 'top_up_failed': 0.0015, 'terminate_account': 0.0011, 'beneficiary_not_allowed': 0.0007}\n"
     ]
    },
    {
     "name": "stdout",
     "output_type": "stream",
     "text": [
      "\u001b[31mSentence:\u001b[0m How long does a card delivery take? \n",
      "\n",
      "\u001b[34mPrediction:\u001b[0m {'card_delivery_estimate': 0.3711, 'card_acceptance': 0.0781, 'get_physical_card': 0.0391, 'card_arrival': 0.0335, 'getting_spare_card': 0.0311, 'order_physical_card': 0.0302, 'card_swallowed': 0.0287, 'reverted_card_payment?': 0.0234, 'card_linking': 0.0211, 'get_disposable_virtual_card': 0.0192, 'getting_virtual_card': 0.0183, 'pending_card_payment': 0.0179, 'supported_cards_and_currencies': 0.0165, 'compromised_card': 0.0165, 'passcode_forgotten': 0.0134, 'topping_up_by_card': 0.0125, 'transfer_timing': 0.0124, 'pin_blocked': 0.0114, 'virtual_card_not_working': 0.0104, 'disposable_card_limits': 0.01, 'card_about_to_expire': 0.0094, 'activate_my_card': 0.0093, 'card_payment_fee_charged': 0.0086, 'edit_personal_details': 0.0078, 'card_not_working': 0.0077, 'declined_card_payment': 0.0076, 'verify_my_identity': 0.007, 'visa_or_mastercard': 0.0069, 'unable_to_verify_identity': 0.006, 'declined_transfer': 0.0058, 'card_payment_not_recognised': 0.0055, 'contactless_not_working': 0.0054, 'why_verify_identity': 0.0053, 'lost_or_stolen_card': 0.0051, 'change_pin': 0.005, 'balance_not_updated_after_cheque_or_cash_deposit': 0.0047, 'exchange_via_app': 0.0045, 'transfer_not_received_by_recipient': 0.0044, 'exchange_charge': 0.0044, 'direct_debit_payment_not_recognised': 0.0043, 'atm_support': 0.0043, 'fiat_currency_support': 0.0042, 'top_up_reverted': 0.0041, 'pending_transfer': 0.004, 'top_up_by_cash_or_cheque': 0.004, 'top_up_by_card_charge': 0.0033, 'receiving_money': 0.0033, 'declined_cash_withdrawal': 0.0033, 'pending_cash_withdrawal': 0.0032, 'request_refund': 0.0032, 'balance_not_updated_after_bank_transfer': 0.003, 'card_payment_wrong_exchange_rate': 0.003, 'top_up_limits': 0.0029, 'cash_withdrawal_not_recognised': 0.0026, 'country_support': 0.0025, 'Refund_not_showing_up': 0.0024, 'pending_top_up': 0.0023, 'transfer_fee_charged': 0.0023, 'transaction_charged_twice': 0.0022, 'age_limit': 0.0021, 'automatic_top_up': 0.002, 'verify_source_of_funds': 0.002, 'verify_top_up': 0.0018, 'extra_charge_on_statement': 0.0018, 'top_up_by_bank_transfer_charge': 0.0015, 'cancel_transfer': 0.0012, 'exchange_rate': 0.0012, 'transfer_into_account': 0.0011, 'wrong_exchange_rate_for_cash_withdrawal': 0.0011, 'wrong_amount_of_cash_received': 0.0011, 'top_up_failed': 0.0011, 'cash_withdrawal_charge': 0.001, 'failed_transfer': 0.001, 'apple_pay_or_google_pay': 0.0009, 'terminate_account': 0.0008, 'beneficiary_not_allowed': 0.0004, 'lost_or_stolen_phone': 0.0004}\n",
      "\u001b[31mSentence:\u001b[0m I still don't have my card after 2 weeks. \n",
      "\n",
      "\u001b[34mPrediction:\u001b[0m {'card_not_working': 0.9267, 'failed_transfer': 0.891, 'lost_or_stolen_card': 0.7487, 'card_delivery_estimate': 0.5825, 'passcode_forgotten': 0.5746, 'pending_card_payment': 0.4945, 'declined_transfer': 0.4899, 'card_swallowed': 0.4864, 'pin_blocked': 0.4745, 'virtual_card_not_working': 0.4413, 'compromised_card': 0.4339, 'contactless_not_working': 0.401, 'top_up_failed': 0.3849, 'get_physical_card': 0.3391, 'Refund_not_showing_up': 0.3349, 'getting_spare_card': 0.3095, 'card_linking': 0.2735, 'disposable_card_limits': 0.2366, 'pending_transfer': 0.2275, 'reverted_card_payment?': 0.2228, 'card_acceptance': 0.2211, 'transfer_not_received_by_recipient': 0.202, 'getting_virtual_card': 0.1724, 'declined_card_payment': 0.1546, 'cancel_transfer': 0.1509, 'unable_to_verify_identity': 0.146, 'card_payment_not_recognised': 0.1407, 'order_physical_card': 0.1403, 'balance_not_updated_after_cheque_or_cash_deposit': 0.1392, 'transfer_timing': 0.1377, 'pending_cash_withdrawal': 0.1231, 'get_disposable_virtual_card': 0.1211, 'balance_not_updated_after_bank_transfer': 0.1133, 'lost_or_stolen_phone': 0.1066, 'visa_or_mastercard': 0.1049, 'declined_cash_withdrawal': 0.1045, 'exchange_charge': 0.093, 'activate_my_card': 0.0912, 'supported_cards_and_currencies': 0.0799, 'why_verify_identity': 0.0763, 'card_about_to_expire': 0.0751, 'edit_personal_details': 0.0693, 'transfer_fee_charged': 0.0622, 'request_refund': 0.0521, 'verify_my_identity': 0.0515, 'card_payment_fee_charged': 0.0488, 'pending_top_up': 0.047, 'cash_withdrawal_not_recognised': 0.0443, 'receiving_money': 0.0424, 'exchange_via_app': 0.0407, 'top_up_limits': 0.0395, 'change_pin': 0.0387, 'age_limit': 0.036, 'card_arrival': 0.0352, 'fiat_currency_support': 0.035, 'country_support': 0.0332, 'direct_debit_payment_not_recognised': 0.0328, 'top_up_reverted': 0.0325, 'card_payment_wrong_exchange_rate': 0.0285, 'exchange_rate': 0.028, 'topping_up_by_card': 0.0255, 'atm_support': 0.0221, 'transfer_into_account': 0.0206, 'wrong_exchange_rate_for_cash_withdrawal': 0.0203, 'top_up_by_cash_or_cheque': 0.0201, 'extra_charge_on_statement': 0.0188, 'beneficiary_not_allowed': 0.0152, 'cash_withdrawal_charge': 0.0152, 'terminate_account': 0.0147, 'wrong_amount_of_cash_received': 0.0147, 'top_up_by_card_charge': 0.0126, 'top_up_by_bank_transfer_charge': 0.0107, 'verify_top_up': 0.0084, 'verify_source_of_funds': 0.0082, 'transaction_charged_twice': 0.0063, 'apple_pay_or_google_pay': 0.0042, 'automatic_top_up': 0.0039}\n",
      "\u001b[31mSentence:\u001b[0m What should I do? \n",
      "\n",
      "\u001b[34mPrediction:\u001b[0m {'card_not_working': 0.4248, 'reverted_card_payment?': 0.3545, 'contactless_not_working': 0.322, 'compromised_card': 0.2985, 'virtual_card_not_working': 0.2652, 'card_payment_not_recognised': 0.2238, 'pin_blocked': 0.1817, 'declined_card_payment': 0.1749, 'cash_withdrawal_not_recognised': 0.1352, 'passcode_forgotten': 0.1222, 'balance_not_updated_after_cheque_or_cash_deposit': 0.1065, 'lost_or_stolen_phone': 0.105, 'direct_debit_payment_not_recognised': 0.0983, 'card_about_to_expire': 0.0973, 'declined_cash_withdrawal': 0.0951, 'unable_to_verify_identity': 0.0888, 'card_payment_wrong_exchange_rate': 0.0885, 'lost_or_stolen_card': 0.0864, 'card_swallowed': 0.0859, 'declined_transfer': 0.0845, 'balance_not_updated_after_bank_transfer': 0.084, 'Refund_not_showing_up': 0.0704, 'get_disposable_virtual_card': 0.0641, 'transfer_fee_charged': 0.0586, 'pending_cash_withdrawal': 0.0447, 'fiat_currency_support': 0.0437, 'card_payment_fee_charged': 0.0428, 'order_physical_card': 0.0416, 'failed_transfer': 0.0386, 'request_refund': 0.0381, 'transfer_not_received_by_recipient': 0.038, 'pending_card_payment': 0.0375, 'exchange_charge': 0.0367, 'getting_spare_card': 0.0366, 'card_delivery_estimate': 0.0344, 'visa_or_mastercard': 0.0334, 'get_physical_card': 0.033, 'pending_transfer': 0.0327, 'transaction_charged_twice': 0.0314, 'verify_source_of_funds': 0.0309, 'disposable_card_limits': 0.0308, 'wrong_exchange_rate_for_cash_withdrawal': 0.0303, 'top_up_reverted': 0.0299, 'extra_charge_on_statement': 0.0275, 'why_verify_identity': 0.027, 'change_pin': 0.0265, 'age_limit': 0.0261, 'exchange_via_app': 0.0253, 'getting_virtual_card': 0.025, 'verify_my_identity': 0.024, 'edit_personal_details': 0.0239, 'supported_cards_and_currencies': 0.0236, 'card_acceptance': 0.0234, 'card_linking': 0.0228, 'activate_my_card': 0.0224, 'cash_withdrawal_charge': 0.0213, 'top_up_by_cash_or_cheque': 0.0192, 'terminate_account': 0.0163, 'atm_support': 0.0161, 'transfer_timing': 0.0159, 'cancel_transfer': 0.0159, 'country_support': 0.0156, 'receiving_money': 0.015, 'pending_top_up': 0.0122, 'top_up_limits': 0.0114, 'card_arrival': 0.0111, 'exchange_rate': 0.0102, 'top_up_by_card_charge': 0.0098, 'topping_up_by_card': 0.0097, 'wrong_amount_of_cash_received': 0.0081, 'automatic_top_up': 0.008, 'top_up_by_bank_transfer_charge': 0.0079, 'verify_top_up': 0.007, 'apple_pay_or_google_pay': 0.0066, 'transfer_into_account': 0.0059, 'top_up_failed': 0.0052, 'beneficiary_not_allowed': 0.0027}\n",
      "\u001b[31mSentence:\u001b[0m still waiting on my new card \n",
      "\n",
      "\u001b[34mPrediction:\u001b[0m {'pending_transfer': 0.578, 'pending_card_payment': 0.351, 'card_delivery_estimate': 0.2007, 'card_acceptance': 0.1868, 'pin_blocked': 0.1263, 'passcode_forgotten': 0.1088, 'pending_cash_withdrawal': 0.1053, 'pending_top_up': 0.0924, 'order_physical_card': 0.0809, 'reverted_card_payment?': 0.0722, 'unable_to_verify_identity': 0.0669, 'get_physical_card': 0.0668, 'declined_transfer': 0.0582, 'card_payment_not_recognised': 0.0549, 'transfer_not_received_by_recipient': 0.0532, 'declined_card_payment': 0.052, 'balance_not_updated_after_bank_transfer': 0.0513, 'card_arrival': 0.0462, 'visa_or_mastercard': 0.0449, 'verify_my_identity': 0.0449, 'getting_virtual_card': 0.0445, 'getting_spare_card': 0.0444, 'fiat_currency_support': 0.044, 'card_swallowed': 0.0425, 'compromised_card': 0.0423, 'failed_transfer': 0.0394, 'supported_cards_and_currencies': 0.0379, 'declined_cash_withdrawal': 0.0374, 'balance_not_updated_after_cheque_or_cash_deposit': 0.036, 'exchange_charge': 0.0353, 'activate_my_card': 0.0353, 'card_not_working': 0.0328, 'top_up_reverted': 0.0315, 'contactless_not_working': 0.0299, 'direct_debit_payment_not_recognised': 0.0299, 'card_payment_fee_charged': 0.0254, 'age_limit': 0.0252, 'card_linking': 0.0249, 'cash_withdrawal_not_recognised': 0.0236, 'virtual_card_not_working': 0.0215, 'why_verify_identity': 0.0204, 'edit_personal_details': 0.0202, 'get_disposable_virtual_card': 0.0198, 'disposable_card_limits': 0.0196, 'transfer_timing': 0.0186, 'transfer_fee_charged': 0.0178, 'receiving_money': 0.0177, 'topping_up_by_card': 0.0162, 'wrong_amount_of_cash_received': 0.0144, 'change_pin': 0.0133, 'extra_charge_on_statement': 0.0127, 'exchange_via_app': 0.0124, 'top_up_by_cash_or_cheque': 0.0123, 'top_up_by_card_charge': 0.0116, 'card_payment_wrong_exchange_rate': 0.0112, 'card_about_to_expire': 0.0103, 'country_support': 0.01, 'lost_or_stolen_card': 0.0098, 'verify_source_of_funds': 0.0098, 'atm_support': 0.0093, 'exchange_rate': 0.0081, 'top_up_limits': 0.0081, 'transfer_into_account': 0.0081, 'wrong_exchange_rate_for_cash_withdrawal': 0.0079, 'cancel_transfer': 0.0077, 'cash_withdrawal_charge': 0.0069, 'top_up_by_bank_transfer_charge': 0.0067, 'Refund_not_showing_up': 0.0056, 'transaction_charged_twice': 0.0043, 'verify_top_up': 0.0037, 'automatic_top_up': 0.0035, 'request_refund': 0.0035, 'apple_pay_or_google_pay': 0.0034, 'top_up_failed': 0.0029, 'lost_or_stolen_phone': 0.0028, 'terminate_account': 0.0013, 'beneficiary_not_allowed': 0.0012}\n"
     ]
    },
    {
     "name": "stdout",
     "output_type": "stream",
     "text": [
      "\u001b[31mSentence:\u001b[0m I am still waiting for my card after 1 week. \n",
      "\n",
      "\u001b[34mPrediction:\u001b[0m {'failed_transfer': 0.8337, 'pending_card_payment': 0.7525, 'card_not_working': 0.6236, 'pending_transfer': 0.6071, 'pin_blocked': 0.5322, 'card_delivery_estimate': 0.4697, 'card_acceptance': 0.3969, 'declined_transfer': 0.3573, 'pending_cash_withdrawal': 0.3484, 'transfer_not_received_by_recipient': 0.3238, 'reverted_card_payment?': 0.3207, 'top_up_failed': 0.2695, 'unable_to_verify_identity': 0.227, 'get_physical_card': 0.2269, 'virtual_card_not_working': 0.2238, 'order_physical_card': 0.2205, 'getting_spare_card': 0.2148, 'card_payment_not_recognised': 0.2092, 'card_swallowed': 0.1938, 'activate_my_card': 0.1805, 'transfer_timing': 0.1632, 'pending_top_up': 0.163, 'getting_virtual_card': 0.1603, 'exchange_charge': 0.1424, 'Refund_not_showing_up': 0.1388, 'card_linking': 0.1335, 'lost_or_stolen_card': 0.1296, 'balance_not_updated_after_bank_transfer': 0.1247, 'declined_card_payment': 0.1206, 'contactless_not_working': 0.1159, 'passcode_forgotten': 0.1091, 'visa_or_mastercard': 0.1074, 'cancel_transfer': 0.0985, 'balance_not_updated_after_cheque_or_cash_deposit': 0.098, 'compromised_card': 0.0962, 'receiving_money': 0.0962, 'disposable_card_limits': 0.0925, 'direct_debit_payment_not_recognised': 0.0917, 'card_arrival': 0.0856, 'fiat_currency_support': 0.0825, 'supported_cards_and_currencies': 0.0801, 'verify_my_identity': 0.0784, 'transfer_fee_charged': 0.0743, 'why_verify_identity': 0.0709, 'declined_cash_withdrawal': 0.067, 'top_up_reverted': 0.0585, 'country_support': 0.0557, 'card_payment_fee_charged': 0.0553, 'edit_personal_details': 0.0539, 'get_disposable_virtual_card': 0.0534, 'topping_up_by_card': 0.0529, 'cash_withdrawal_not_recognised': 0.0473, 'age_limit': 0.0458, 'atm_support': 0.0414, 'exchange_via_app': 0.0386, 'change_pin': 0.0363, 'card_payment_wrong_exchange_rate': 0.035, 'top_up_limits': 0.0338, 'transfer_into_account': 0.028, 'request_refund': 0.0279, 'top_up_by_cash_or_cheque': 0.0275, 'exchange_rate': 0.0247, 'cash_withdrawal_charge': 0.0233, 'extra_charge_on_statement': 0.0225, 'top_up_by_card_charge': 0.0209, 'card_about_to_expire': 0.0176, 'verify_source_of_funds': 0.0176, 'top_up_by_bank_transfer_charge': 0.0165, 'lost_or_stolen_phone': 0.0145, 'verify_top_up': 0.0138, 'wrong_exchange_rate_for_cash_withdrawal': 0.0124, 'beneficiary_not_allowed': 0.0098, 'automatic_top_up': 0.0097, 'wrong_amount_of_cash_received': 0.0079, 'apple_pay_or_google_pay': 0.0059, 'transaction_charged_twice': 0.0055, 'terminate_account': 0.0043}\n",
      "\u001b[31mSentence:\u001b[0m Is this ok? \n",
      "\n",
      "\u001b[34mPrediction:\u001b[0m {'reverted_card_payment?': 0.4377, 'compromised_card': 0.1641, 'declined_card_payment': 0.0925, 'passcode_forgotten': 0.0851, 'fiat_currency_support': 0.0802, 'get_disposable_virtual_card': 0.0799, 'pin_blocked': 0.0728, 'card_acceptance': 0.072, 'declined_cash_withdrawal': 0.0717, 'card_swallowed': 0.0646, 'card_not_working': 0.0641, 'balance_not_updated_after_cheque_or_cash_deposit': 0.0604, 'order_physical_card': 0.0569, 'age_limit': 0.0513, 'exchange_via_app': 0.0511, 'why_verify_identity': 0.0482, 'verify_source_of_funds': 0.0455, 'virtual_card_not_working': 0.0435, 'pending_card_payment': 0.0419, 'transaction_charged_twice': 0.0419, 'disposable_card_limits': 0.0415, 'card_payment_wrong_exchange_rate': 0.0402, 'transfer_fee_charged': 0.0396, 'declined_transfer': 0.0388, 'exchange_charge': 0.038, 'request_refund': 0.0375, 'card_about_to_expire': 0.0364, 'top_up_reverted': 0.0362, 'card_linking': 0.036, 'extra_charge_on_statement': 0.0343, 'card_delivery_estimate': 0.0341, 'get_physical_card': 0.0335, 'balance_not_updated_after_bank_transfer': 0.0331, 'getting_spare_card': 0.0315, 'visa_or_mastercard': 0.0297, 'transfer_timing': 0.0295, 'lost_or_stolen_card': 0.0293, 'card_payment_fee_charged': 0.0289, 'atm_support': 0.0288, 'verify_my_identity': 0.0288, 'card_payment_not_recognised': 0.0285, 'unable_to_verify_identity': 0.0282, 'change_pin': 0.0282, 'getting_virtual_card': 0.0281, 'pending_transfer': 0.028, 'cash_withdrawal_not_recognised': 0.0277, 'edit_personal_details': 0.0274, 'supported_cards_and_currencies': 0.027, 'activate_my_card': 0.0263, 'pending_cash_withdrawal': 0.0251, 'failed_transfer': 0.0248, 'receiving_money': 0.0246, 'transfer_not_received_by_recipient': 0.0226, 'direct_debit_payment_not_recognised': 0.0222, 'lost_or_stolen_phone': 0.0206, 'topping_up_by_card': 0.0202, 'Refund_not_showing_up': 0.02, 'automatic_top_up': 0.0186, 'top_up_by_cash_or_cheque': 0.0181, 'cash_withdrawal_charge': 0.0162, 'country_support': 0.0161, 'contactless_not_working': 0.016, 'cancel_transfer': 0.0158, 'exchange_rate': 0.0155, 'top_up_limits': 0.0153, 'verify_top_up': 0.0142, 'pending_top_up': 0.0135, 'terminate_account': 0.0133, 'top_up_by_card_charge': 0.0117, 'card_arrival': 0.0116, 'transfer_into_account': 0.0107, 'top_up_by_bank_transfer_charge': 0.0092, 'apple_pay_or_google_pay': 0.0063, 'wrong_exchange_rate_for_cash_withdrawal': 0.0059, 'wrong_amount_of_cash_received': 0.0027, 'top_up_failed': 0.0017, 'beneficiary_not_allowed': 0.0001}\n",
      "\u001b[31mSentence:\u001b[0m I have been waiting longer than expected for my bank card, could you provide information on when it will arrive? \n",
      "\n",
      "\u001b[34mPrediction:\u001b[0m {'card_delivery_estimate': 0.379, 'card_not_working': 0.3584, 'compromised_card': 0.3292, 'pending_card_payment': 0.2903, 'transfer_timing': 0.2416, 'card_acceptance': 0.2087, 'pending_transfer': 0.1805, 'declined_transfer': 0.1549, 'card_arrival': 0.1272, 'reverted_card_payment?': 0.1208, 'failed_transfer': 0.107, 'pending_cash_withdrawal': 0.0996, 'card_linking': 0.0938, 'card_swallowed': 0.0917, 'declined_card_payment': 0.0797, 'get_physical_card': 0.0722, 'pin_blocked': 0.0701, 'virtual_card_not_working': 0.0673, 'supported_cards_and_currencies': 0.0654, 'atm_support': 0.0592, 'receiving_money': 0.0501, 'unable_to_verify_identity': 0.0489, 'order_physical_card': 0.0431, 'card_payment_not_recognised': 0.0428, 'fiat_currency_support': 0.0373, 'declined_cash_withdrawal': 0.0372, 'getting_spare_card': 0.0359, 'edit_personal_details': 0.0346, 'contactless_not_working': 0.0312, 'card_payment_fee_charged': 0.0312, 'activate_my_card': 0.031, 'disposable_card_limits': 0.0301, 'getting_virtual_card': 0.029, 'change_pin': 0.0277, 'transfer_fee_charged': 0.0269, 'passcode_forgotten': 0.0266, 'country_support': 0.0249, 'verify_my_identity': 0.0238, 'cash_withdrawal_not_recognised': 0.0237, 'exchange_charge': 0.0208, 'exchange_via_app': 0.02, 'get_disposable_virtual_card': 0.0197, 'transfer_not_received_by_recipient': 0.0192, 'direct_debit_payment_not_recognised': 0.0179, 'pending_top_up': 0.0152, 'topping_up_by_card': 0.014, 'top_up_reverted': 0.0139, 'request_refund': 0.0137, 'visa_or_mastercard': 0.0136, 'why_verify_identity': 0.0136, 'top_up_failed': 0.0135, 'verify_source_of_funds': 0.0112, 'lost_or_stolen_card': 0.0105, 'cash_withdrawal_charge': 0.0105, 'top_up_limits': 0.0101, 'balance_not_updated_after_cheque_or_cash_deposit': 0.01, 'Refund_not_showing_up': 0.0097, 'age_limit': 0.0095, 'card_about_to_expire': 0.0094, 'card_payment_wrong_exchange_rate': 0.0089, 'top_up_by_cash_or_cheque': 0.0088, 'cancel_transfer': 0.008, 'balance_not_updated_after_bank_transfer': 0.0074, 'top_up_by_card_charge': 0.0072, 'extra_charge_on_statement': 0.0069, 'exchange_rate': 0.0066, 'verify_top_up': 0.0047, 'wrong_exchange_rate_for_cash_withdrawal': 0.0043, 'top_up_by_bank_transfer_charge': 0.0039, 'transaction_charged_twice': 0.0038, 'transfer_into_account': 0.0036, 'wrong_amount_of_cash_received': 0.0031, 'terminate_account': 0.0029, 'automatic_top_up': 0.0028, 'apple_pay_or_google_pay': 0.0022, 'beneficiary_not_allowed': 0.0017, 'lost_or_stolen_phone': 0.0014}\n",
      "\u001b[31mSentence:\u001b[0m I've been waiting longer than expected for my card. \n",
      "\n",
      "\u001b[34mPrediction:\u001b[0m {'card_not_working': 0.8867, 'pending_card_payment': 0.8572, 'card_delivery_estimate': 0.8228, 'card_acceptance': 0.6816, 'pending_transfer': 0.665, 'pending_cash_withdrawal': 0.6058, 'failed_transfer': 0.572, 'virtual_card_not_working': 0.525, 'reverted_card_payment?': 0.4661, 'pin_blocked': 0.455, 'contactless_not_working': 0.3648, 'getting_spare_card': 0.3556, 'card_swallowed': 0.3394, 'order_physical_card': 0.3383, 'get_physical_card': 0.3349, 'declined_transfer': 0.3015, 'card_payment_not_recognised': 0.2874, 'activate_my_card': 0.2651, 'pending_top_up': 0.2429, 'transfer_not_received_by_recipient': 0.2378, 'card_about_to_expire': 0.2045, 'declined_card_payment': 0.2041, 'transfer_timing': 0.1857, 'compromised_card': 0.1754, 'disposable_card_limits': 0.1752, 'top_up_failed': 0.1731, 'card_linking': 0.1656, 'Refund_not_showing_up': 0.1532, 'card_arrival': 0.1525, 'getting_virtual_card': 0.1439, 'unable_to_verify_identity': 0.1429, 'exchange_charge': 0.1246, 'visa_or_mastercard': 0.1146, 'passcode_forgotten': 0.114, 'declined_cash_withdrawal': 0.1128, 'verify_my_identity': 0.112, 'lost_or_stolen_card': 0.1027, 'supported_cards_and_currencies': 0.1014, 'get_disposable_virtual_card': 0.0955, 'card_payment_fee_charged': 0.0951, 'balance_not_updated_after_cheque_or_cash_deposit': 0.0881, 'fiat_currency_support': 0.0873, 'direct_debit_payment_not_recognised': 0.0831, 'cash_withdrawal_not_recognised': 0.0814, 'request_refund': 0.0805, 'edit_personal_details': 0.0751, 'why_verify_identity': 0.0711, 'balance_not_updated_after_bank_transfer': 0.0704, 'cancel_transfer': 0.0695, 'top_up_reverted': 0.0684, 'transfer_fee_charged': 0.0675, 'card_payment_wrong_exchange_rate': 0.0672, 'age_limit': 0.0652, 'topping_up_by_card': 0.0625, 'receiving_money': 0.0614, 'top_up_limits': 0.0497, 'change_pin': 0.0435, 'exchange_via_app': 0.0398, 'cash_withdrawal_charge': 0.035, 'wrong_exchange_rate_for_cash_withdrawal': 0.033, 'wrong_amount_of_cash_received': 0.032, 'extra_charge_on_statement': 0.0292, 'top_up_by_card_charge': 0.026, 'atm_support': 0.024, 'transfer_into_account': 0.0236, 'country_support': 0.023, 'top_up_by_cash_or_cheque': 0.0178, 'exchange_rate': 0.017, 'verify_top_up': 0.0167, 'verify_source_of_funds': 0.0165, 'top_up_by_bank_transfer_charge': 0.0139, 'transaction_charged_twice': 0.011, 'terminate_account': 0.0086, 'beneficiary_not_allowed': 0.0065, 'apple_pay_or_google_pay': 0.0059, 'automatic_top_up': 0.0049, 'lost_or_stolen_phone': 0.0033}\n"
     ]
    },
    {
     "name": "stdout",
     "output_type": "stream",
     "text": [
      "\u001b[31mSentence:\u001b[0m Why hasn't my card been delivered? \n",
      "\n",
      "\u001b[34mPrediction:\u001b[0m {'order_physical_card': 0.3274, 'card_not_working': 0.3091, 'reverted_card_payment?': 0.2668, 'card_delivery_estimate': 0.2109, 'get_physical_card': 0.2102, 'getting_spare_card': 0.1794, 'pending_card_payment': 0.1527, 'card_acceptance': 0.1496, 'card_swallowed': 0.1089, 'failed_transfer': 0.096, 'compromised_card': 0.0908, 'request_refund': 0.0841, 'card_payment_not_recognised': 0.0724, 'virtual_card_not_working': 0.0644, 'card_linking': 0.0592, 'Refund_not_showing_up': 0.0575, 'getting_virtual_card': 0.0557, 'transfer_not_received_by_recipient': 0.0532, 'unable_to_verify_identity': 0.0456, 'activate_my_card': 0.0453, 'direct_debit_payment_not_recognised': 0.0389, 'pending_transfer': 0.0387, 'supported_cards_and_currencies': 0.0383, 'contactless_not_working': 0.0378, 'lost_or_stolen_card': 0.0374, 'card_arrival': 0.0362, 'get_disposable_virtual_card': 0.0356, 'declined_transfer': 0.0329, 'pin_blocked': 0.0324, 'declined_card_payment': 0.0291, 'passcode_forgotten': 0.0288, 'cash_withdrawal_not_recognised': 0.0246, 'visa_or_mastercard': 0.0245, 'card_about_to_expire': 0.0242, 'why_verify_identity': 0.0239, 'verify_my_identity': 0.0237, 'pending_cash_withdrawal': 0.0231, 'balance_not_updated_after_cheque_or_cash_deposit': 0.0177, 'topping_up_by_card': 0.0175, 'edit_personal_details': 0.0174, 'disposable_card_limits': 0.017, 'fiat_currency_support': 0.0152, 'exchange_charge': 0.0147, 'balance_not_updated_after_bank_transfer': 0.0135, 'exchange_via_app': 0.0129, 'transfer_timing': 0.0125, 'card_payment_fee_charged': 0.0123, 'atm_support': 0.0109, 'pending_top_up': 0.0103, 'change_pin': 0.0096, 'declined_cash_withdrawal': 0.0087, 'country_support': 0.0084, 'card_payment_wrong_exchange_rate': 0.0084, 'top_up_failed': 0.0082, 'top_up_reverted': 0.0082, 'verify_source_of_funds': 0.0069, 'transfer_fee_charged': 0.0061, 'top_up_limits': 0.006, 'age_limit': 0.0054, 'cancel_transfer': 0.0041, 'extra_charge_on_statement': 0.0041, 'receiving_money': 0.0036, 'top_up_by_card_charge': 0.0035, 'wrong_amount_of_cash_received': 0.0032, 'top_up_by_cash_or_cheque': 0.0031, 'cash_withdrawal_charge': 0.0031, 'wrong_exchange_rate_for_cash_withdrawal': 0.0029, 'verify_top_up': 0.0029, 'automatic_top_up': 0.0025, 'lost_or_stolen_phone': 0.0023, 'exchange_rate': 0.0023, 'transfer_into_account': 0.0023, 'top_up_by_bank_transfer_charge': 0.0019, 'transaction_charged_twice': 0.0018, 'terminate_account': 0.0014, 'beneficiary_not_allowed': 0.0014, 'apple_pay_or_google_pay': 0.0013}\n",
      "\u001b[31mSentence:\u001b[0m Can the card be mailed and used in Europe? \n",
      "\n",
      "\u001b[34mPrediction:\u001b[0m {'card_acceptance': 0.4671, 'compromised_card': 0.1537, 'card_delivery_estimate': 0.1317, 'order_physical_card': 0.1165, 'passcode_forgotten': 0.0985, 'card_linking': 0.0975, 'country_support': 0.0773, 'reverted_card_payment?': 0.0707, 'card_swallowed': 0.062, 'getting_spare_card': 0.061, 'get_disposable_virtual_card': 0.0531, 'visa_or_mastercard': 0.0524, 'topping_up_by_card': 0.0476, 'get_physical_card': 0.0468, 'pin_blocked': 0.0433, 'getting_virtual_card': 0.0411, 'declined_transfer': 0.0352, 'fiat_currency_support': 0.0345, 'disposable_card_limits': 0.0333, 'card_not_working': 0.0331, 'atm_support': 0.0306, 'card_about_to_expire': 0.0301, 'supported_cards_and_currencies': 0.0295, 'why_verify_identity': 0.029, 'age_limit': 0.023, 'edit_personal_details': 0.023, 'lost_or_stolen_card': 0.0224, 'activate_my_card': 0.0212, 'verify_my_identity': 0.0209, 'top_up_limits': 0.0196, 'exchange_charge': 0.0195, 'top_up_reverted': 0.0195, 'virtual_card_not_working': 0.0177, 'unable_to_verify_identity': 0.0166, 'change_pin': 0.0157, 'declined_card_payment': 0.0142, 'exchange_rate': 0.0138, 'contactless_not_working': 0.0121, 'card_payment_not_recognised': 0.0119, 'transfer_timing': 0.0104, 'pending_transfer': 0.0101, 'pending_card_payment': 0.0098, 'top_up_by_card_charge': 0.0097, 'card_payment_fee_charged': 0.0095, 'automatic_top_up': 0.0093, 'verify_source_of_funds': 0.0092, 'card_arrival': 0.0089, 'transfer_not_received_by_recipient': 0.0083, 'request_refund': 0.0082, 'direct_debit_payment_not_recognised': 0.0068, 'transfer_fee_charged': 0.0066, 'cash_withdrawal_not_recognised': 0.006, 'card_payment_wrong_exchange_rate': 0.0059, 'exchange_via_app': 0.0057, 'verify_top_up': 0.0055, 'failed_transfer': 0.0051, 'declined_cash_withdrawal': 0.0045, 'balance_not_updated_after_cheque_or_cash_deposit': 0.0041, 'extra_charge_on_statement': 0.0039, 'receiving_money': 0.0039, 'transaction_charged_twice': 0.0039, 'balance_not_updated_after_bank_transfer': 0.0038, 'pending_top_up': 0.0033, 'cancel_transfer': 0.0031, 'wrong_exchange_rate_for_cash_withdrawal': 0.003, 'wrong_amount_of_cash_received': 0.0028, 'cash_withdrawal_charge': 0.0027, 'top_up_by_cash_or_cheque': 0.0026, 'Refund_not_showing_up': 0.0026, 'pending_cash_withdrawal': 0.0024, 'transfer_into_account': 0.0023, 'top_up_by_bank_transfer_charge': 0.0022, 'terminate_account': 0.0014, 'apple_pay_or_google_pay': 0.0013, 'top_up_failed': 0.0013, 'lost_or_stolen_phone': 0.0005, 'beneficiary_not_allowed': 0.0002}\n"
     ]
    }
   ],
   "source": [
    "for pack in pl.process_dataset(csv_path):\n",
    "    for sent in pack.get(Sentence):\n",
    "        sent_text = sent.text\n",
    "        print(colored(\"Sentence:\", \"red\"), sent_text, \"\\n\")\n",
    "        print(colored(\"Prediction:\", \"blue\"), sent.classification)"
   ]
  }
 ],
 "metadata": {
  "celltoolbar": "Tags",
  "interpreter": {
   "hash": "35c5ad93f26e4a012fe0ce2a15a836f7204b7396c27ea7588e034222fd2bde38"
  },
  "kernelspec": {
   "display_name": "forte_dev",
   "language": "python",
   "name": "forte_dev"
  },
  "language_info": {
   "codemirror_mode": {
    "name": "ipython",
    "version": 3
   },
   "file_extension": ".py",
   "mimetype": "text/x-python",
   "name": "python",
   "nbconvert_exporter": "python",
   "pygments_lexer": "ipython3",
   "version": "3.9.12"
  }
 },
 "nbformat": 4,
 "nbformat_minor": 2
}
