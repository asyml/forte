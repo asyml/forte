{
 "cells": [
  {
   "cell_type": "markdown",
   "id": "e1489859",
   "metadata": {},
   "source": [
    "# Zero Shot Text Classification Example\n",
    "\n",
    "In this tutorial we will walk through the text classification pipeline in forte, using zero shot text classification model from hugging face. We will also explore ways to improve our model accuracy with simple modifications."
   ]
  },
  {
   "cell_type": "markdown",
   "id": "c371c5c4",
   "metadata": {},
   "source": [
    "## Introduction\n",
    "Zero shot text classification is an extreme example of transfer learning, where the model tries to predict without any fine tuning. This kind of model predict classification result based on similarity between the input text and label name, so they don't require any labeled data. Well defined Label names are sufficient to achieve a reasonably performing model. We will be using [valhalla/distilbart-mnli-12-1](https://huggingface.co/valhalla/distilbart-mnli-12-1) as our text classification model, which was trained on [Multi-nli](https://huggingface.co/datasets/multi_nli) dataset to make predictions on a subset of amazon review sentiment [ARS](https://s3.amazonaws.com/fast-ai-nlp/amazon_review_polarity_csv.tgz) dataset and [Banking77](https://raw.githubusercontent.com/PolyAI-LDN/task-specific-datasets/master/banking_data/test.csv) dataset. we will also see how the forte pipeline works seamlessly with different third party tools like [nltk](https://www.nltk.org/) and [huggingface](https://huggingface.co/) to make our life easier."
   ]
  },
  {
   "cell_type": "code",
   "execution_count": 1,
   "id": "74d18a5e",
   "metadata": {},
   "outputs": [
    {
     "name": "stderr",
     "output_type": "stream",
     "text": [
      "/l/users/bhaskar.rao/forte_dev/lib/python3.9/site-packages/tqdm/auto.py:22: TqdmWarning: IProgress not found. Please update jupyter and ipywidgets. See https://ipywidgets.readthedocs.io/en/stable/user_install.html\n",
      "  from .autonotebook import tqdm as notebook_tqdm\n"
     ]
    }
   ],
   "source": [
    "import os\n",
    "from termcolor import colored\n",
    "from forte.data.readers import ClassificationDatasetReader\n",
    "from fortex.huggingface import ZeroShotClassifier\n",
    "from forte.pipeline import Pipeline\n",
    "from fortex.nltk import NLTKSentenceSegmenter\n",
    "from ft.onto.base_ontology import Sentence\n",
    "from ft.onto.base_ontology import Document\n",
    "import pandas as pd\n",
    "from sklearn.metrics import accuracy_score\n",
    "from collections import Counter"
   ]
  },
  {
   "cell_type": "markdown",
   "id": "0cbb5b60",
   "metadata": {},
   "source": [
    "## Pipeline Initialization\n",
    "The code below initializes hyperparameters and the pipeline.\n",
    "- Csv_path : It is the path of the input csv file. In this example it'll be a subset of ARS test data.\n",
    "- Class_names : This is the most important hyperparameter in zero shot text classification. we need to choose label names which are meaningful.\n",
    "- Index2class : This is the numerical representation of class names.\n",
    "- [ClassificationDatasetReader_config](https://github.com/asyml/forte/blob/63577ce88fd5a42c3c5930f27181167c92ab2057/forte/data/readers/classification_reader.py) : It takes three essential field inputs\n",
    "    - forte_data_fields : It takes the column name of the csv file as input in sequential order.\n",
    "    - index2class : It the index2class dictionary as input.\n",
    "    - text_fields : It lets the pipeline know which column text in the csv file is used for making the prediction.\n",
    "- GPU : Assign the gpu number on which the model should run. Set it to -1 if you want to use CPU only."
   ]
  },
  {
   "cell_type": "code",
   "execution_count": 2,
   "id": "6a74183d",
   "metadata": {},
   "outputs": [
    {
     "name": "stderr",
     "output_type": "stream",
     "text": [
      "WARNING:root:Re-declared a new class named [ConstituentNode], which is probably used in import.\n",
      "[nltk_data] Downloading package punkt to\n",
      "[nltk_data]     /home/bhaskar.rao/nltk_data...\n",
      "[nltk_data]   Package punkt is already up-to-date!\n"
     ]
    }
   ],
   "source": [
    "# enter the path of the input csv file\n",
    "csv_path = \"../../data_samples/amazon_review_polarity_csv/amazon_sample_4.csv\"\n",
    "\n",
    "# label names\n",
    "Label_1='Negative'\n",
    "Label_2='Positive'\n",
    "class_names = [Label_1, Label_2]\n",
    "\n",
    "#numerical representation of class names\n",
    "index2class={0:Label_1,1: Label_2}\n",
    "\n",
    "#config for ClassificationDatasetReader()\n",
    "ClassificationDatasetReader_config = {\n",
    "    \"forte_data_fields\": [\n",
    "        \"label\",\n",
    "        \"ft.onto.base_ontology.Title\",\n",
    "        \"ft.onto.base_ontology.Body\",\n",
    "    ],\n",
    "    \"index2class\": index2class,\n",
    "    \"text_fields\": [\n",
    "        \"ft.onto.base_ontology.Body\"\n",
    "    ],\n",
    "}\n",
    "\n",
    "#cuda_device (-1 for cpu usage)\n",
    "GPU=0 \n",
    "\n",
    "#pipeline components\n",
    "pl = Pipeline()\n",
    "pl.set_reader(ClassificationDatasetReader(), config=ClassificationDatasetReader_config)\n",
    "pl.add(NLTKSentenceSegmenter()) # to segment each sentence from text.\n",
    "pl.add(ZeroShotClassifier(), config={\"candidate_labels\": class_names,\"cuda_device\":GPU})\n",
    "pl.initialize();"
   ]
  },
  {
   "cell_type": "markdown",
   "id": "3ce1f40b",
   "metadata": {},
   "source": [
    "## Data Visualization\n",
    "We will use pandas library to read the csv file and visualize the input data."
   ]
  },
  {
   "cell_type": "code",
   "execution_count": 3,
   "id": "2d2c7958",
   "metadata": {},
   "outputs": [
    {
     "data": {
      "text/html": [
       "<div>\n",
       "<style scoped>\n",
       "    .dataframe tbody tr th:only-of-type {\n",
       "        vertical-align: middle;\n",
       "    }\n",
       "\n",
       "    .dataframe tbody tr th {\n",
       "        vertical-align: top;\n",
       "    }\n",
       "\n",
       "    .dataframe thead th {\n",
       "        text-align: right;\n",
       "    }\n",
       "</style>\n",
       "<table border=\"1\" class=\"dataframe\">\n",
       "  <thead>\n",
       "    <tr style=\"text-align: right;\">\n",
       "      <th></th>\n",
       "      <th>label</th>\n",
       "      <th>Title</th>\n",
       "      <th>description</th>\n",
       "    </tr>\n",
       "  </thead>\n",
       "  <tbody>\n",
       "    <tr>\n",
       "      <th>0</th>\n",
       "      <td>1</td>\n",
       "      <td>THIS IS A USED BATTERY</td>\n",
       "      <td>States this in a new battery but IT IS USED! C...</td>\n",
       "    </tr>\n",
       "    <tr>\n",
       "      <th>1</th>\n",
       "      <td>2</td>\n",
       "      <td>Wow - What Service!</td>\n",
       "      <td>I received this product less than 24 hours aft...</td>\n",
       "    </tr>\n",
       "    <tr>\n",
       "      <th>2</th>\n",
       "      <td>1</td>\n",
       "      <td>Very boring-gave up on it</td>\n",
       "      <td>Cook reintroduced some old characters using th...</td>\n",
       "    </tr>\n",
       "    <tr>\n",
       "      <th>3</th>\n",
       "      <td>1</td>\n",
       "      <td>not VISTA compatible</td>\n",
       "      <td>the cord works but the driver does NOT work fo...</td>\n",
       "    </tr>\n",
       "  </tbody>\n",
       "</table>\n",
       "</div>"
      ],
      "text/plain": [
       "   label                      Title  \\\n",
       "0      1     THIS IS A USED BATTERY   \n",
       "1      2        Wow - What Service!   \n",
       "2      1  Very boring-gave up on it   \n",
       "3      1       not VISTA compatible   \n",
       "\n",
       "                                         description  \n",
       "0  States this in a new battery but IT IS USED! C...  \n",
       "1  I received this product less than 24 hours aft...  \n",
       "2  Cook reintroduced some old characters using th...  \n",
       "3  the cord works but the driver does NOT work fo...  "
      ]
     },
     "execution_count": 3,
     "metadata": {},
     "output_type": "execute_result"
    }
   ],
   "source": [
    "df=pd.read_csv(csv_path)\n",
    "df.head()"
   ]
  },
  {
   "cell_type": "code",
   "execution_count": 4,
   "id": "59598ef3",
   "metadata": {},
   "outputs": [
    {
     "data": {
      "text/plain": [
       "'States this in a new battery but IT IS USED! Contacts are worn, dints in the plastic and scratches.AccessoryOneCondition Seller Information Ready to buy?$6.96+ $2.98shippingNew'"
      ]
     },
     "execution_count": 4,
     "metadata": {},
     "output_type": "execute_result"
    }
   ],
   "source": [
    "# first row description text\n",
    "df['description'][0]"
   ]
  },
  {
   "cell_type": "markdown",
   "id": "52bdacf6",
   "metadata": {},
   "source": [
    "## Prediction\n",
    "We will predict a few sentences from the description column using the above pipeline. we can see the NLTKSentenceSegmenter( ) has split the text in each row of the input into individual sentences. Then ZeroShotClassifier( ) is making predictions for each sentence. The number besides the Label name is the confidence score for the prediction it made."
   ]
  },
  {
   "cell_type": "code",
   "execution_count": 5,
   "id": "1b448f31",
   "metadata": {},
   "outputs": [
    {
     "name": "stdout",
     "output_type": "stream",
     "text": [
      "\u001b[31mSentence:\u001b[0m States this in a new battery but IT IS USED!\n",
      "\u001b[34mPrediction:\u001b[0m {'Positive': 0.0789, 'Negative': 0.0529} \n",
      "\n",
      "\u001b[31mSentence:\u001b[0m Contacts are worn, dints in the plastic and scratches.AccessoryOneCondition Seller Information Ready to buy?$6.96+ $2.98shippingNew\n",
      "\u001b[34mPrediction:\u001b[0m {'Negative': 0.084, 'Positive': 0.013} \n",
      "\n",
      "-----------------------------------------------------------\n",
      "\u001b[31mSentence:\u001b[0m I received this product less than 24 hours after I ordered it - in Excellent condition.\n",
      "\u001b[34mPrediction:\u001b[0m {'Positive': 0.9996, 'Negative': 0.0008} \n",
      "\n",
      "\u001b[31mSentence:\u001b[0m Would Definitely use this vendor again!!\n",
      "\u001b[34mPrediction:\u001b[0m {'Positive': 0.978, 'Negative': 0.0003} \n",
      "\n",
      "\u001b[31mSentence:\u001b[0m Thanks.\n",
      "\u001b[34mPrediction:\u001b[0m {'Positive': 0.2642, 'Negative': 0.0941} \n",
      "\n",
      "-----------------------------------------------------------\n",
      "\u001b[31mSentence:\u001b[0m Cook reintroduced some old characters using the same story line descriptions.\n",
      "\u001b[34mPrediction:\u001b[0m {'Positive': 0.0302, 'Negative': 0.0082} \n",
      "\n",
      "\u001b[31mSentence:\u001b[0m I felt I was rereading a previously read novel.\n",
      "\u001b[34mPrediction:\u001b[0m {'Positive': 0.0429, 'Negative': 0.0195} \n",
      "\n",
      "\u001b[31mSentence:\u001b[0m Editors missed many writing errors which made for awkward sentences.\n",
      "\u001b[34mPrediction:\u001b[0m {'Negative': 0.0147, 'Positive': 0.0044} \n",
      "\n",
      "\u001b[31mSentence:\u001b[0m I finished only half the book and gave up\n",
      "\u001b[34mPrediction:\u001b[0m {'Negative': 0.2044, 'Positive': 0.0238} \n",
      "\n",
      "-----------------------------------------------------------\n",
      "\u001b[31mSentence:\u001b[0m the cord works but the driver does NOT work for windows Vista.\n",
      "\u001b[34mPrediction:\u001b[0m {'Negative': 0.4667, 'Positive': 0.003} \n",
      "\n",
      "\u001b[31mSentence:\u001b[0m So, this was a waste of money for me.\n",
      "\u001b[34mPrediction:\u001b[0m {'Negative': 0.6693, 'Positive': 0.0041} \n",
      "\n",
      "\u001b[31mSentence:\u001b[0m I only bought it for the computer cord.\n",
      "\u001b[34mPrediction:\u001b[0m {'Positive': 0.0127, 'Negative': 0.0075} \n",
      "\n",
      "\u001b[31mSentence:\u001b[0m Can't use it now.\n",
      "\u001b[34mPrediction:\u001b[0m {'Negative': 0.9409, 'Positive': 0.009} \n",
      "\n",
      "-----------------------------------------------------------\n"
     ]
    }
   ],
   "source": [
    "for pack in pl.process_dataset(csv_path):\n",
    "    for sent in pack.get(Sentence):\n",
    "        sent_text = sent.text\n",
    "        print(colored(\"Sentence:\", \"red\"), sent_text)\n",
    "        print(colored(\"Prediction:\", \"blue\"), sent.classification, \"\\n\")\n",
    "    print('-----------------------------------------------------------')"
   ]
  },
  {
   "cell_type": "code",
   "execution_count": 6,
   "id": "e3846e4c",
   "metadata": {},
   "outputs": [],
   "source": [
    "def get_class(prediction):\n",
    "    '''this function take a dictionary containing class names and probability score as key value pair,\n",
    "    and returns the class name with highest probability score.'''\n",
    "    return pd.DataFrame.from_dict(prediction,orient ='index')[0].idxmax()\n",
    "\n",
    "def aggregate_class_score(pack):\n",
    "    '''this function take a list of class names and returns the class name with highest frequency,\n",
    "    and prediction score base on its frequency'''\n",
    "    prediction_list=[]    \n",
    "    for sent in pack.get(Sentence):\n",
    "        predicted_class=get_class(sent.classification)\n",
    "        prediction_list.append(predicted_class)\n",
    "        \n",
    "    cnt=Counter(prediction_list)\n",
    "    \n",
    "    predicted_class=cnt.most_common()[0][0]\n",
    "        \n",
    "    predicted_score=cnt[predicted_class]/len(prediction_list)\n",
    "\n",
    "    return (predicted_class,predicted_score)"
   ]
  },
  {
   "cell_type": "markdown",
   "id": "ac3b2e02",
   "metadata": {},
   "source": [
    "## Aggregate Sentences\n",
    "In the above block we wrote two functions get_class and aggregate_class_score to aggregate the predictions of individual sentences in the text of one row. This helps us find a prediction for the whole text in a row."
   ]
  },
  {
   "cell_type": "code",
   "execution_count": 7,
   "id": "8457d023",
   "metadata": {},
   "outputs": [
    {
     "name": "stdout",
     "output_type": "stream",
     "text": [
      "States this in a new battery but IT IS USED! Contacts are worn, dints in the plastic and scratches.AccessoryOneCondition Seller Information Ready to buy?$6.96+ $2.98shippingNew \n",
      "\n",
      "\u001b[32mground_truth : \u001b[0m Negative \u001b[34m     predicted_class : \u001b[0m Positive \u001b[31m confidence score : \u001b[0m 0.5\n",
      "----------------------------------------------------------------------------------- \n",
      "\n",
      "I received this product less than 24 hours after I ordered it - in Excellent condition. Would Definitely use this vendor again!! Thanks. \n",
      "\n",
      "\u001b[32mground_truth : \u001b[0m Positive \u001b[34m     predicted_class : \u001b[0m Positive \u001b[31m confidence score : \u001b[0m 1.0\n",
      "----------------------------------------------------------------------------------- \n",
      "\n",
      "Cook reintroduced some old characters using the same story line descriptions. I felt I was rereading a previously read novel. Editors missed many writing errors which made for awkward sentences. I finished only half the book and gave up \n",
      "\n",
      "\u001b[32mground_truth : \u001b[0m Negative \u001b[34m     predicted_class : \u001b[0m Positive \u001b[31m confidence score : \u001b[0m 0.5\n",
      "----------------------------------------------------------------------------------- \n",
      "\n",
      "the cord works but the driver does NOT work for windows Vista. So, this was a waste of money for me. I only bought it for the computer cord. Can't use it now. \n",
      "\n",
      "\u001b[32mground_truth : \u001b[0m Negative \u001b[34m     predicted_class : \u001b[0m Negative \u001b[31m confidence score : \u001b[0m 0.75\n",
      "----------------------------------------------------------------------------------- \n",
      "\n"
     ]
    }
   ],
   "source": [
    "y_true=[]\n",
    "y_pred=[]\n",
    "for pack in pl.process_dataset(csv_path):\n",
    "    yt=next(pack.get(Document)).document_class[0]\n",
    "    yp,ys=aggregate_class_score(pack)    \n",
    "    y_true.append(yt)\n",
    "    y_pred.append(yp)\n",
    "    print(pack.text,'\\n')\n",
    "    print(colored('ground_truth : ','green'),\n",
    "          yt,colored('     predicted_class : ','blue'),\n",
    "          yp,colored(' confidence score : ','red'),ys)\n",
    "    print('-----------------------------------------------------------------------------------','\\n')"
   ]
  },
  {
   "cell_type": "markdown",
   "id": "29003d81",
   "metadata": {},
   "source": [
    "## Accuracy\n",
    "We'll use the sklearn library to evaluate accuracy. In the previous block we have stored the ground truth and prediction in two lists. accuracy_score from sklearn will take these as input and return the accuracy of the model."
   ]
  },
  {
   "cell_type": "code",
   "execution_count": 8,
   "id": "b182498a",
   "metadata": {},
   "outputs": [
    {
     "data": {
      "text/plain": [
       "0.5"
      ]
     },
     "execution_count": 8,
     "metadata": {},
     "output_type": "execute_result"
    }
   ],
   "source": [
    "accuracy_score(y_true, y_pred)"
   ]
  },
  {
   "cell_type": "markdown",
   "id": "62d24abc",
   "metadata": {},
   "source": [
    "## Experiment\n",
    "Here we will explore a way to improve accuracy of our model on a given dataset. As we know the zero_shot model makes predictions based on similarity between the input sentence and the class names. So we can experiment with different class names similar to the original class names, and find out which class names work best for our dataset."
   ]
  },
  {
   "cell_type": "code",
   "execution_count": 9,
   "id": "fdbd0f9c",
   "metadata": {},
   "outputs": [],
   "source": [
    "def accuracy(csv_path,Label_1='negative',Label_2='positive'):\n",
    "    '''This function unifies the initialization, prediction and accuracy evaluation.\n",
    "    It takes csv_path and class names as input and gives us the accuracy as output'''\n",
    "    class_names = [Label_1, Label_2]\n",
    "    index2class={0:Label_1,1: Label_2}\n",
    "    ClassificationDatasetReader_config = {\n",
    "        \"forte_data_fields\": [\n",
    "            \"label\",\n",
    "            \"ft.onto.base_ontology.Title\",\n",
    "            \"ft.onto.base_ontology.Body\",\n",
    "        ],\n",
    "        \"index2class\": index2class,\n",
    "        \"text_fields\": [\n",
    "            \"ft.onto.base_ontology.Body\"\n",
    "        ],\n",
    "        \n",
    "    }\n",
    "    GPU=0\n",
    "    pl = Pipeline()\n",
    "    pl.set_reader(ClassificationDatasetReader(), config=ClassificationDatasetReader_config)\n",
    "    pl.add(NLTKSentenceSegmenter())\n",
    "    pl.add(ZeroShotClassifier(), config={\"candidate_labels\": class_names,\"cuda_device\":GPU})\n",
    "    pl.initialize()\n",
    "\n",
    "    y_true=[]\n",
    "    y_pred=[]\n",
    "    for pack in pl.process_dataset(csv_path):\n",
    "        yt=next(pack.get(Document)).document_class[0]\n",
    "        yp,ys=aggregate_class_score(pack)    \n",
    "        y_true.append(yt)\n",
    "        y_pred.append(yp)\n",
    "    return accuracy_score(y_true, y_pred)"
   ]
  },
  {
   "cell_type": "code",
   "execution_count": 10,
   "id": "8dd5ccca",
   "metadata": {},
   "outputs": [],
   "source": [
    "''' Let's define a list of similar class names grouped into tuples.\n",
    "    Keep the order of the class names to be similar too. i.e. first negative word then positive word.\n",
    "    As we want to check the accuracy on different class names, we should increase the number of \n",
    "    sample data to get stable accuracy results. '''\n",
    "\n",
    "class_name_list=[('negative','positive'),\n",
    "                ('bad','good'),\n",
    "                ('unsatisfied','satisfied'),\n",
    "                ('unhappy','happy')]\n",
    "\n",
    "#if using cpu we ll use the small sample data used previously, it will keep the runtime low.\n",
    "if GPU != -1:\n",
    "    csv_path = \"../../data_samples/amazon_review_polarity_csv/amazon_sample_10k.csv\"\n"
   ]
  },
  {
   "cell_type": "code",
   "execution_count": 11,
   "id": "3ae62864",
   "metadata": {},
   "outputs": [
    {
     "name": "stderr",
     "output_type": "stream",
     "text": [
      "WARNING:root:Re-declared a new class named [ConstituentNode], which is probably used in import.\n",
      "[nltk_data] Downloading package punkt to\n",
      "[nltk_data]     /home/bhaskar.rao/nltk_data...\n",
      "[nltk_data]   Package punkt is already up-to-date!\n",
      "WARNING:root:Re-declared a new class named [ConstituentNode], which is probably used in import.\n"
     ]
    },
    {
     "name": "stdout",
     "output_type": "stream",
     "text": [
      "('negative', 'positive')  accuracy :  0.8603 \n",
      "\n"
     ]
    },
    {
     "name": "stderr",
     "output_type": "stream",
     "text": [
      "[nltk_data] Downloading package punkt to\n",
      "[nltk_data]     /home/bhaskar.rao/nltk_data...\n",
      "[nltk_data]   Package punkt is already up-to-date!\n",
      "WARNING:root:Re-declared a new class named [ConstituentNode], which is probably used in import.\n"
     ]
    },
    {
     "name": "stdout",
     "output_type": "stream",
     "text": [
      "('bad', 'good')  accuracy :  0.765 \n",
      "\n"
     ]
    },
    {
     "name": "stderr",
     "output_type": "stream",
     "text": [
      "[nltk_data] Downloading package punkt to\n",
      "[nltk_data]     /home/bhaskar.rao/nltk_data...\n",
      "[nltk_data]   Package punkt is already up-to-date!\n",
      "WARNING:root:Re-declared a new class named [ConstituentNode], which is probably used in import.\n"
     ]
    },
    {
     "name": "stdout",
     "output_type": "stream",
     "text": [
      "('unsatisfied', 'satisfied')  accuracy :  0.8651 \n",
      "\n"
     ]
    },
    {
     "name": "stderr",
     "output_type": "stream",
     "text": [
      "[nltk_data] Downloading package punkt to\n",
      "[nltk_data]     /home/bhaskar.rao/nltk_data...\n",
      "[nltk_data]   Package punkt is already up-to-date!\n"
     ]
    },
    {
     "name": "stdout",
     "output_type": "stream",
     "text": [
      "('unhappy', 'happy')  accuracy :  0.8022 \n",
      "\n"
     ]
    }
   ],
   "source": [
    "for i in class_name_list:\n",
    "    print(i,' accuracy : ',accuracy(csv_path,Label_1=i[0],Label_2=i[1]),'\\n')"
   ]
  },
  {
   "cell_type": "markdown",
   "id": "cf94f443",
   "metadata": {},
   "source": [
    "Accuracy of 86.03% on unseen data is exceptional performance from hugging face model. Zero shot is a powerful tool for low volume of label data problems. With intelligent selection of class names we can improve further. We can see that class names ('unsatisfied', 'satisfied') improved our accuracy a little bit compared to class names ('negative', 'positive'). "
   ]
  },
  {
   "cell_type": "markdown",
   "id": "4305f03f",
   "metadata": {},
   "source": [
    "# MultiClass classification\n",
    "In this section we will see how to do multiclass classification, using the same model and banking77 dataset."
   ]
  },
  {
   "cell_type": "code",
   "execution_count": 12,
   "id": "2faec03f",
   "metadata": {},
   "outputs": [
    {
     "data": {
      "text/html": [
       "<div>\n",
       "<style scoped>\n",
       "    .dataframe tbody tr th:only-of-type {\n",
       "        vertical-align: middle;\n",
       "    }\n",
       "\n",
       "    .dataframe tbody tr th {\n",
       "        vertical-align: top;\n",
       "    }\n",
       "\n",
       "    .dataframe thead th {\n",
       "        text-align: right;\n",
       "    }\n",
       "</style>\n",
       "<table border=\"1\" class=\"dataframe\">\n",
       "  <thead>\n",
       "    <tr style=\"text-align: right;\">\n",
       "      <th></th>\n",
       "      <th>text</th>\n",
       "      <th>category</th>\n",
       "    </tr>\n",
       "  </thead>\n",
       "  <tbody>\n",
       "    <tr>\n",
       "      <th>1764</th>\n",
       "      <td>There's a refund missing from my statement</td>\n",
       "      <td>Refund_not_showing_up</td>\n",
       "    </tr>\n",
       "    <tr>\n",
       "      <th>1082</th>\n",
       "      <td>I saw a payment i did not do</td>\n",
       "      <td>card_payment_not_recognised</td>\n",
       "    </tr>\n",
       "    <tr>\n",
       "      <th>3007</th>\n",
       "      <td>Is there a specific type you need for identity...</td>\n",
       "      <td>verify_my_identity</td>\n",
       "    </tr>\n",
       "    <tr>\n",
       "      <th>1441</th>\n",
       "      <td>Which ATMs accept this card?</td>\n",
       "      <td>atm_support</td>\n",
       "    </tr>\n",
       "    <tr>\n",
       "      <th>1440</th>\n",
       "      <td>Do all ATMs take this card?</td>\n",
       "      <td>atm_support</td>\n",
       "    </tr>\n",
       "  </tbody>\n",
       "</table>\n",
       "</div>"
      ],
      "text/plain": [
       "                                                   text  \\\n",
       "1764         There's a refund missing from my statement   \n",
       "1082                       I saw a payment i did not do   \n",
       "3007  Is there a specific type you need for identity...   \n",
       "1441                       Which ATMs accept this card?   \n",
       "1440                        Do all ATMs take this card?   \n",
       "\n",
       "                         category  \n",
       "1764        Refund_not_showing_up  \n",
       "1082  card_payment_not_recognised  \n",
       "3007           verify_my_identity  \n",
       "1441                  atm_support  \n",
       "1440                  atm_support  "
      ]
     },
     "execution_count": 12,
     "metadata": {},
     "output_type": "execute_result"
    }
   ],
   "source": [
    "csv_path = \"../../data_samples/banking77/sample.csv\"\n",
    "\n",
    "url='https://raw.githubusercontent.com/PolyAI-LDN/task-specific-datasets/master/banking_data/test.csv'\n",
    "df=pd.read_csv(url)\n",
    "df.sample(5)"
   ]
  },
  {
   "cell_type": "markdown",
   "id": "281ff5c9",
   "metadata": {},
   "source": [
    "Extracting class names from the banking77 test dataset."
   ]
  },
  {
   "cell_type": "code",
   "execution_count": 13,
   "id": "de21b58a",
   "metadata": {},
   "outputs": [],
   "source": [
    "class_names=df['category'].unique()"
   ]
  },
  {
   "cell_type": "code",
   "execution_count": 14,
   "id": "35e436b1",
   "metadata": {},
   "outputs": [],
   "source": [
    "index2class = dict(enumerate(class_names))"
   ]
  },
  {
   "cell_type": "markdown",
   "id": "0428f9e6",
   "metadata": {},
   "source": [
    "Here the config has been provided two additional parameters\n",
    "- digit_label : set to False, as we have text as category\n",
    "- one_based_index_label : If the labels start from one"
   ]
  },
  {
   "cell_type": "code",
   "execution_count": 15,
   "id": "9923236e",
   "metadata": {},
   "outputs": [],
   "source": [
    "this_reader_config = {\n",
    "    \"forte_data_fields\": [\n",
    "        \"ft.onto.base_ontology.Body\",\n",
    "        \"label\",\n",
    "    ],\n",
    "    \"index2class\": index2class,\n",
    "    \"text_fields\": [\n",
    "        \"ft.onto.base_ontology.Body\"\n",
    "    ],\n",
    "    \"digit_label\": False,\n",
    "    \"one_based_index_label\": False,\n",
    "}\n",
    "GPU=1"
   ]
  },
  {
   "cell_type": "code",
   "execution_count": 16,
   "id": "3cacfd25",
   "metadata": {},
   "outputs": [
    {
     "name": "stderr",
     "output_type": "stream",
     "text": [
      "WARNING:root:Re-declared a new class named [ConstituentNode], which is probably used in import.\n",
      "[nltk_data] Downloading package punkt to\n",
      "[nltk_data]     /home/bhaskar.rao/nltk_data...\n",
      "[nltk_data]   Package punkt is already up-to-date!\n"
     ]
    }
   ],
   "source": [
    "pl = Pipeline()\n",
    "pl.set_reader(ClassificationDatasetReader(), config=this_reader_config)\n",
    "pl.add(NLTKSentenceSegmenter())\n",
    "pl.add(ZeroShotClassifier(), config={\"candidate_labels\": class_names,\"cuda_device\":GPU})\n",
    "pl.initialize();"
   ]
  },
  {
   "cell_type": "markdown",
   "id": "2f3df6b1",
   "metadata": {},
   "source": [
    "The below code predicts the class of each sentence from 77 class names that we provided to the model."
   ]
  },
  {
   "cell_type": "code",
   "execution_count": 17,
   "id": "4dfda390",
   "metadata": {},
   "outputs": [
    {
     "name": "stdout",
     "output_type": "stream",
     "text": [
      "\u001b[31mSentence:\u001b[0m How do I locate my card? \n",
      "\n",
      "\u001b[34mPrediction:\u001b[0m {'lost_or_stolen_card': 0.4794, 'compromised_card': 0.3402, 'get_physical_card': 0.3204, 'card_linking': 0.2052, 'card_acceptance': 0.1594, 'passcode_forgotten': 0.1419, 'getting_spare_card': 0.139, 'order_physical_card': 0.1389, 'reverted_card_payment?': 0.1365, 'getting_virtual_card': 0.1057, 'virtual_card_not_working': 0.0658, 'why_verify_identity': 0.0624, 'card_not_working': 0.0616, 'get_disposable_virtual_card': 0.0608, 'card_swallowed': 0.0604, 'supported_cards_and_currencies': 0.0602, 'contactless_not_working': 0.0591, 'activate_my_card': 0.0576, 'verify_my_identity': 0.0558, 'card_payment_not_recognised': 0.0552, 'card_about_to_expire': 0.0424, 'visa_or_mastercard': 0.0393, 'pending_card_payment': 0.0383, 'card_arrival': 0.0375, 'cash_withdrawal_not_recognised': 0.0372, 'unable_to_verify_identity': 0.0322, 'declined_card_payment': 0.0293, 'card_delivery_estimate': 0.0261, 'declined_cash_withdrawal': 0.025, 'direct_debit_payment_not_recognised': 0.0244, 'pending_cash_withdrawal': 0.0241, 'pin_blocked': 0.0205, 'pending_transfer': 0.0204, 'exchange_via_app': 0.0192, 'declined_transfer': 0.0184, 'atm_support': 0.0182, 'edit_personal_details': 0.0165, 'card_payment_fee_charged': 0.016, 'fiat_currency_support': 0.0151, 'disposable_card_limits': 0.0142, 'balance_not_updated_after_bank_transfer': 0.0136, 'failed_transfer': 0.0116, 'exchange_charge': 0.0116, 'balance_not_updated_after_cheque_or_cash_deposit': 0.0112, 'transfer_fee_charged': 0.0091, 'top_up_reverted': 0.009, 'topping_up_by_card': 0.0088, 'change_pin': 0.0082, 'Refund_not_showing_up': 0.0081, 'card_payment_wrong_exchange_rate': 0.0074, 'verify_source_of_funds': 0.0073, 'country_support': 0.0072, 'request_refund': 0.0071, 'transfer_not_received_by_recipient': 0.0067, 'receiving_money': 0.0066, 'cash_withdrawal_charge': 0.0062, 'pending_top_up': 0.0055, 'top_up_by_cash_or_cheque': 0.0055, 'age_limit': 0.0048, 'extra_charge_on_statement': 0.0044, 'transfer_timing': 0.0044, 'transaction_charged_twice': 0.0042, 'top_up_by_card_charge': 0.0041, 'lost_or_stolen_phone': 0.004, 'cancel_transfer': 0.0035, 'top_up_limits': 0.0034, 'transfer_into_account': 0.0032, 'automatic_top_up': 0.003, 'top_up_by_bank_transfer_charge': 0.0029, 'verify_top_up': 0.0026, 'wrong_amount_of_cash_received': 0.0026, 'wrong_exchange_rate_for_cash_withdrawal': 0.0026, 'apple_pay_or_google_pay': 0.0019, 'top_up_failed': 0.0016, 'exchange_rate': 0.0015, 'terminate_account': 0.0013, 'beneficiary_not_allowed': 0.0008} \n",
      "\n",
      "\u001b[31mSentence:\u001b[0m I still have not received my new card, I ordered over a week ago. \n",
      "\n",
      "\u001b[34mPrediction:\u001b[0m {'pending_card_payment': 0.496, 'card_delivery_estimate': 0.3926, 'pending_transfer': 0.3231, 'card_not_working': 0.3158, 'transfer_not_received_by_recipient': 0.2327, 'failed_transfer': 0.1507, 'contactless_not_working': 0.1277, 'declined_transfer': 0.1101, 'order_physical_card': 0.1086, 'pending_cash_withdrawal': 0.1051, 'unable_to_verify_identity': 0.1, 'pin_blocked': 0.097, 'top_up_failed': 0.0947, 'card_acceptance': 0.0905, 'virtual_card_not_working': 0.0782, 'passcode_forgotten': 0.0733, 'card_payment_not_recognised': 0.0693, 'Refund_not_showing_up': 0.0668, 'card_linking': 0.0654, 'get_physical_card': 0.0624, 'pending_top_up': 0.0602, 'card_swallowed': 0.0568, 'compromised_card': 0.0537, 'exchange_charge': 0.0478, 'getting_virtual_card': 0.0443, 'supported_cards_and_currencies': 0.043, 'getting_spare_card': 0.0404, 'reverted_card_payment?': 0.0403, 'receiving_money': 0.0366, 'declined_card_payment': 0.0365, 'exchange_via_app': 0.0306, 'card_about_to_expire': 0.0267, 'fiat_currency_support': 0.0263, 'direct_debit_payment_not_recognised': 0.0253, 'exchange_rate': 0.0235, 'card_payment_fee_charged': 0.0233, 'visa_or_mastercard': 0.0231, 'why_verify_identity': 0.0231, 'age_limit': 0.0228, 'declined_cash_withdrawal': 0.0218, 'transfer_timing': 0.0211, 'topping_up_by_card': 0.0208, 'activate_my_card': 0.0208, 'cash_withdrawal_not_recognised': 0.0204, 'balance_not_updated_after_cheque_or_cash_deposit': 0.0202, 'top_up_reverted': 0.02, 'balance_not_updated_after_bank_transfer': 0.0195, 'verify_my_identity': 0.0193, 'change_pin': 0.0191, 'cancel_transfer': 0.0185, 'edit_personal_details': 0.0183, 'card_payment_wrong_exchange_rate': 0.0183, 'disposable_card_limits': 0.018, 'transfer_fee_charged': 0.018, 'request_refund': 0.0153, 'get_disposable_virtual_card': 0.0144, 'atm_support': 0.0144, 'top_up_by_card_charge': 0.0139, 'country_support': 0.0134, 'top_up_limits': 0.0119, 'lost_or_stolen_card': 0.0118, 'beneficiary_not_allowed': 0.0114, 'extra_charge_on_statement': 0.0105, 'cash_withdrawal_charge': 0.0102, 'wrong_exchange_rate_for_cash_withdrawal': 0.01, 'card_arrival': 0.0093, 'top_up_by_bank_transfer_charge': 0.0081, 'verify_source_of_funds': 0.0078, 'top_up_by_cash_or_cheque': 0.0074, 'wrong_amount_of_cash_received': 0.0064, 'transfer_into_account': 0.0063, 'lost_or_stolen_phone': 0.0055, 'verify_top_up': 0.005, 'apple_pay_or_google_pay': 0.0047, 'transaction_charged_twice': 0.0037, 'automatic_top_up': 0.0037, 'terminate_account': 0.0029} \n",
      "\n",
      "\u001b[31mSentence:\u001b[0m I ordered a card but it has not arrived. \n",
      "\n",
      "\u001b[34mPrediction:\u001b[0m {'pending_card_payment': 0.8703, 'card_delivery_estimate': 0.8394, 'card_not_working': 0.737, 'failed_transfer': 0.7276, 'pending_transfer': 0.6793, 'order_physical_card': 0.6103, 'transfer_not_received_by_recipient': 0.5265, 'declined_transfer': 0.4366, 'virtual_card_not_working': 0.43, 'Refund_not_showing_up': 0.4249, 'pending_cash_withdrawal': 0.4184, 'get_physical_card': 0.4056, 'top_up_failed': 0.4047, 'reverted_card_payment?': 0.4032, 'contactless_not_working': 0.3622, 'card_payment_not_recognised': 0.3351, 'unable_to_verify_identity': 0.3053, 'card_acceptance': 0.2558, 'pin_blocked': 0.2495, 'declined_card_payment': 0.2456, 'card_swallowed': 0.198, 'getting_spare_card': 0.1854, 'direct_debit_payment_not_recognised': 0.1786, 'pending_top_up': 0.172, 'getting_virtual_card': 0.165, 'lost_or_stolen_card': 0.1409, 'request_refund': 0.1398, 'card_linking': 0.1325, 'supported_cards_and_currencies': 0.131, 'get_disposable_virtual_card': 0.1155, 'compromised_card': 0.1137, 'passcode_forgotten': 0.1016, 'exchange_charge': 0.0995, 'visa_or_mastercard': 0.09, 'exchange_via_app': 0.0893, 'disposable_card_limits': 0.0872, 'balance_not_updated_after_cheque_or_cash_deposit': 0.087, 'activate_my_card': 0.0759, 'edit_personal_details': 0.0704, 'cash_withdrawal_not_recognised': 0.0692, 'verify_my_identity': 0.0607, 'cancel_transfer': 0.06, 'topping_up_by_card': 0.0592, 'card_payment_wrong_exchange_rate': 0.059, 'why_verify_identity': 0.0579, 'balance_not_updated_after_bank_transfer': 0.0497, 'fiat_currency_support': 0.0496, 'declined_cash_withdrawal': 0.0479, 'transfer_timing': 0.0469, 'card_payment_fee_charged': 0.045, 'receiving_money': 0.0431, 'transfer_fee_charged': 0.0384, 'exchange_rate': 0.0366, 'change_pin': 0.0335, 'age_limit': 0.0332, 'top_up_limits': 0.029, 'atm_support': 0.0274, 'top_up_reverted': 0.027, 'extra_charge_on_statement': 0.0257, 'top_up_by_card_charge': 0.0233, 'cash_withdrawal_charge': 0.0223, 'top_up_by_cash_or_cheque': 0.0213, 'verify_source_of_funds': 0.0206, 'country_support': 0.0182, 'card_about_to_expire': 0.0169, 'card_arrival': 0.0164, 'wrong_exchange_rate_for_cash_withdrawal': 0.0162, 'verify_top_up': 0.0133, 'transfer_into_account': 0.0118, 'top_up_by_bank_transfer_charge': 0.0095, 'wrong_amount_of_cash_received': 0.0093, 'beneficiary_not_allowed': 0.0089, 'automatic_top_up': 0.0073, 'terminate_account': 0.0072, 'apple_pay_or_google_pay': 0.0054, 'lost_or_stolen_phone': 0.0053, 'transaction_charged_twice': 0.0048} \n",
      "\n",
      "\u001b[31mSentence:\u001b[0m Help please! \n",
      "\n",
      "\u001b[34mPrediction:\u001b[0m {'card_not_working': 0.6807, 'contactless_not_working': 0.5552, 'passcode_forgotten': 0.4771, 'pin_blocked': 0.4078, 'virtual_card_not_working': 0.3236, 'card_payment_not_recognised': 0.2697, 'compromised_card': 0.2433, 'unable_to_verify_identity': 0.1722, 'direct_debit_payment_not_recognised': 0.1293, 'lost_or_stolen_card': 0.1163, 'reverted_card_payment?': 0.1131, 'declined_card_payment': 0.1109, 'cash_withdrawal_not_recognised': 0.1049, 'fiat_currency_support': 0.1028, 'lost_or_stolen_phone': 0.1006, 'card_swallowed': 0.0963, 'balance_not_updated_after_cheque_or_cash_deposit': 0.096, 'balance_not_updated_after_bank_transfer': 0.0751, 'card_payment_wrong_exchange_rate': 0.0726, 'card_about_to_expire': 0.0699, 'failed_transfer': 0.0667, 'Refund_not_showing_up': 0.0637, 'atm_support': 0.0635, 'declined_transfer': 0.0554, 'declined_cash_withdrawal': 0.0443, 'get_disposable_virtual_card': 0.0393, 'transfer_not_received_by_recipient': 0.038, 'order_physical_card': 0.0377, 'pending_card_payment': 0.0369, 'card_delivery_estimate': 0.0346, 'pending_transfer': 0.0327, 'getting_spare_card': 0.0308, 'disposable_card_limits': 0.029, 'transfer_fee_charged': 0.0277, 'age_limit': 0.0266, 'request_refund': 0.0266, 'edit_personal_details': 0.0264, 'country_support': 0.0261, 'card_linking': 0.0253, 'card_acceptance': 0.0247, 'change_pin': 0.0233, 'getting_virtual_card': 0.0229, 'wrong_exchange_rate_for_cash_withdrawal': 0.0219, 'top_up_reverted': 0.0215, 'extra_charge_on_statement': 0.0206, 'exchange_charge': 0.0201, 'get_physical_card': 0.0192, 'pending_cash_withdrawal': 0.0182, 'transaction_charged_twice': 0.0178, 'card_payment_fee_charged': 0.0175, 'exchange_via_app': 0.0164, 'wrong_amount_of_cash_received': 0.0156, 'transfer_timing': 0.0149, 'visa_or_mastercard': 0.0139, 'top_up_failed': 0.0135, 'verify_source_of_funds': 0.0121, 'why_verify_identity': 0.012, 'pending_top_up': 0.0118, 'activate_my_card': 0.0116, 'card_arrival': 0.0109, 'supported_cards_and_currencies': 0.0107, 'topping_up_by_card': 0.0102, 'verify_my_identity': 0.0099, 'top_up_limits': 0.0097, 'receiving_money': 0.0096, 'cancel_transfer': 0.0086, 'exchange_rate': 0.0084, 'terminate_account': 0.0079, 'beneficiary_not_allowed': 0.0074, 'top_up_by_cash_or_cheque': 0.0073, 'cash_withdrawal_charge': 0.0071, 'transfer_into_account': 0.0056, 'automatic_top_up': 0.005, 'top_up_by_card_charge': 0.0048, 'verify_top_up': 0.0045, 'apple_pay_or_google_pay': 0.0037, 'top_up_by_bank_transfer_charge': 0.0035} \n",
      "\n",
      "\u001b[31mSentence:\u001b[0m Is there a way to know when my card will arrive? \n",
      "\n",
      "\u001b[34mPrediction:\u001b[0m {'card_delivery_estimate': 0.2742, 'card_not_working': 0.1725, 'order_physical_card': 0.0866, 'card_acceptance': 0.0862, 'getting_spare_card': 0.0843, 'compromised_card': 0.0784, 'reverted_card_payment?': 0.0733, 'pending_card_payment': 0.069, 'card_arrival': 0.0688, 'card_linking': 0.0637, 'virtual_card_not_working': 0.0615, 'getting_virtual_card': 0.0603, 'get_physical_card': 0.0566, 'pending_transfer': 0.054, 'declined_transfer': 0.0477, 'transfer_timing': 0.0436, 'card_swallowed': 0.0374, 'pending_cash_withdrawal': 0.0327, 'unable_to_verify_identity': 0.0311, 'contactless_not_working': 0.0304, 'pin_blocked': 0.028, 'fiat_currency_support': 0.0228, 'supported_cards_and_currencies': 0.0216, 'activate_my_card': 0.0211, 'failed_transfer': 0.0179, 'receiving_money': 0.0161, 'get_disposable_virtual_card': 0.0147, 'passcode_forgotten': 0.0145, 'lost_or_stolen_card': 0.0143, 'visa_or_mastercard': 0.0134, 'why_verify_identity': 0.0134, 'pending_top_up': 0.013, 'card_about_to_expire': 0.011, 'atm_support': 0.0109, 'change_pin': 0.0107, 'topping_up_by_card': 0.0106, 'Refund_not_showing_up': 0.0102, 'declined_card_payment': 0.0102, 'exchange_charge': 0.0099, 'country_support': 0.0096, 'declined_cash_withdrawal': 0.0094, 'exchange_via_app': 0.0093, 'disposable_card_limits': 0.0085, 'card_payment_not_recognised': 0.0081, 'top_up_limits': 0.0076, 'direct_debit_payment_not_recognised': 0.007, 'edit_personal_details': 0.0067, 'card_payment_fee_charged': 0.0067, 'transfer_fee_charged': 0.0066, 'balance_not_updated_after_cheque_or_cash_deposit': 0.0062, 'age_limit': 0.006, 'top_up_reverted': 0.0055, 'verify_my_identity': 0.0053, 'cash_withdrawal_not_recognised': 0.0051, 'balance_not_updated_after_bank_transfer': 0.005, 'transfer_not_received_by_recipient': 0.0043, 'automatic_top_up': 0.0042, 'exchange_rate': 0.0041, 'wrong_exchange_rate_for_cash_withdrawal': 0.0038, 'card_payment_wrong_exchange_rate': 0.0035, 'verify_source_of_funds': 0.0035, 'request_refund': 0.0032, 'top_up_by_card_charge': 0.003, 'top_up_by_cash_or_cheque': 0.0029, 'transaction_charged_twice': 0.0028, 'verify_top_up': 0.0026, 'extra_charge_on_statement': 0.0026, 'cancel_transfer': 0.0024, 'cash_withdrawal_charge': 0.0024, 'wrong_amount_of_cash_received': 0.0023, 'top_up_by_bank_transfer_charge': 0.0023, 'top_up_failed': 0.0023, 'transfer_into_account': 0.0018, 'lost_or_stolen_phone': 0.0013, 'apple_pay_or_google_pay': 0.0009, 'terminate_account': 0.0008, 'beneficiary_not_allowed': 0.0005} \n",
      "\n",
      "\u001b[31mSentence:\u001b[0m My card has not arrived yet. \n",
      "\n",
      "\u001b[34mPrediction:\u001b[0m {'pending_card_payment': 0.9421, 'failed_transfer': 0.9253, 'card_delivery_estimate': 0.925, 'pending_transfer': 0.9202, 'pending_cash_withdrawal': 0.8322, 'transfer_not_received_by_recipient': 0.7352, 'declined_transfer': 0.7151, 'Refund_not_showing_up': 0.6876, 'pending_top_up': 0.6704, 'card_payment_not_recognised': 0.6136, 'declined_card_payment': 0.5725, 'pin_blocked': 0.5595, 'card_not_working': 0.5276, 'reverted_card_payment?': 0.473, 'balance_not_updated_after_bank_transfer': 0.4729, 'contactless_not_working': 0.4622, 'direct_debit_payment_not_recognised': 0.4402, 'balance_not_updated_after_cheque_or_cash_deposit': 0.3386, 'card_acceptance': 0.3379, 'unable_to_verify_identity': 0.3273, 'order_physical_card': 0.3152, 'virtual_card_not_working': 0.3123, 'get_physical_card': 0.2827, 'cash_withdrawal_not_recognised': 0.2648, 'top_up_failed': 0.2487, 'card_arrival': 0.2362, 'declined_cash_withdrawal': 0.2357, 'getting_virtual_card': 0.2312, 'passcode_forgotten': 0.2084, 'getting_spare_card': 0.1778, 'transfer_timing': 0.1697, 'visa_or_mastercard': 0.1628, 'receiving_money': 0.1439, 'card_swallowed': 0.1379, 'card_linking': 0.1376, 'disposable_card_limits': 0.12, 'activate_my_card': 0.1168, 'supported_cards_and_currencies': 0.1124, 'topping_up_by_card': 0.1059, 'request_refund': 0.0959, 'cancel_transfer': 0.0779, 'compromised_card': 0.067, 'transfer_fee_charged': 0.0651, 'fiat_currency_support': 0.0651, 'top_up_reverted': 0.0626, 'card_payment_fee_charged': 0.0591, 'edit_personal_details': 0.0582, 'top_up_limits': 0.0567, 'age_limit': 0.054, 'exchange_charge': 0.0519, 'card_payment_wrong_exchange_rate': 0.0501, 'why_verify_identity': 0.0469, 'verify_my_identity': 0.046, 'exchange_via_app': 0.0458, 'lost_or_stolen_card': 0.045, 'top_up_by_cash_or_cheque': 0.0411, 'get_disposable_virtual_card': 0.0408, 'wrong_amount_of_cash_received': 0.039, 'top_up_by_card_charge': 0.0377, 'change_pin': 0.0375, 'extra_charge_on_statement': 0.0347, 'cash_withdrawal_charge': 0.0338, 'card_about_to_expire': 0.0313, 'transfer_into_account': 0.0252, 'atm_support': 0.0245, 'exchange_rate': 0.0245, 'wrong_exchange_rate_for_cash_withdrawal': 0.023, 'top_up_by_bank_transfer_charge': 0.023, 'verify_source_of_funds': 0.0148, 'verify_top_up': 0.0143, 'country_support': 0.0132, 'beneficiary_not_allowed': 0.0127, 'automatic_top_up': 0.0121, 'apple_pay_or_google_pay': 0.0092, 'lost_or_stolen_phone': 0.0074, 'terminate_account': 0.0067, 'transaction_charged_twice': 0.0044} \n",
      "\n"
     ]
    },
    {
     "name": "stdout",
     "output_type": "stream",
     "text": [
      "\u001b[31mSentence:\u001b[0m When will I get my card? \n",
      "\n",
      "\u001b[34mPrediction:\u001b[0m {'card_delivery_estimate': 0.8556, 'pending_card_payment': 0.7886, 'card_arrival': 0.5471, 'lost_or_stolen_card': 0.4822, 'card_acceptance': 0.3835, 'reverted_card_payment?': 0.3699, 'pending_transfer': 0.3254, 'get_physical_card': 0.2969, 'order_physical_card': 0.2072, 'compromised_card': 0.1655, 'pin_blocked': 0.1645, 'pending_cash_withdrawal': 0.1485, 'transfer_timing': 0.1464, 'getting_spare_card': 0.1148, 'getting_virtual_card': 0.0957, 'card_linking': 0.0879, 'virtual_card_not_working': 0.0861, 'declined_transfer': 0.0786, 'card_not_working': 0.0716, 'pending_top_up': 0.0708, 'visa_or_mastercard': 0.0702, 'passcode_forgotten': 0.0682, 'activate_my_card': 0.0627, 'contactless_not_working': 0.062, 'verify_my_identity': 0.0609, 'card_swallowed': 0.0601, 'declined_cash_withdrawal': 0.0576, 'get_disposable_virtual_card': 0.0565, 'failed_transfer': 0.054, 'supported_cards_and_currencies': 0.0504, 'declined_card_payment': 0.0493, 'exchange_via_app': 0.04, 'why_verify_identity': 0.0396, 'exchange_charge': 0.034, 'fiat_currency_support': 0.0327, 'card_payment_not_recognised': 0.0318, 'balance_not_updated_after_cheque_or_cash_deposit': 0.0265, 'Refund_not_showing_up': 0.0261, 'cash_withdrawal_not_recognised': 0.0251, 'card_payment_fee_charged': 0.0249, 'top_up_reverted': 0.0248, 'unable_to_verify_identity': 0.0247, 'balance_not_updated_after_bank_transfer': 0.024, 'direct_debit_payment_not_recognised': 0.0233, 'edit_personal_details': 0.0233, 'card_about_to_expire': 0.0227, 'transfer_not_received_by_recipient': 0.0222, 'topping_up_by_card': 0.0214, 'age_limit': 0.0197, 'card_payment_wrong_exchange_rate': 0.0187, 'transfer_fee_charged': 0.017, 'top_up_by_cash_or_cheque': 0.0158, 'disposable_card_limits': 0.0157, 'change_pin': 0.0132, 'verify_source_of_funds': 0.0129, 'country_support': 0.0121, 'top_up_by_card_charge': 0.0109, 'extra_charge_on_statement': 0.0105, 'lost_or_stolen_phone': 0.0104, 'request_refund': 0.0104, 'cancel_transfer': 0.0103, 'atm_support': 0.0092, 'receiving_money': 0.0087, 'top_up_limits': 0.0086, 'cash_withdrawal_charge': 0.0075, 'transaction_charged_twice': 0.0072, 'top_up_by_bank_transfer_charge': 0.0069, 'verify_top_up': 0.006, 'wrong_exchange_rate_for_cash_withdrawal': 0.0059, 'transfer_into_account': 0.0058, 'automatic_top_up': 0.005, 'exchange_rate': 0.0041, 'apple_pay_or_google_pay': 0.0035, 'wrong_amount_of_cash_received': 0.0028, 'top_up_failed': 0.0021, 'terminate_account': 0.0012, 'beneficiary_not_allowed': 0.0006} \n",
      "\n",
      "\u001b[31mSentence:\u001b[0m Do you know if there is a tracking number for the new card you sent me? \n",
      "\n",
      "\u001b[34mPrediction:\u001b[0m {'card_linking': 0.0405, 'compromised_card': 0.0348, 'unable_to_verify_identity': 0.0288, 'card_acceptance': 0.0268, 'declined_transfer': 0.0206, 'get_physical_card': 0.0197, 'passcode_forgotten': 0.0176, 'card_delivery_estimate': 0.0168, 'pin_blocked': 0.0167, 'card_arrival': 0.016, 'reverted_card_payment?': 0.0148, 'order_physical_card': 0.0143, 'supported_cards_and_currencies': 0.0106, 'pending_card_payment': 0.0103, 'why_verify_identity': 0.0102, 'pending_transfer': 0.01, 'card_swallowed': 0.0098, 'getting_virtual_card': 0.0096, 'getting_spare_card': 0.0086, 'transfer_timing': 0.0086, 'exchange_charge': 0.0083, 'contactless_not_working': 0.0083, 'activate_my_card': 0.008, 'atm_support': 0.0079, 'verify_my_identity': 0.0072, 'receiving_money': 0.0071, 'change_pin': 0.0071, 'card_not_working': 0.0064, 'get_disposable_virtual_card': 0.0063, 'topping_up_by_card': 0.0061, 'visa_or_mastercard': 0.006, 'exchange_via_app': 0.006, 'top_up_reverted': 0.0053, 'card_payment_not_recognised': 0.0051, 'lost_or_stolen_card': 0.0049, 'virtual_card_not_working': 0.0048, 'edit_personal_details': 0.0047, 'card_about_to_expire': 0.0043, 'pending_cash_withdrawal': 0.0042, 'fiat_currency_support': 0.0041, 'card_payment_fee_charged': 0.0035, 'transfer_not_received_by_recipient': 0.0034, 'country_support': 0.0034, 'request_refund': 0.0032, 'declined_cash_withdrawal': 0.0032, 'declined_card_payment': 0.0031, 'direct_debit_payment_not_recognised': 0.003, 'disposable_card_limits': 0.0029, 'failed_transfer': 0.0025, 'balance_not_updated_after_bank_transfer': 0.0024, 'cash_withdrawal_not_recognised': 0.0024, 'balance_not_updated_after_cheque_or_cash_deposit': 0.0024, 'age_limit': 0.0023, 'verify_source_of_funds': 0.0022, 'automatic_top_up': 0.0021, 'transfer_fee_charged': 0.002, 'top_up_by_cash_or_cheque': 0.002, 'pending_top_up': 0.002, 'top_up_by_card_charge': 0.0019, 'cancel_transfer': 0.0018, 'top_up_limits': 0.0017, 'verify_top_up': 0.0016, 'exchange_rate': 0.0015, 'lost_or_stolen_phone': 0.0015, 'card_payment_wrong_exchange_rate': 0.0014, 'transaction_charged_twice': 0.0014, 'wrong_exchange_rate_for_cash_withdrawal': 0.0013, 'cash_withdrawal_charge': 0.0013, 'wrong_amount_of_cash_received': 0.0012, 'top_up_by_bank_transfer_charge': 0.001, 'Refund_not_showing_up': 0.001, 'extra_charge_on_statement': 0.001, 'beneficiary_not_allowed': 0.0009, 'transfer_into_account': 0.0009, 'top_up_failed': 0.0008, 'terminate_account': 0.0005, 'apple_pay_or_google_pay': 0.0004} \n",
      "\n",
      "\u001b[31mSentence:\u001b[0m i have not received my card \n",
      "\n",
      "\u001b[34mPrediction:\u001b[0m {'pending_card_payment': 0.9207, 'pending_transfer': 0.8722, 'failed_transfer': 0.8579, 'card_payment_not_recognised': 0.8111, 'card_not_working': 0.7182, 'card_delivery_estimate': 0.6948, 'declined_transfer': 0.6267, 'pending_cash_withdrawal': 0.5489, 'pin_blocked': 0.3934, 'transfer_not_received_by_recipient': 0.3493, 'contactless_not_working': 0.3399, 'declined_card_payment': 0.3277, 'lost_or_stolen_card': 0.3215, 'pending_top_up': 0.3149, 'passcode_forgotten': 0.3077, 'virtual_card_not_working': 0.3015, 'direct_debit_payment_not_recognised': 0.2903, 'card_swallowed': 0.2829, 'reverted_card_payment?': 0.1705, 'cash_withdrawal_not_recognised': 0.1639, 'unable_to_verify_identity': 0.1461, 'get_physical_card': 0.1373, 'Refund_not_showing_up': 0.124, 'getting_spare_card': 0.105, 'card_acceptance': 0.1, 'declined_cash_withdrawal': 0.0724, 'order_physical_card': 0.0627, 'balance_not_updated_after_bank_transfer': 0.0574, 'compromised_card': 0.0568, 'top_up_failed': 0.0515, 'balance_not_updated_after_cheque_or_cash_deposit': 0.0375, 'cancel_transfer': 0.0328, 'request_refund': 0.031, 'disposable_card_limits': 0.03, 'getting_virtual_card': 0.027, 'visa_or_mastercard': 0.0263, 'card_linking': 0.024, 'verify_my_identity': 0.0238, 'supported_cards_and_currencies': 0.0235, 'card_about_to_expire': 0.0228, 'why_verify_identity': 0.0203, 'card_payment_wrong_exchange_rate': 0.0182, 'get_disposable_virtual_card': 0.017, 'edit_personal_details': 0.0162, 'card_arrival': 0.0154, 'activate_my_card': 0.0141, 'card_payment_fee_charged': 0.0138, 'lost_or_stolen_phone': 0.0135, 'transfer_timing': 0.0129, 'exchange_charge': 0.0121, 'age_limit': 0.0103, 'top_up_by_cash_or_cheque': 0.0096, 'exchange_via_app': 0.0095, 'transfer_fee_charged': 0.0084, 'fiat_currency_support': 0.0079, 'top_up_reverted': 0.0078, 'topping_up_by_card': 0.0075, 'wrong_amount_of_cash_received': 0.0074, 'extra_charge_on_statement': 0.0063, 'exchange_rate': 0.0063, 'wrong_exchange_rate_for_cash_withdrawal': 0.006, 'change_pin': 0.0058, 'beneficiary_not_allowed': 0.0055, 'top_up_by_card_charge': 0.005, 'cash_withdrawal_charge': 0.0049, 'atm_support': 0.0045, 'terminate_account': 0.0044, 'country_support': 0.004, 'top_up_limits': 0.0039, 'transfer_into_account': 0.0037, 'receiving_money': 0.0036, 'verify_source_of_funds': 0.0036, 'top_up_by_bank_transfer_charge': 0.0029, 'verify_top_up': 0.0025, 'apple_pay_or_google_pay': 0.0018, 'automatic_top_up': 0.0014, 'transaction_charged_twice': 0.0013} \n",
      "\n",
      "\u001b[31mSentence:\u001b[0m still waiting on that card \n",
      "\n",
      "\u001b[34mPrediction:\u001b[0m {'pending_card_payment': 0.5357, 'card_not_working': 0.4974, 'pending_transfer': 0.2777, 'unable_to_verify_identity': 0.2485, 'balance_not_updated_after_cheque_or_cash_deposit': 0.2428, 'balance_not_updated_after_bank_transfer': 0.1996, 'card_delivery_estimate': 0.1984, 'card_acceptance': 0.1943, 'pending_cash_withdrawal': 0.156, 'pin_blocked': 0.131, 'virtual_card_not_working': 0.1283, 'order_physical_card': 0.1099, 'card_payment_not_recognised': 0.1041, 'contactless_not_working': 0.1037, 'getting_spare_card': 0.1028, 'reverted_card_payment?': 0.1027, 'get_physical_card': 0.0949, 'compromised_card': 0.094, 'declined_transfer': 0.0848, 'transfer_not_received_by_recipient': 0.081, 'declined_card_payment': 0.0753, 'failed_transfer': 0.0707, 'pending_top_up': 0.0704, 'getting_virtual_card': 0.0701, 'direct_debit_payment_not_recognised': 0.0539, 'passcode_forgotten': 0.0523, 'card_arrival': 0.0522, 'declined_cash_withdrawal': 0.0469, 'visa_or_mastercard': 0.0451, 'card_about_to_expire': 0.0436, 'get_disposable_virtual_card': 0.0435, 'card_swallowed': 0.0384, 'card_linking': 0.0369, 'lost_or_stolen_card': 0.0346, 'cash_withdrawal_not_recognised': 0.0308, 'activate_my_card': 0.028, 'why_verify_identity': 0.0266, 'exchange_charge': 0.0249, 'verify_my_identity': 0.0213, 'Refund_not_showing_up': 0.021, 'fiat_currency_support': 0.0198, 'supported_cards_and_currencies': 0.0176, 'topping_up_by_card': 0.0171, 'disposable_card_limits': 0.0168, 'age_limit': 0.0165, 'atm_support': 0.0161, 'extra_charge_on_statement': 0.0158, 'change_pin': 0.0146, 'cancel_transfer': 0.0142, 'edit_personal_details': 0.0134, 'transfer_timing': 0.0133, 'top_up_reverted': 0.0131, 'card_payment_wrong_exchange_rate': 0.0129, 'card_payment_fee_charged': 0.0125, 'verify_source_of_funds': 0.0125, 'request_refund': 0.0113, 'top_up_by_card_charge': 0.0113, 'receiving_money': 0.0105, 'transfer_fee_charged': 0.0099, 'country_support': 0.0088, 'top_up_by_cash_or_cheque': 0.0082, 'exchange_rate': 0.0064, 'cash_withdrawal_charge': 0.006, 'top_up_limits': 0.0057, 'top_up_by_bank_transfer_charge': 0.0055, 'exchange_via_app': 0.0054, 'wrong_amount_of_cash_received': 0.0052, 'transfer_into_account': 0.0051, 'verify_top_up': 0.0038, 'apple_pay_or_google_pay': 0.0036, 'wrong_exchange_rate_for_cash_withdrawal': 0.0035, 'top_up_failed': 0.0031, 'transaction_charged_twice': 0.0023, 'lost_or_stolen_phone': 0.0022, 'automatic_top_up': 0.0016, 'terminate_account': 0.0015, 'beneficiary_not_allowed': 0.0008} \n",
      "\n",
      "\u001b[31mSentence:\u001b[0m Is it normal to have to wait over a week for my new card? \n",
      "\n",
      "\u001b[34mPrediction:\u001b[0m {'card_delivery_estimate': 0.111, 'card_acceptance': 0.0915, 'card_not_working': 0.0807, 'pin_blocked': 0.0769, 'reverted_card_payment?': 0.0644, 'declined_transfer': 0.0525, 'compromised_card': 0.0461, 'get_physical_card': 0.0443, 'order_physical_card': 0.0423, 'card_swallowed': 0.038, 'pending_transfer': 0.0341, 'failed_transfer': 0.0333, 'unable_to_verify_identity': 0.0298, 'pending_card_payment': 0.0293, 'transfer_timing': 0.0274, 'contactless_not_working': 0.0274, 'getting_spare_card': 0.0235, 'declined_card_payment': 0.0196, 'card_linking': 0.0193, 'virtual_card_not_working': 0.0184, 'receiving_money': 0.017, 'card_arrival': 0.0157, 'disposable_card_limits': 0.0156, 'getting_virtual_card': 0.0155, 'fiat_currency_support': 0.0136, 'card_payment_not_recognised': 0.0132, 'passcode_forgotten': 0.0124, 'activate_my_card': 0.012, 'change_pin': 0.0119, 'exchange_charge': 0.0117, 'card_about_to_expire': 0.0116, 'visa_or_mastercard': 0.0116, 'pending_cash_withdrawal': 0.0114, 'get_disposable_virtual_card': 0.0114, 'age_limit': 0.0103, 'declined_cash_withdrawal': 0.0097, 'supported_cards_and_currencies': 0.0092, 'top_up_failed': 0.0086, 'verify_my_identity': 0.0085, 'top_up_reverted': 0.0079, 'cash_withdrawal_not_recognised': 0.0075, 'country_support': 0.0075, 'card_payment_fee_charged': 0.0073, 'balance_not_updated_after_cheque_or_cash_deposit': 0.0069, 'pending_top_up': 0.0069, 'why_verify_identity': 0.0069, 'transfer_not_received_by_recipient': 0.0069, 'edit_personal_details': 0.0066, 'atm_support': 0.0063, 'balance_not_updated_after_bank_transfer': 0.0061, 'request_refund': 0.0059, 'top_up_limits': 0.0059, 'direct_debit_payment_not_recognised': 0.0057, 'exchange_via_app': 0.0055, 'cancel_transfer': 0.0052, 'topping_up_by_card': 0.0047, 'card_payment_wrong_exchange_rate': 0.0046, 'transfer_fee_charged': 0.0042, 'lost_or_stolen_card': 0.0037, 'verify_source_of_funds': 0.0037, 'exchange_rate': 0.0036, 'wrong_amount_of_cash_received': 0.0035, 'Refund_not_showing_up': 0.0033, 'wrong_exchange_rate_for_cash_withdrawal': 0.0028, 'transaction_charged_twice': 0.0024, 'top_up_by_card_charge': 0.0024, 'verify_top_up': 0.0022, 'cash_withdrawal_charge': 0.0021, 'top_up_by_bank_transfer_charge': 0.002, 'extra_charge_on_statement': 0.0019, 'transfer_into_account': 0.0017, 'top_up_by_cash_or_cheque': 0.0015, 'terminate_account': 0.001, 'lost_or_stolen_phone': 0.0008, 'apple_pay_or_google_pay': 0.0008, 'beneficiary_not_allowed': 0.0007, 'automatic_top_up': 0.0007} \n",
      "\n",
      "\u001b[31mSentence:\u001b[0m How do I track my card? \n",
      "\n",
      "\u001b[34mPrediction:\u001b[0m {'card_linking': 0.3729, 'lost_or_stolen_card': 0.2413, 'compromised_card': 0.1915, 'get_physical_card': 0.1451, 'reverted_card_payment?': 0.1258, 'why_verify_identity': 0.1096, 'order_physical_card': 0.1048, 'card_acceptance': 0.0879, 'virtual_card_not_working': 0.0799, 'card_not_working': 0.0762, 'card_about_to_expire': 0.0722, 'supported_cards_and_currencies': 0.058, 'passcode_forgotten': 0.0555, 'getting_virtual_card': 0.055, 'getting_spare_card': 0.0451, 'card_swallowed': 0.0424, 'verify_my_identity': 0.0408, 'pending_card_payment': 0.0296, 'pin_blocked': 0.0294, 'atm_support': 0.0293, 'get_disposable_virtual_card': 0.029, 'visa_or_mastercard': 0.0289, 'declined_card_payment': 0.0271, 'card_payment_not_recognised': 0.0254, 'contactless_not_working': 0.0252, 'unable_to_verify_identity': 0.0251, 'card_delivery_estimate': 0.0242, 'fiat_currency_support': 0.0208, 'activate_my_card': 0.0196, 'declined_transfer': 0.0192, 'balance_not_updated_after_bank_transfer': 0.0174, 'direct_debit_payment_not_recognised': 0.0166, 'edit_personal_details': 0.0155, 'declined_cash_withdrawal': 0.0154, 'card_arrival': 0.0148, 'balance_not_updated_after_cheque_or_cash_deposit': 0.0146, 'card_payment_fee_charged': 0.0146, 'cash_withdrawal_not_recognised': 0.0142, 'disposable_card_limits': 0.014, 'change_pin': 0.0131, 'exchange_via_app': 0.0125, 'topping_up_by_card': 0.0104, 'pending_transfer': 0.0101, 'pending_cash_withdrawal': 0.0099, 'top_up_reverted': 0.0087, 'transaction_charged_twice': 0.0083, 'country_support': 0.0081, 'Refund_not_showing_up': 0.0079, 'verify_source_of_funds': 0.0076, 'card_payment_wrong_exchange_rate': 0.0072, 'transfer_not_received_by_recipient': 0.0067, 'exchange_charge': 0.0065, 'transfer_fee_charged': 0.0065, 'failed_transfer': 0.0055, 'pending_top_up': 0.0055, 'receiving_money': 0.0052, 'transfer_timing': 0.005, 'extra_charge_on_statement': 0.0049, 'age_limit': 0.0046, 'lost_or_stolen_phone': 0.0038, 'top_up_by_card_charge': 0.0035, 'top_up_limits': 0.0035, 'wrong_amount_of_cash_received': 0.0033, 'top_up_by_bank_transfer_charge': 0.0026, 'automatic_top_up': 0.0025, 'top_up_by_cash_or_cheque': 0.0025, 'request_refund': 0.0025, 'cash_withdrawal_charge': 0.0023, 'apple_pay_or_google_pay': 0.0023, 'transfer_into_account': 0.0022, 'cancel_transfer': 0.002, 'wrong_exchange_rate_for_cash_withdrawal': 0.0019, 'verify_top_up': 0.0016, 'exchange_rate': 0.0015, 'top_up_failed': 0.0015, 'terminate_account': 0.0011, 'beneficiary_not_allowed': 0.0007} \n",
      "\n",
      "\u001b[31mSentence:\u001b[0m How long does a card delivery take? \n",
      "\n",
      "\u001b[34mPrediction:\u001b[0m {'card_delivery_estimate': 0.3706, 'card_acceptance': 0.0782, 'get_physical_card': 0.0391, 'card_arrival': 0.0336, 'getting_spare_card': 0.0312, 'order_physical_card': 0.0302, 'card_swallowed': 0.0287, 'reverted_card_payment?': 0.0234, 'card_linking': 0.0211, 'get_disposable_virtual_card': 0.0192, 'getting_virtual_card': 0.0183, 'pending_card_payment': 0.018, 'supported_cards_and_currencies': 0.0165, 'compromised_card': 0.0165, 'passcode_forgotten': 0.0134, 'topping_up_by_card': 0.0125, 'transfer_timing': 0.0124, 'pin_blocked': 0.0114, 'virtual_card_not_working': 0.0104, 'disposable_card_limits': 0.01, 'card_about_to_expire': 0.0094, 'activate_my_card': 0.0093, 'card_payment_fee_charged': 0.0086, 'edit_personal_details': 0.0078, 'card_not_working': 0.0077, 'declined_card_payment': 0.0076, 'verify_my_identity': 0.007, 'visa_or_mastercard': 0.0069, 'unable_to_verify_identity': 0.006, 'declined_transfer': 0.0058, 'card_payment_not_recognised': 0.0055, 'contactless_not_working': 0.0054, 'why_verify_identity': 0.0053, 'lost_or_stolen_card': 0.0051, 'change_pin': 0.005, 'balance_not_updated_after_cheque_or_cash_deposit': 0.0047, 'exchange_via_app': 0.0045, 'transfer_not_received_by_recipient': 0.0044, 'exchange_charge': 0.0044, 'atm_support': 0.0043, 'direct_debit_payment_not_recognised': 0.0043, 'fiat_currency_support': 0.0042, 'top_up_reverted': 0.0041, 'pending_transfer': 0.004, 'top_up_by_cash_or_cheque': 0.004, 'top_up_by_card_charge': 0.0033, 'receiving_money': 0.0033, 'declined_cash_withdrawal': 0.0033, 'pending_cash_withdrawal': 0.0033, 'request_refund': 0.0032, 'balance_not_updated_after_bank_transfer': 0.003, 'card_payment_wrong_exchange_rate': 0.003, 'top_up_limits': 0.0029, 'cash_withdrawal_not_recognised': 0.0026, 'country_support': 0.0025, 'Refund_not_showing_up': 0.0024, 'pending_top_up': 0.0023, 'transfer_fee_charged': 0.0023, 'transaction_charged_twice': 0.0022, 'age_limit': 0.0021, 'automatic_top_up': 0.002, 'verify_source_of_funds': 0.002, 'verify_top_up': 0.0018, 'extra_charge_on_statement': 0.0018, 'top_up_by_bank_transfer_charge': 0.0015, 'cancel_transfer': 0.0012, 'exchange_rate': 0.0012, 'transfer_into_account': 0.0011, 'wrong_exchange_rate_for_cash_withdrawal': 0.0011, 'wrong_amount_of_cash_received': 0.0011, 'top_up_failed': 0.0011, 'cash_withdrawal_charge': 0.001, 'failed_transfer': 0.001, 'apple_pay_or_google_pay': 0.0009, 'terminate_account': 0.0008, 'beneficiary_not_allowed': 0.0004, 'lost_or_stolen_phone': 0.0004} \n",
      "\n"
     ]
    },
    {
     "name": "stdout",
     "output_type": "stream",
     "text": [
      "\u001b[31mSentence:\u001b[0m I still don't have my card after 2 weeks. \n",
      "\n",
      "\u001b[34mPrediction:\u001b[0m {'card_not_working': 0.9266, 'failed_transfer': 0.8903, 'lost_or_stolen_card': 0.7495, 'card_delivery_estimate': 0.5822, 'passcode_forgotten': 0.5741, 'pending_card_payment': 0.4939, 'declined_transfer': 0.4904, 'card_swallowed': 0.4864, 'pin_blocked': 0.4746, 'virtual_card_not_working': 0.4405, 'compromised_card': 0.434, 'contactless_not_working': 0.3996, 'top_up_failed': 0.3858, 'get_physical_card': 0.3381, 'Refund_not_showing_up': 0.3354, 'getting_spare_card': 0.3091, 'card_linking': 0.2732, 'disposable_card_limits': 0.2366, 'pending_transfer': 0.2267, 'reverted_card_payment?': 0.2226, 'card_acceptance': 0.2209, 'transfer_not_received_by_recipient': 0.2012, 'getting_virtual_card': 0.1718, 'declined_card_payment': 0.1544, 'cancel_transfer': 0.1506, 'unable_to_verify_identity': 0.1461, 'order_physical_card': 0.1403, 'card_payment_not_recognised': 0.14, 'balance_not_updated_after_cheque_or_cash_deposit': 0.1391, 'transfer_timing': 0.1377, 'pending_cash_withdrawal': 0.1232, 'get_disposable_virtual_card': 0.1206, 'balance_not_updated_after_bank_transfer': 0.1132, 'lost_or_stolen_phone': 0.1066, 'declined_cash_withdrawal': 0.1047, 'visa_or_mastercard': 0.1044, 'exchange_charge': 0.0932, 'activate_my_card': 0.0911, 'supported_cards_and_currencies': 0.0799, 'why_verify_identity': 0.0763, 'card_about_to_expire': 0.0751, 'edit_personal_details': 0.0696, 'transfer_fee_charged': 0.0625, 'request_refund': 0.0522, 'verify_my_identity': 0.0517, 'card_payment_fee_charged': 0.0487, 'pending_top_up': 0.047, 'cash_withdrawal_not_recognised': 0.0444, 'receiving_money': 0.0424, 'exchange_via_app': 0.0407, 'top_up_limits': 0.0394, 'change_pin': 0.0387, 'age_limit': 0.036, 'card_arrival': 0.0352, 'fiat_currency_support': 0.0352, 'country_support': 0.0332, 'direct_debit_payment_not_recognised': 0.0328, 'top_up_reverted': 0.0327, 'card_payment_wrong_exchange_rate': 0.0286, 'exchange_rate': 0.0281, 'topping_up_by_card': 0.0254, 'atm_support': 0.0221, 'transfer_into_account': 0.0206, 'wrong_exchange_rate_for_cash_withdrawal': 0.0203, 'top_up_by_cash_or_cheque': 0.0201, 'extra_charge_on_statement': 0.0188, 'beneficiary_not_allowed': 0.0153, 'cash_withdrawal_charge': 0.0153, 'terminate_account': 0.0147, 'wrong_amount_of_cash_received': 0.0147, 'top_up_by_card_charge': 0.0126, 'top_up_by_bank_transfer_charge': 0.0107, 'verify_top_up': 0.0084, 'verify_source_of_funds': 0.0082, 'transaction_charged_twice': 0.0063, 'apple_pay_or_google_pay': 0.0042, 'automatic_top_up': 0.0039} \n",
      "\n",
      "\u001b[31mSentence:\u001b[0m What should I do? \n",
      "\n",
      "\u001b[34mPrediction:\u001b[0m {'card_not_working': 0.4241, 'reverted_card_payment?': 0.3536, 'contactless_not_working': 0.3216, 'compromised_card': 0.2985, 'virtual_card_not_working': 0.2649, 'card_payment_not_recognised': 0.2241, 'pin_blocked': 0.1816, 'declined_card_payment': 0.1744, 'cash_withdrawal_not_recognised': 0.1349, 'passcode_forgotten': 0.1219, 'balance_not_updated_after_cheque_or_cash_deposit': 0.1065, 'lost_or_stolen_phone': 0.1052, 'direct_debit_payment_not_recognised': 0.0985, 'card_about_to_expire': 0.0973, 'declined_cash_withdrawal': 0.0954, 'unable_to_verify_identity': 0.0888, 'card_payment_wrong_exchange_rate': 0.0887, 'lost_or_stolen_card': 0.0864, 'card_swallowed': 0.0861, 'declined_transfer': 0.0847, 'balance_not_updated_after_bank_transfer': 0.0838, 'Refund_not_showing_up': 0.0706, 'get_disposable_virtual_card': 0.0639, 'transfer_fee_charged': 0.0586, 'pending_cash_withdrawal': 0.0446, 'fiat_currency_support': 0.0437, 'card_payment_fee_charged': 0.0428, 'order_physical_card': 0.0416, 'failed_transfer': 0.0387, 'request_refund': 0.0382, 'transfer_not_received_by_recipient': 0.0381, 'pending_card_payment': 0.0375, 'exchange_charge': 0.0368, 'getting_spare_card': 0.0365, 'card_delivery_estimate': 0.0343, 'visa_or_mastercard': 0.0334, 'get_physical_card': 0.0331, 'pending_transfer': 0.0327, 'transaction_charged_twice': 0.0313, 'verify_source_of_funds': 0.031, 'disposable_card_limits': 0.0307, 'wrong_exchange_rate_for_cash_withdrawal': 0.0304, 'top_up_reverted': 0.0299, 'extra_charge_on_statement': 0.0276, 'why_verify_identity': 0.027, 'change_pin': 0.0265, 'age_limit': 0.0261, 'exchange_via_app': 0.0253, 'getting_virtual_card': 0.025, 'verify_my_identity': 0.0241, 'edit_personal_details': 0.024, 'supported_cards_and_currencies': 0.0237, 'card_acceptance': 0.0235, 'card_linking': 0.0229, 'activate_my_card': 0.0224, 'cash_withdrawal_charge': 0.0214, 'top_up_by_cash_or_cheque': 0.0192, 'terminate_account': 0.0163, 'atm_support': 0.0161, 'transfer_timing': 0.016, 'cancel_transfer': 0.0159, 'country_support': 0.0156, 'receiving_money': 0.0151, 'pending_top_up': 0.0122, 'top_up_limits': 0.0114, 'card_arrival': 0.0111, 'exchange_rate': 0.0102, 'top_up_by_card_charge': 0.0098, 'topping_up_by_card': 0.0097, 'wrong_amount_of_cash_received': 0.0082, 'automatic_top_up': 0.0081, 'top_up_by_bank_transfer_charge': 0.0079, 'verify_top_up': 0.007, 'apple_pay_or_google_pay': 0.0066, 'transfer_into_account': 0.0059, 'top_up_failed': 0.0052, 'beneficiary_not_allowed': 0.0027} \n",
      "\n",
      "\u001b[31mSentence:\u001b[0m still waiting on my new card \n",
      "\n",
      "\u001b[34mPrediction:\u001b[0m {'pending_transfer': 0.5779, 'pending_card_payment': 0.3511, 'card_delivery_estimate': 0.2011, 'card_acceptance': 0.187, 'pin_blocked': 0.1258, 'passcode_forgotten': 0.1086, 'pending_cash_withdrawal': 0.1058, 'pending_top_up': 0.0926, 'order_physical_card': 0.0807, 'reverted_card_payment?': 0.0721, 'unable_to_verify_identity': 0.0669, 'get_physical_card': 0.0667, 'declined_transfer': 0.0583, 'card_payment_not_recognised': 0.0548, 'transfer_not_received_by_recipient': 0.053, 'declined_card_payment': 0.052, 'balance_not_updated_after_bank_transfer': 0.0512, 'card_arrival': 0.0461, 'visa_or_mastercard': 0.0451, 'verify_my_identity': 0.045, 'getting_virtual_card': 0.0446, 'getting_spare_card': 0.0445, 'fiat_currency_support': 0.044, 'compromised_card': 0.0425, 'card_swallowed': 0.0425, 'failed_transfer': 0.0394, 'supported_cards_and_currencies': 0.038, 'declined_cash_withdrawal': 0.0374, 'balance_not_updated_after_cheque_or_cash_deposit': 0.0361, 'exchange_charge': 0.0353, 'activate_my_card': 0.0353, 'card_not_working': 0.0328, 'top_up_reverted': 0.0315, 'contactless_not_working': 0.03, 'direct_debit_payment_not_recognised': 0.0298, 'card_payment_fee_charged': 0.0254, 'age_limit': 0.0252, 'card_linking': 0.025, 'cash_withdrawal_not_recognised': 0.0236, 'virtual_card_not_working': 0.0215, 'why_verify_identity': 0.0204, 'edit_personal_details': 0.0202, 'get_disposable_virtual_card': 0.0198, 'disposable_card_limits': 0.0196, 'transfer_timing': 0.0185, 'transfer_fee_charged': 0.0178, 'receiving_money': 0.0177, 'topping_up_by_card': 0.0162, 'wrong_amount_of_cash_received': 0.0144, 'change_pin': 0.0133, 'extra_charge_on_statement': 0.0128, 'exchange_via_app': 0.0124, 'top_up_by_cash_or_cheque': 0.0123, 'top_up_by_card_charge': 0.0116, 'card_payment_wrong_exchange_rate': 0.0112, 'card_about_to_expire': 0.0103, 'country_support': 0.01, 'verify_source_of_funds': 0.0098, 'lost_or_stolen_card': 0.0098, 'atm_support': 0.0093, 'exchange_rate': 0.0082, 'top_up_limits': 0.0081, 'transfer_into_account': 0.0081, 'wrong_exchange_rate_for_cash_withdrawal': 0.0079, 'cancel_transfer': 0.0077, 'cash_withdrawal_charge': 0.0069, 'top_up_by_bank_transfer_charge': 0.0067, 'Refund_not_showing_up': 0.0056, 'transaction_charged_twice': 0.0043, 'verify_top_up': 0.0037, 'automatic_top_up': 0.0035, 'request_refund': 0.0035, 'apple_pay_or_google_pay': 0.0034, 'top_up_failed': 0.0028, 'lost_or_stolen_phone': 0.0028, 'terminate_account': 0.0013, 'beneficiary_not_allowed': 0.0012} \n",
      "\n",
      "\u001b[31mSentence:\u001b[0m I am still waiting for my card after 1 week. \n",
      "\n",
      "\u001b[34mPrediction:\u001b[0m {'failed_transfer': 0.8332, 'pending_card_payment': 0.7515, 'card_not_working': 0.6227, 'pending_transfer': 0.6073, 'pin_blocked': 0.5317, 'card_delivery_estimate': 0.4684, 'card_acceptance': 0.397, 'declined_transfer': 0.3587, 'pending_cash_withdrawal': 0.349, 'transfer_not_received_by_recipient': 0.3239, 'reverted_card_payment?': 0.3211, 'top_up_failed': 0.2683, 'unable_to_verify_identity': 0.2267, 'get_physical_card': 0.2262, 'virtual_card_not_working': 0.2233, 'order_physical_card': 0.2207, 'getting_spare_card': 0.215, 'card_payment_not_recognised': 0.2092, 'card_swallowed': 0.1937, 'activate_my_card': 0.1799, 'transfer_timing': 0.1633, 'pending_top_up': 0.1627, 'getting_virtual_card': 0.1603, 'exchange_charge': 0.1427, 'Refund_not_showing_up': 0.1396, 'card_linking': 0.1336, 'lost_or_stolen_card': 0.1296, 'balance_not_updated_after_bank_transfer': 0.1245, 'declined_card_payment': 0.1204, 'contactless_not_working': 0.1156, 'passcode_forgotten': 0.1093, 'visa_or_mastercard': 0.1075, 'balance_not_updated_after_cheque_or_cash_deposit': 0.0982, 'cancel_transfer': 0.0981, 'receiving_money': 0.0963, 'compromised_card': 0.096, 'disposable_card_limits': 0.0925, 'direct_debit_payment_not_recognised': 0.0919, 'card_arrival': 0.0854, 'fiat_currency_support': 0.0822, 'supported_cards_and_currencies': 0.0799, 'verify_my_identity': 0.0786, 'transfer_fee_charged': 0.0742, 'why_verify_identity': 0.0712, 'declined_cash_withdrawal': 0.0671, 'top_up_reverted': 0.0585, 'country_support': 0.0557, 'card_payment_fee_charged': 0.0555, 'edit_personal_details': 0.054, 'get_disposable_virtual_card': 0.0535, 'topping_up_by_card': 0.0527, 'cash_withdrawal_not_recognised': 0.0472, 'age_limit': 0.0458, 'atm_support': 0.0416, 'exchange_via_app': 0.0387, 'change_pin': 0.0363, 'card_payment_wrong_exchange_rate': 0.035, 'top_up_limits': 0.034, 'transfer_into_account': 0.028, 'request_refund': 0.028, 'top_up_by_cash_or_cheque': 0.0276, 'exchange_rate': 0.0247, 'cash_withdrawal_charge': 0.0233, 'extra_charge_on_statement': 0.0225, 'top_up_by_card_charge': 0.0209, 'card_about_to_expire': 0.0177, 'verify_source_of_funds': 0.0176, 'top_up_by_bank_transfer_charge': 0.0165, 'lost_or_stolen_phone': 0.0144, 'verify_top_up': 0.0138, 'wrong_exchange_rate_for_cash_withdrawal': 0.0123, 'beneficiary_not_allowed': 0.0097, 'automatic_top_up': 0.0097, 'wrong_amount_of_cash_received': 0.0079, 'apple_pay_or_google_pay': 0.0059, 'transaction_charged_twice': 0.0055, 'terminate_account': 0.0043} \n",
      "\n",
      "\u001b[31mSentence:\u001b[0m Is this ok? \n",
      "\n",
      "\u001b[34mPrediction:\u001b[0m {'reverted_card_payment?': 0.4375, 'compromised_card': 0.1638, 'declined_card_payment': 0.0925, 'passcode_forgotten': 0.085, 'fiat_currency_support': 0.08, 'get_disposable_virtual_card': 0.0798, 'pin_blocked': 0.073, 'card_acceptance': 0.0722, 'declined_cash_withdrawal': 0.0716, 'card_swallowed': 0.0644, 'card_not_working': 0.0641, 'balance_not_updated_after_cheque_or_cash_deposit': 0.0605, 'order_physical_card': 0.0568, 'age_limit': 0.0512, 'exchange_via_app': 0.0511, 'why_verify_identity': 0.0483, 'verify_source_of_funds': 0.0455, 'virtual_card_not_working': 0.0435, 'pending_card_payment': 0.0419, 'transaction_charged_twice': 0.0419, 'disposable_card_limits': 0.0415, 'card_payment_wrong_exchange_rate': 0.0401, 'transfer_fee_charged': 0.0396, 'declined_transfer': 0.0387, 'exchange_charge': 0.038, 'request_refund': 0.0375, 'card_about_to_expire': 0.0365, 'top_up_reverted': 0.0363, 'card_linking': 0.036, 'extra_charge_on_statement': 0.0344, 'card_delivery_estimate': 0.0341, 'get_physical_card': 0.0334, 'balance_not_updated_after_bank_transfer': 0.0331, 'getting_spare_card': 0.0315, 'visa_or_mastercard': 0.0297, 'transfer_timing': 0.0295, 'lost_or_stolen_card': 0.0294, 'card_payment_fee_charged': 0.0288, 'atm_support': 0.0288, 'verify_my_identity': 0.0288, 'card_payment_not_recognised': 0.0285, 'unable_to_verify_identity': 0.0282, 'change_pin': 0.0281, 'getting_virtual_card': 0.0281, 'pending_transfer': 0.0279, 'cash_withdrawal_not_recognised': 0.0278, 'edit_personal_details': 0.0274, 'supported_cards_and_currencies': 0.027, 'activate_my_card': 0.0263, 'pending_cash_withdrawal': 0.0251, 'failed_transfer': 0.0248, 'receiving_money': 0.0245, 'transfer_not_received_by_recipient': 0.0226, 'direct_debit_payment_not_recognised': 0.0223, 'lost_or_stolen_phone': 0.0206, 'topping_up_by_card': 0.0202, 'Refund_not_showing_up': 0.02, 'automatic_top_up': 0.0185, 'top_up_by_cash_or_cheque': 0.0181, 'cash_withdrawal_charge': 0.0163, 'country_support': 0.0161, 'contactless_not_working': 0.0159, 'cancel_transfer': 0.0158, 'exchange_rate': 0.0155, 'top_up_limits': 0.0154, 'verify_top_up': 0.0142, 'pending_top_up': 0.0135, 'terminate_account': 0.0133, 'top_up_by_card_charge': 0.0117, 'card_arrival': 0.0117, 'transfer_into_account': 0.0107, 'top_up_by_bank_transfer_charge': 0.0092, 'apple_pay_or_google_pay': 0.0063, 'wrong_exchange_rate_for_cash_withdrawal': 0.0059, 'wrong_amount_of_cash_received': 0.0027, 'top_up_failed': 0.0017, 'beneficiary_not_allowed': 0.0001} \n",
      "\n",
      "\u001b[31mSentence:\u001b[0m I have been waiting longer than expected for my bank card, could you provide information on when it will arrive? \n",
      "\n",
      "\u001b[34mPrediction:\u001b[0m {'card_delivery_estimate': 0.3792, 'card_not_working': 0.3577, 'compromised_card': 0.3291, 'pending_card_payment': 0.291, 'transfer_timing': 0.2414, 'card_acceptance': 0.2088, 'pending_transfer': 0.181, 'declined_transfer': 0.1547, 'card_arrival': 0.1269, 'reverted_card_payment?': 0.1213, 'failed_transfer': 0.1069, 'pending_cash_withdrawal': 0.0997, 'card_linking': 0.0939, 'card_swallowed': 0.0917, 'declined_card_payment': 0.0799, 'get_physical_card': 0.0721, 'pin_blocked': 0.0697, 'virtual_card_not_working': 0.0671, 'supported_cards_and_currencies': 0.0654, 'atm_support': 0.0592, 'receiving_money': 0.0503, 'unable_to_verify_identity': 0.0488, 'order_physical_card': 0.0431, 'card_payment_not_recognised': 0.0429, 'fiat_currency_support': 0.0374, 'declined_cash_withdrawal': 0.0372, 'getting_spare_card': 0.0357, 'edit_personal_details': 0.0346, 'card_payment_fee_charged': 0.0311, 'contactless_not_working': 0.0311, 'activate_my_card': 0.031, 'disposable_card_limits': 0.0301, 'getting_virtual_card': 0.029, 'change_pin': 0.0277, 'transfer_fee_charged': 0.0269, 'passcode_forgotten': 0.0266, 'country_support': 0.0249, 'verify_my_identity': 0.0238, 'cash_withdrawal_not_recognised': 0.0238, 'exchange_charge': 0.0209, 'exchange_via_app': 0.02, 'get_disposable_virtual_card': 0.0196, 'transfer_not_received_by_recipient': 0.0192, 'direct_debit_payment_not_recognised': 0.0179, 'pending_top_up': 0.0153, 'topping_up_by_card': 0.014, 'top_up_reverted': 0.0138, 'request_refund': 0.0137, 'visa_or_mastercard': 0.0136, 'why_verify_identity': 0.0135, 'top_up_failed': 0.0135, 'verify_source_of_funds': 0.0112, 'lost_or_stolen_card': 0.0105, 'cash_withdrawal_charge': 0.0105, 'top_up_limits': 0.01, 'balance_not_updated_after_cheque_or_cash_deposit': 0.01, 'Refund_not_showing_up': 0.0097, 'age_limit': 0.0095, 'card_about_to_expire': 0.0094, 'card_payment_wrong_exchange_rate': 0.0089, 'top_up_by_cash_or_cheque': 0.0088, 'cancel_transfer': 0.008, 'balance_not_updated_after_bank_transfer': 0.0074, 'top_up_by_card_charge': 0.0072, 'extra_charge_on_statement': 0.0069, 'exchange_rate': 0.0066, 'verify_top_up': 0.0047, 'wrong_exchange_rate_for_cash_withdrawal': 0.0043, 'top_up_by_bank_transfer_charge': 0.0039, 'transaction_charged_twice': 0.0038, 'transfer_into_account': 0.0036, 'wrong_amount_of_cash_received': 0.0031, 'terminate_account': 0.0029, 'automatic_top_up': 0.0028, 'apple_pay_or_google_pay': 0.0022, 'beneficiary_not_allowed': 0.0017, 'lost_or_stolen_phone': 0.0014} \n",
      "\n",
      "\u001b[31mSentence:\u001b[0m I've been waiting longer than expected for my card. \n",
      "\n",
      "\u001b[34mPrediction:\u001b[0m {'card_not_working': 0.8867, 'pending_card_payment': 0.8578, 'card_delivery_estimate': 0.8228, 'card_acceptance': 0.6823, 'pending_transfer': 0.6638, 'pending_cash_withdrawal': 0.6059, 'failed_transfer': 0.5721, 'virtual_card_not_working': 0.5252, 'reverted_card_payment?': 0.4657, 'pin_blocked': 0.4545, 'contactless_not_working': 0.364, 'getting_spare_card': 0.3549, 'card_swallowed': 0.3392, 'order_physical_card': 0.3376, 'get_physical_card': 0.3352, 'declined_transfer': 0.3024, 'card_payment_not_recognised': 0.2868, 'activate_my_card': 0.2649, 'pending_top_up': 0.2439, 'transfer_not_received_by_recipient': 0.2379, 'card_about_to_expire': 0.205, 'declined_card_payment': 0.2037, 'transfer_timing': 0.1855, 'compromised_card': 0.1754, 'disposable_card_limits': 0.1753, 'top_up_failed': 0.1729, 'card_linking': 0.166, 'Refund_not_showing_up': 0.1533, 'card_arrival': 0.1527, 'getting_virtual_card': 0.1439, 'unable_to_verify_identity': 0.1426, 'exchange_charge': 0.1247, 'visa_or_mastercard': 0.1147, 'passcode_forgotten': 0.1139, 'declined_cash_withdrawal': 0.1126, 'verify_my_identity': 0.1121, 'lost_or_stolen_card': 0.1026, 'supported_cards_and_currencies': 0.1014, 'get_disposable_virtual_card': 0.0955, 'card_payment_fee_charged': 0.0955, 'balance_not_updated_after_cheque_or_cash_deposit': 0.0884, 'fiat_currency_support': 0.0873, 'direct_debit_payment_not_recognised': 0.0833, 'cash_withdrawal_not_recognised': 0.0816, 'request_refund': 0.0808, 'edit_personal_details': 0.0752, 'why_verify_identity': 0.071, 'balance_not_updated_after_bank_transfer': 0.0707, 'cancel_transfer': 0.0695, 'top_up_reverted': 0.0683, 'transfer_fee_charged': 0.0675, 'card_payment_wrong_exchange_rate': 0.0672, 'age_limit': 0.0651, 'topping_up_by_card': 0.0625, 'receiving_money': 0.0613, 'top_up_limits': 0.0496, 'change_pin': 0.0436, 'exchange_via_app': 0.0397, 'cash_withdrawal_charge': 0.0351, 'wrong_exchange_rate_for_cash_withdrawal': 0.033, 'wrong_amount_of_cash_received': 0.032, 'extra_charge_on_statement': 0.0292, 'top_up_by_card_charge': 0.026, 'atm_support': 0.024, 'transfer_into_account': 0.0236, 'country_support': 0.023, 'top_up_by_cash_or_cheque': 0.0178, 'exchange_rate': 0.017, 'verify_top_up': 0.0168, 'verify_source_of_funds': 0.0165, 'top_up_by_bank_transfer_charge': 0.0139, 'transaction_charged_twice': 0.011, 'terminate_account': 0.0086, 'beneficiary_not_allowed': 0.0065, 'apple_pay_or_google_pay': 0.0059, 'automatic_top_up': 0.0049, 'lost_or_stolen_phone': 0.0033} \n",
      "\n",
      "\u001b[31mSentence:\u001b[0m Why hasn't my card been delivered? \n",
      "\n",
      "\u001b[34mPrediction:\u001b[0m {'order_physical_card': 0.3277, 'card_not_working': 0.3066, 'reverted_card_payment?': 0.2666, 'card_delivery_estimate': 0.2114, 'get_physical_card': 0.2102, 'getting_spare_card': 0.1799, 'pending_card_payment': 0.1529, 'card_acceptance': 0.1494, 'card_swallowed': 0.109, 'failed_transfer': 0.0961, 'compromised_card': 0.0908, 'request_refund': 0.0843, 'card_payment_not_recognised': 0.0724, 'virtual_card_not_working': 0.0644, 'card_linking': 0.0592, 'Refund_not_showing_up': 0.0575, 'getting_virtual_card': 0.0558, 'transfer_not_received_by_recipient': 0.0531, 'unable_to_verify_identity': 0.0456, 'activate_my_card': 0.0453, 'direct_debit_payment_not_recognised': 0.0388, 'pending_transfer': 0.0386, 'supported_cards_and_currencies': 0.0381, 'contactless_not_working': 0.0378, 'lost_or_stolen_card': 0.0375, 'card_arrival': 0.0362, 'get_disposable_virtual_card': 0.0357, 'declined_transfer': 0.033, 'pin_blocked': 0.0324, 'declined_card_payment': 0.0291, 'passcode_forgotten': 0.0289, 'cash_withdrawal_not_recognised': 0.0246, 'visa_or_mastercard': 0.0244, 'card_about_to_expire': 0.0241, 'why_verify_identity': 0.024, 'verify_my_identity': 0.0236, 'pending_cash_withdrawal': 0.0231, 'balance_not_updated_after_cheque_or_cash_deposit': 0.0178, 'topping_up_by_card': 0.0175, 'edit_personal_details': 0.0174, 'disposable_card_limits': 0.017, 'fiat_currency_support': 0.0153, 'exchange_charge': 0.0147, 'balance_not_updated_after_bank_transfer': 0.0135, 'exchange_via_app': 0.0129, 'transfer_timing': 0.0125, 'card_payment_fee_charged': 0.0123, 'atm_support': 0.0108, 'pending_top_up': 0.0104, 'change_pin': 0.0096, 'declined_cash_withdrawal': 0.0087, 'country_support': 0.0084, 'card_payment_wrong_exchange_rate': 0.0084, 'top_up_failed': 0.0082, 'top_up_reverted': 0.0082, 'verify_source_of_funds': 0.0069, 'transfer_fee_charged': 0.0062, 'top_up_limits': 0.006, 'age_limit': 0.0054, 'cancel_transfer': 0.0041, 'extra_charge_on_statement': 0.0041, 'receiving_money': 0.0036, 'top_up_by_card_charge': 0.0035, 'wrong_amount_of_cash_received': 0.0032, 'top_up_by_cash_or_cheque': 0.0031, 'cash_withdrawal_charge': 0.0031, 'wrong_exchange_rate_for_cash_withdrawal': 0.003, 'verify_top_up': 0.0029, 'automatic_top_up': 0.0025, 'exchange_rate': 0.0023, 'lost_or_stolen_phone': 0.0023, 'transfer_into_account': 0.0023, 'top_up_by_bank_transfer_charge': 0.002, 'transaction_charged_twice': 0.0018, 'terminate_account': 0.0014, 'beneficiary_not_allowed': 0.0014, 'apple_pay_or_google_pay': 0.0013} \n",
      "\n"
     ]
    },
    {
     "name": "stdout",
     "output_type": "stream",
     "text": [
      "\u001b[31mSentence:\u001b[0m Can the card be mailed and used in Europe? \n",
      "\n",
      "\u001b[34mPrediction:\u001b[0m {'card_acceptance': 0.4682, 'compromised_card': 0.1534, 'card_delivery_estimate': 0.1319, 'order_physical_card': 0.1169, 'passcode_forgotten': 0.0983, 'card_linking': 0.0975, 'country_support': 0.0774, 'reverted_card_payment?': 0.0706, 'card_swallowed': 0.062, 'getting_spare_card': 0.0609, 'get_disposable_virtual_card': 0.0533, 'visa_or_mastercard': 0.0524, 'topping_up_by_card': 0.0476, 'get_physical_card': 0.0468, 'pin_blocked': 0.0433, 'getting_virtual_card': 0.0412, 'declined_transfer': 0.0351, 'fiat_currency_support': 0.0344, 'disposable_card_limits': 0.0334, 'card_not_working': 0.033, 'atm_support': 0.0306, 'card_about_to_expire': 0.0302, 'supported_cards_and_currencies': 0.0294, 'why_verify_identity': 0.0291, 'age_limit': 0.0231, 'edit_personal_details': 0.023, 'lost_or_stolen_card': 0.0224, 'activate_my_card': 0.0212, 'verify_my_identity': 0.021, 'top_up_limits': 0.0196, 'exchange_charge': 0.0195, 'top_up_reverted': 0.0194, 'virtual_card_not_working': 0.0176, 'unable_to_verify_identity': 0.0166, 'change_pin': 0.0157, 'declined_card_payment': 0.0142, 'exchange_rate': 0.0139, 'contactless_not_working': 0.0121, 'card_payment_not_recognised': 0.0119, 'transfer_timing': 0.0104, 'pending_transfer': 0.0101, 'pending_card_payment': 0.0098, 'top_up_by_card_charge': 0.0097, 'card_payment_fee_charged': 0.0095, 'automatic_top_up': 0.0094, 'verify_source_of_funds': 0.0092, 'card_arrival': 0.0089, 'transfer_not_received_by_recipient': 0.0084, 'request_refund': 0.0082, 'direct_debit_payment_not_recognised': 0.0068, 'transfer_fee_charged': 0.0066, 'cash_withdrawal_not_recognised': 0.006, 'card_payment_wrong_exchange_rate': 0.0059, 'exchange_via_app': 0.0057, 'verify_top_up': 0.0055, 'failed_transfer': 0.0051, 'declined_cash_withdrawal': 0.0045, 'balance_not_updated_after_cheque_or_cash_deposit': 0.0041, 'extra_charge_on_statement': 0.0039, 'receiving_money': 0.0039, 'transaction_charged_twice': 0.0039, 'balance_not_updated_after_bank_transfer': 0.0038, 'pending_top_up': 0.0034, 'cancel_transfer': 0.0031, 'wrong_exchange_rate_for_cash_withdrawal': 0.003, 'wrong_amount_of_cash_received': 0.0028, 'cash_withdrawal_charge': 0.0027, 'top_up_by_cash_or_cheque': 0.0026, 'Refund_not_showing_up': 0.0026, 'pending_cash_withdrawal': 0.0024, 'transfer_into_account': 0.0023, 'top_up_by_bank_transfer_charge': 0.0022, 'terminate_account': 0.0014, 'apple_pay_or_google_pay': 0.0013, 'top_up_failed': 0.0013, 'lost_or_stolen_phone': 0.0005, 'beneficiary_not_allowed': 0.0002} \n",
      "\n"
     ]
    }
   ],
   "source": [
    "for pack in pl.process_dataset(csv_path):\n",
    "    for sent in pack.get(Sentence):\n",
    "        sent_text = sent.text\n",
    "        print(colored(\"Sentence:\", \"red\"), sent_text, \"\\n\")\n",
    "        print(colored(\"Prediction:\", \"blue\"), sent.classification,'\\n')"
   ]
  }
 ],
 "metadata": {
  "kernelspec": {
   "display_name": "forte_dev",
   "language": "python",
   "name": "forte_dev"
  },
  "language_info": {
   "codemirror_mode": {
    "name": "ipython",
    "version": 3
   },
   "file_extension": ".py",
   "mimetype": "text/x-python",
   "name": "python",
   "nbconvert_exporter": "python",
   "pygments_lexer": "ipython3",
   "version": "3.9.11"
  }
 },
 "nbformat": 4,
 "nbformat_minor": 5
}
