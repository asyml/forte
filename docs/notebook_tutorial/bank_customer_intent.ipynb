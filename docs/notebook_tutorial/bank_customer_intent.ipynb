{
 "cells": [
  {
   "cell_type": "code",
   "execution_count": null,
   "id": "9db3cf3a",
   "metadata": {},
   "outputs": [],
   "source": [
    "#!pip install termcolor #run this if termcolor is not found"
   ]
  },
  {
   "cell_type": "code",
   "execution_count": 1,
   "id": "8da71c59",
   "metadata": {},
   "outputs": [
    {
     "name": "stderr",
     "output_type": "stream",
     "text": [
      "/l/users/bhaskar.rao/forte_dev/lib/python3.9/site-packages/tqdm/auto.py:22: TqdmWarning: IProgress not found. Please update jupyter and ipywidgets. See https://ipywidgets.readthedocs.io/en/stable/user_install.html\n",
      "  from .autonotebook import tqdm as notebook_tqdm\n"
     ]
    }
   ],
   "source": [
    "import sys\n",
    "from importlib_metadata import csv\n",
    "from termcolor import colored\n",
    "\n",
    "from forte import Pipeline\n",
    "from forte.data.readers import ClassificationDatasetReader\n",
    "from fortex.nltk import NLTKSentenceSegmenter\n",
    "from fortex.huggingface import ZeroShotClassifier\n",
    "from ft.onto.base_ontology import Sentence"
   ]
  },
  {
   "cell_type": "code",
   "execution_count": 2,
   "id": "f9073f85",
   "metadata": {},
   "outputs": [],
   "source": [
    "csv_path = \"../../data_samples/banking77/sample.csv\"\n",
    "pl = Pipeline()"
   ]
  },
  {
   "cell_type": "code",
   "execution_count": 3,
   "id": "61a7f8ef",
   "metadata": {},
   "outputs": [],
   "source": [
    "class_names = [\n",
    "    \"activate_my_card\",\n",
    "    \"age_limit\",\n",
    "    \"apple_pay_or_google_pay\",\n",
    "    \"atm_support\",\n",
    "    \"automatic_top_up\",\n",
    "    \"balance_not_updated_after_bank_transfer\",\n",
    "    \"balance_not_updated_after_cheque_or_cash_deposit\",\n",
    "    \"beneficiary_not_allowed\",\n",
    "    \"cancel_transfer\",\n",
    "    \"card_about_to_expire\",\n",
    "    \"card_acceptance\",\n",
    "    \"card_arrival\",\n",
    "    \"card_delivery_estimate\",\n",
    "    \"card_linking\",\n",
    "    \"card_not_working\",\n",
    "    \"card_payment_fee_charged\",\n",
    "    \"card_payment_not_recognised\",\n",
    "    \"card_payment_wrong_exchange_rate\",\n",
    "    \"card_swallowed\",\n",
    "    \"cash_withdrawal_charge\",\n",
    "    \"cash_withdrawal_not_recognised\",\n",
    "    \"change_pin\",\n",
    "    \"compromised_card\",\n",
    "    \"contactless_not_working\",\n",
    "    \"country_support\",\n",
    "    \"declined_card_payment\",\n",
    "    \"declined_cash_withdrawal\",\n",
    "    \"declined_transfer\",\n",
    "    \"direct_debit_payment_not_recognised\",\n",
    "    \"disposable_card_limits\",\n",
    "    \"edit_personal_details\",\n",
    "    \"exchange_charge\",\n",
    "    \"exchange_rate\",\n",
    "    \"exchange_via_app\",\n",
    "    \"extra_charge_on_statement\",\n",
    "    \"failed_transfer\",\n",
    "    \"fiat_currency_support\",\n",
    "    \"get_disposable_virtual_card\",\n",
    "    \"get_physical_card\",\n",
    "    \"getting_spare_card\",\n",
    "    \"getting_virtual_card\",\n",
    "    \"lost_or_stolen_card\",\n",
    "    \"lost_or_stolen_phone\",\n",
    "    \"order_physical_card\",\n",
    "    \"passcode_forgotten\",\n",
    "    \"pending_card_payment\",\n",
    "    \"pending_cash_withdrawal\",\n",
    "    \"pending_top_up\",\n",
    "    \"pending_transfer\",\n",
    "    \"pin_blocked\",\n",
    "    \"receiving_money\",\n",
    "    \"Refund_not_showing_up\",\n",
    "    \"request_refund\",\n",
    "    \"reverted_card_payment?\",\n",
    "    \"supported_cards_and_currencies\",\n",
    "    \"terminate_account\",\n",
    "    \"top_up_by_bank_transfer_charge\",\n",
    "    \"top_up_by_card_charge\",\n",
    "    \"top_up_by_cash_or_cheque\",\n",
    "    \"top_up_failed\",\n",
    "    \"top_up_limits\",\n",
    "    \"top_up_reverted\",\n",
    "    \"topping_up_by_card\",\n",
    "    \"transaction_charged_twice\",\n",
    "    \"transfer_fee_charged\",\n",
    "    \"transfer_into_account\",\n",
    "    \"transfer_not_received_by_recipient\",\n",
    "    \"transfer_timing\",\n",
    "    \"unable_to_verify_identity\",\n",
    "    \"verify_my_identity\",\n",
    "    \"verify_source_of_funds\",\n",
    "    \"verify_top_up\",\n",
    "    \"virtual_card_not_working\",\n",
    "    \"visa_or_mastercard\",\n",
    "    \"why_verify_identity\",\n",
    "    \"wrong_amount_of_cash_received\",\n",
    "    \"wrong_exchange_rate_for_cash_withdrawal\",\n",
    "]"
   ]
  },
  {
   "cell_type": "code",
   "execution_count": 4,
   "id": "77dded7e",
   "metadata": {},
   "outputs": [],
   "source": [
    "index2class = dict(enumerate(class_names))"
   ]
  },
  {
   "cell_type": "code",
   "execution_count": 5,
   "id": "98aab8ad",
   "metadata": {},
   "outputs": [],
   "source": [
    "# initialize reader config\n",
    "this_reader_config = {\n",
    "    \"forte_data_fields\": [\n",
    "        \"ft.onto.base_ontology.Body\",\n",
    "        \"label\",\n",
    "    ],\n",
    "    \"index2class\": index2class,\n",
    "    \"text_fields\": [\n",
    "        \"ft.onto.base_ontology.Body\"\n",
    "    ],\n",
    "    \"digit_label\": False,\n",
    "    \"one_based_index_label\": False,\n",
    "}\n"
   ]
  },
  {
   "cell_type": "code",
   "execution_count": 6,
   "id": "912fb205",
   "metadata": {},
   "outputs": [
    {
     "name": "stderr",
     "output_type": "stream",
     "text": [
      "WARNING:root:Re-declared a new class named [ConstituentNode], which is probably used in import.\n",
      "[nltk_data] Downloading package punkt to\n",
      "[nltk_data]     /home/bhaskar.rao/nltk_data...\n",
      "[nltk_data]   Package punkt is already up-to-date!\n"
     ]
    },
    {
     "data": {
      "text/plain": [
       "<forte.pipeline.Pipeline at 0x14e71d48eb80>"
      ]
     },
     "execution_count": 6,
     "metadata": {},
     "output_type": "execute_result"
    }
   ],
   "source": [
    "pl.set_reader(ClassificationDatasetReader(), config=this_reader_config)\n",
    "pl.add(NLTKSentenceSegmenter())\n",
    "pl.add(ZeroShotClassifier(), config={\"candidate_labels\": class_names})\n",
    "pl.initialize()"
   ]
  },
  {
   "cell_type": "code",
   "execution_count": 7,
   "id": "9b38bfaa",
   "metadata": {},
   "outputs": [
    {
     "name": "stdout",
     "output_type": "stream",
     "text": [
      "Type n for the next sentence and its prediction: n\n",
      "\u001b[31mSentence:\u001b[0m How do I locate my card? \n",
      "\n",
      "\u001b[34mPrediction:\u001b[0m {'lost_or_stolen_card': 0.4788, 'compromised_card': 0.3406, 'get_physical_card': 0.3214, 'card_linking': 0.2053, 'card_acceptance': 0.1595, 'passcode_forgotten': 0.1424, 'getting_spare_card': 0.1394, 'order_physical_card': 0.1389, 'reverted_card_payment?': 0.1371, 'getting_virtual_card': 0.1054, 'virtual_card_not_working': 0.066, 'why_verify_identity': 0.0623, 'card_not_working': 0.0616, 'get_disposable_virtual_card': 0.061, 'card_swallowed': 0.0603, 'supported_cards_and_currencies': 0.06, 'contactless_not_working': 0.0593, 'activate_my_card': 0.0576, 'verify_my_identity': 0.056, 'card_payment_not_recognised': 0.055, 'card_about_to_expire': 0.0426, 'visa_or_mastercard': 0.0393, 'pending_card_payment': 0.0384, 'card_arrival': 0.0375, 'cash_withdrawal_not_recognised': 0.0372, 'unable_to_verify_identity': 0.0321, 'declined_card_payment': 0.0294, 'card_delivery_estimate': 0.0261, 'declined_cash_withdrawal': 0.025, 'direct_debit_payment_not_recognised': 0.0244, 'pending_cash_withdrawal': 0.0241, 'pin_blocked': 0.0205, 'pending_transfer': 0.0204, 'exchange_via_app': 0.0191, 'declined_transfer': 0.0184, 'atm_support': 0.0182, 'edit_personal_details': 0.0165, 'card_payment_fee_charged': 0.016, 'fiat_currency_support': 0.0151, 'disposable_card_limits': 0.0142, 'balance_not_updated_after_bank_transfer': 0.0136, 'failed_transfer': 0.0116, 'exchange_charge': 0.0116, 'balance_not_updated_after_cheque_or_cash_deposit': 0.0112, 'transfer_fee_charged': 0.0091, 'top_up_reverted': 0.009, 'topping_up_by_card': 0.0088, 'change_pin': 0.0082, 'Refund_not_showing_up': 0.0082, 'card_payment_wrong_exchange_rate': 0.0074, 'verify_source_of_funds': 0.0072, 'country_support': 0.0072, 'request_refund': 0.0071, 'transfer_not_received_by_recipient': 0.0067, 'receiving_money': 0.0066, 'cash_withdrawal_charge': 0.0062, 'pending_top_up': 0.0055, 'top_up_by_cash_or_cheque': 0.0055, 'age_limit': 0.0048, 'extra_charge_on_statement': 0.0044, 'transfer_timing': 0.0044, 'transaction_charged_twice': 0.0042, 'top_up_by_card_charge': 0.0041, 'lost_or_stolen_phone': 0.004, 'cancel_transfer': 0.0035, 'top_up_limits': 0.0034, 'transfer_into_account': 0.0032, 'automatic_top_up': 0.003, 'top_up_by_bank_transfer_charge': 0.0029, 'verify_top_up': 0.0026, 'wrong_amount_of_cash_received': 0.0026, 'wrong_exchange_rate_for_cash_withdrawal': 0.0026, 'apple_pay_or_google_pay': 0.0019, 'top_up_failed': 0.0016, 'exchange_rate': 0.0015, 'terminate_account': 0.0013, 'beneficiary_not_allowed': 0.0008}\n",
      "Type n for the next sentence and its prediction: n\n",
      "\u001b[31mSentence:\u001b[0m I still have not received my new card, I ordered over a week ago. \n",
      "\n",
      "\u001b[34mPrediction:\u001b[0m {'pending_card_payment': 0.4946, 'card_delivery_estimate': 0.3938, 'pending_transfer': 0.3238, 'card_not_working': 0.3156, 'transfer_not_received_by_recipient': 0.2323, 'failed_transfer': 0.1512, 'contactless_not_working': 0.1277, 'declined_transfer': 0.1103, 'order_physical_card': 0.1088, 'pending_cash_withdrawal': 0.1049, 'unable_to_verify_identity': 0.1005, 'pin_blocked': 0.097, 'top_up_failed': 0.0947, 'card_acceptance': 0.0905, 'virtual_card_not_working': 0.0782, 'passcode_forgotten': 0.0731, 'card_payment_not_recognised': 0.0695, 'Refund_not_showing_up': 0.0669, 'card_linking': 0.0652, 'get_physical_card': 0.0626, 'pending_top_up': 0.0599, 'card_swallowed': 0.057, 'compromised_card': 0.0538, 'exchange_charge': 0.0476, 'getting_virtual_card': 0.0443, 'supported_cards_and_currencies': 0.0431, 'getting_spare_card': 0.0404, 'reverted_card_payment?': 0.0403, 'receiving_money': 0.0366, 'declined_card_payment': 0.0365, 'exchange_via_app': 0.0306, 'card_about_to_expire': 0.0267, 'fiat_currency_support': 0.0263, 'direct_debit_payment_not_recognised': 0.0253, 'exchange_rate': 0.0235, 'card_payment_fee_charged': 0.0232, 'visa_or_mastercard': 0.0231, 'why_verify_identity': 0.0231, 'age_limit': 0.0228, 'declined_cash_withdrawal': 0.0218, 'transfer_timing': 0.0211, 'topping_up_by_card': 0.0209, 'activate_my_card': 0.0207, 'cash_withdrawal_not_recognised': 0.0204, 'balance_not_updated_after_cheque_or_cash_deposit': 0.0201, 'top_up_reverted': 0.02, 'balance_not_updated_after_bank_transfer': 0.0195, 'verify_my_identity': 0.0193, 'change_pin': 0.0191, 'cancel_transfer': 0.0185, 'edit_personal_details': 0.0183, 'card_payment_wrong_exchange_rate': 0.0183, 'transfer_fee_charged': 0.018, 'disposable_card_limits': 0.018, 'request_refund': 0.0153, 'get_disposable_virtual_card': 0.0144, 'atm_support': 0.0144, 'top_up_by_card_charge': 0.0139, 'country_support': 0.0135, 'top_up_limits': 0.012, 'lost_or_stolen_card': 0.0118, 'beneficiary_not_allowed': 0.0114, 'extra_charge_on_statement': 0.0105, 'cash_withdrawal_charge': 0.0102, 'wrong_exchange_rate_for_cash_withdrawal': 0.01, 'card_arrival': 0.0093, 'top_up_by_bank_transfer_charge': 0.0082, 'verify_source_of_funds': 0.0078, 'top_up_by_cash_or_cheque': 0.0074, 'wrong_amount_of_cash_received': 0.0064, 'transfer_into_account': 0.0063, 'lost_or_stolen_phone': 0.0055, 'verify_top_up': 0.005, 'apple_pay_or_google_pay': 0.0047, 'transaction_charged_twice': 0.0037, 'automatic_top_up': 0.0037, 'terminate_account': 0.0029}\n",
      "Type n for the next sentence and its prediction: q\n",
      "Exit the program due to unrecognized input\n"
     ]
    },
    {
     "ename": "SystemExit",
     "evalue": "",
     "output_type": "error",
     "traceback": [
      "An exception has occurred, use %tb to see the full traceback.\n",
      "\u001b[0;31mSystemExit\u001b[0m\n"
     ]
    },
    {
     "name": "stderr",
     "output_type": "stream",
     "text": [
      "/l/users/bhaskar.rao/forte_dev/lib/python3.9/site-packages/IPython/core/interactiveshell.py:3369: UserWarning: To exit: use 'exit', 'quit', or Ctrl-D.\n",
      "  warn(\"To exit: use 'exit', 'quit', or Ctrl-D.\", stacklevel=1)\n"
     ]
    }
   ],
   "source": [
    "for pack in pl.process_dataset(csv_path):\n",
    "    for sentence in pack.get(Sentence):\n",
    "        if (\n",
    "            input(\"Type n for the next sentence and its prediction: \").lower()\n",
    "            == \"n\"\n",
    "        ):\n",
    "            sent_text = sentence.text\n",
    "            print(colored(\"Sentence:\", \"red\"), sent_text, \"\\n\")\n",
    "            print(colored(\"Prediction:\", \"blue\"), sentence.classification)\n",
    "        else:\n",
    "            print(\"Exit the program due to unrecognized input\")\n",
    "            sys.exit()\n"
   ]
  },
  {
   "cell_type": "code",
   "execution_count": null,
   "id": "9d28d051",
   "metadata": {},
   "outputs": [],
   "source": []
  }
 ],
 "metadata": {
  "kernelspec": {
   "display_name": "forte_dev",
   "language": "python",
   "name": "forte_dev"
  },
  "language_info": {
   "codemirror_mode": {
    "name": "ipython",
    "version": 3
   },
   "file_extension": ".py",
   "mimetype": "text/x-python",
   "name": "python",
   "nbconvert_exporter": "python",
   "pygments_lexer": "ipython3",
   "version": "3.9.11"
  }
 },
 "nbformat": 4,
 "nbformat_minor": 5
}
