{
 "cells": [
  {
   "cell_type": "markdown",
   "metadata": {},
   "source": [
    "## Import necessary dependencies"
   ]
  },
  {
   "cell_type": "code",
   "execution_count": null,
   "metadata": {
    "collapsed": true
   },
   "outputs": [],
   "source": [
    "import os\n",
    "import yaml\n",
    "from texar.torch import HParams\n",
    "\n",
    "from forte.pipeline import Pipeline\n",
    "from ft.onto.base_ontology import Sentence, Token, EntityMention\n",
    "from forte.data.readers.conll03_reader import CoNLL03Reader\n",
    "from forte.processors.ner_predictor import (\n",
    "    CoNLLNERPredictor,\n",
    ")\n",
    "from forte.common.resources import Resources\n"
   ]
  },
  {
   "cell_type": "markdown",
   "metadata": {},
   "source": [
    "## Load the config "
   ]
  },
  {
   "cell_type": "code",
   "execution_count": null,
   "metadata": {
    "collapsed": true
   },
   "outputs": [],
   "source": [
    "config_data = yaml.safe_load(open(\"config_data.yml\", \"r\"))\n",
    "config_model = yaml.safe_load(open(\"config_model.yml\", \"r\"))\n",
    "\n",
    "config = HParams({}, default_hparams=None)\n",
    "config.add_hparam('config_data', config_data)\n",
    "config.add_hparam('config_model', config_model)\n"
   ]
  },
  {
   "cell_type": "markdown",
   "metadata": {},
   "source": [
    "## Load the resource"
   ]
  },
  {
   "cell_type": "code",
   "execution_count": null,
   "metadata": {
    "collapsed": true
   },
   "outputs": [],
   "source": [
    "resources: Resources = Resources()\n",
    "resources.load(path=os.path.join(config.config_model.resource_dir,\n",
    "                                 \"resources.pkl\"))\n"
   ]
  },
  {
   "cell_type": "markdown",
   "metadata": {},
   "source": [
    "## Create the pipeline with CoNLL Reader and Predictor"
   ]
  },
  {
   "cell_type": "code",
   "execution_count": null,
   "metadata": {
    "collapsed": true
   },
   "outputs": [],
   "source": [
    "pl = Pipeline(resources)\n",
    "pl.set_reader(CoNLL03Reader())\n",
    "pl.add_processor(CoNLLNERPredictor(), config=config)"
   ]
  },
  {
   "cell_type": "markdown",
   "metadata": {},
   "source": [
    "## Initialize the pipeline"
   ]
  },
  {
   "cell_type": "code",
   "execution_count": null,
   "metadata": {},
   "outputs": [],
   "source": [
    "pl.initialize()"
   ]
  },
  {
   "cell_type": "markdown",
   "metadata": {},
   "source": [
    "## Run the pipeline on the test dataset "
   ]
  },
  {
   "cell_type": "code",
   "execution_count": null,
   "metadata": {
    "collapsed": true
   },
   "outputs": [],
   "source": [
    "for pack in pl.process_dataset(config.config_data.test_path):\n",
    "    for pred_sentence in pack.get_data(\n",
    "            context_type=Sentence,\n",
    "            request={\n",
    "                Token:\n",
    "                         {\"fields\": [\"ner_tag\"]},\n",
    "                Sentence: [],  # span by default\n",
    "                EntityMention: {}\n",
    "            }):\n",
    "        print(\"============================\")\n",
    "        print(pred_sentence[\"context\"])\n",
    "        print(pred_sentence[\"Token\"][\"ner_tag\"])\n",
    "        print(\"============================\")\n"
   ]
  }
 ],
 "metadata": {
  "kernelspec": {
   "display_name": "Python 3",
   "language": "python",
   "name": "python3"
  },
  "language_info": {
   "codemirror_mode": {
    "name": "ipython",
    "version": 3
   },
   "file_extension": ".py",
   "mimetype": "text/x-python",
   "name": "python",
   "nbconvert_exporter": "python",
   "pygments_lexer": "ipython3",
   "version": "3.6.5"
  },
  "pycharm": {
   "stem_cell": {
    "cell_type": "raw",
    "source": [],
    "metadata": {
     "collapsed": false
    }
   }
  }
 },
 "nbformat": 4,
 "nbformat_minor": 1
}