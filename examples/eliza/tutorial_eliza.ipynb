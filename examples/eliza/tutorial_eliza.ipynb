{
 "cells": [
  {
   "cell_type": "markdown",
   "metadata": {},
   "source": [
    "# Eliza Example\n",
    "\n",
    "This example will walkthrough the steps to set up a Eliza chatbot which generates responses based on Eliza rules. We will utilize `stave` to visualize the dialogue page that allows you to chat with the bot interactively.\n",
    "\n",
    "###  Introduction\n",
    "\n",
    "Eliza chatbot is a famous rule-based chatbot invented in 1964. The rule-based and model-less nature makes it extremely suitable for demonstration purposes. This tutorial is based on `ElizaProcessor`. For more details, refer to https://github.com/asyml/forte/blob/master/forte/processors/nlp/eliza_processor.py.\n",
    "\n",
    "### Install Dependencies"
   ]
  },
  {
   "cell_type": "code",
   "execution_count": null,
   "metadata": {
    "vscode": {
     "languageId": "shellscript"
    }
   },
   "outputs": [],
   "source": [
    "pip install git+https://github.com/asyml/forte.git@master\n",
    "pip install stave==0.0.2.dev1"
   ]
  },
  {
   "cell_type": "markdown",
   "metadata": {},
   "source": [
    "### Start a Eliza pipeline service \n",
    "\n",
    "Run the following python script to start a pipeline service to process input queries based on Eliza rules."
   ]
  },
  {
   "cell_type": "code",
   "execution_count": null,
   "metadata": {},
   "outputs": [],
   "source": [
    "from forte.pipeline import Pipeline\n",
    "from forte.data.data_pack import DataPack\n",
    "from forte.data.readers import RawDataDeserializeReader\n",
    "from forte.processors.nlp import ElizaProcessor\n",
    "\n",
    "\n",
    "def start_eliza_service(\n",
    "    input_format: str = \"DataPack\", service_name: str = \"test_name\"\n",
    ") -> None:\n",
    "    \"\"\"\n",
    "    Start a remote service for ElizaProcessor\n",
    "    \"\"\"\n",
    "    pipeline = Pipeline[DataPack]()\n",
    "    pipeline.set_reader(RawDataDeserializeReader())\n",
    "    pipeline.add(ElizaProcessor())\n",
    "    pipeline.serve(input_format=input_format, service_name=service_name)\n",
    "\n",
    "\n",
    "if __name__ == \"__main__\":\n",
    "    start_eliza_service()"
   ]
  },
  {
   "cell_type": "markdown",
   "metadata": {},
   "source": [
    "### Visualize the chatbot in `stave`\n",
    "\n",
    "We will need `stave` to open a chatbot window for us to test the pipeline service that we just started in the previous step. `stave` is a fast, lightweight, extensible web-based text annotation and visualization tool designed to support a wide range of data types and NLP tasks. For more details, refer to https://github.com/asyml/stave.\n",
    "\n",
    "Open a new terminal window and run the following command:"
   ]
  },
  {
   "cell_type": "code",
   "execution_count": null,
   "metadata": {
    "vscode": {
     "languageId": "shellscript"
    }
   },
   "outputs": [],
   "source": [
    "stave -s start -o -l"
   ]
  },
  {
   "cell_type": "markdown",
   "metadata": {},
   "source": [
    "Now we should see a browser window popped out which directs to a login page (http://localhost:8888/login) of `stave`. You can log in with default username (`admin`) and password (`admin`).\n",
    "\n",
    "After successfully logging into `stave`, we can navigate to the `All Projects` page. Click the `VIEW PROJECT` button under `Eliza` project. Then click `eliza.json` on the left side to enter the dialogue page where you can enter queries and get responses from Eliza chatbot."
   ]
  }
 ],
 "metadata": {
  "interpreter": {
   "hash": "b646478c259e6f8cbd0b09bbfdc1041d1984ef3f8200c93440a81e1dd64ec338"
  },
  "kernelspec": {
   "display_name": "Python 3.8.9 64-bit",
   "language": "python",
   "name": "python3"
  },
  "language_info": {
   "name": "python",
   "version": "3.8.9"
  },
  "orig_nbformat": 4
 },
 "nbformat": 4,
 "nbformat_minor": 2
}
