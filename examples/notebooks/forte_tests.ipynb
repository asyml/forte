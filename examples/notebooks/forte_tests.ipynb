{
 "cells": [
  {
   "cell_type": "code",
   "execution_count": 9,
   "metadata": {},
   "outputs": [
    {
     "name": "stdout",
     "output_type": "stream",
     "text": [
      "The autoreload extension is already loaded. To reload it, use:\n",
      "  %reload_ext autoreload\n"
     ]
    }
   ],
   "source": [
    "%load_ext autoreload\n",
    "%autoreload 2"
   ]
  },
  {
   "cell_type": "code",
   "execution_count": 20,
   "metadata": {},
   "outputs": [],
   "source": [
    "import os\n",
    "from texar.torch import HParams\n",
    "\n",
    "from forte import Pipeline\n",
    "from forte.data.ontology import base_ontology\n",
    "from forte.data.readers import StringReader, BaseReader\n",
    "from forte.processors import (\n",
    "    NLTKWordTokenizer, NLTKSentenceSegmenter, NLTKPOSTagger, SRLPredictor, CoNLLNERPredictor\n",
    ")"
   ]
  },
  {
   "cell_type": "code",
   "execution_count": 11,
   "metadata": {},
   "outputs": [],
   "source": [
    "pl = Pipeline()\n",
    "pl.set_ontology(base_ontology)\n",
    "pl.set_reader(StringReader())\n",
    "pl.add_processor(NLTKSentenceSegmenter())\n",
    "pl.add_processor(NLTKWordTokenizer())\n",
    "pl.add_processor(NLTKPOSTagger())\n",
    "pl.initialize_processors()"
   ]
  },
  {
   "cell_type": "code",
   "execution_count": 18,
   "metadata": {},
   "outputs": [],
   "source": [
    "search_engine_text = \"A Scottish firm is looking to attract web surfers with a search engine that reads out results.\"\\\n",
    "                \" Called Speegle, it has the look and feel of a normal search engine, with the added feature of being able to read\"\\\n",
    "                \" out the results. Scottish speech technology firm CEC Systems launched the site in November. But experts have\"\\\n",
    "                \" questioned whether talking search engines are of any real benefit to people with visual impairments. The\"\\\n",
    "                \" Edinburgh-based firm CEC has married speech technology with ever-popular internet search. The ability to search is\"\\\n",
    "                \" becoming increasingly crucial to surfers baffled by the huge amount of information available on the web.\"\\\n"
   ]
  },
  {
   "cell_type": "code",
   "execution_count": 19,
   "metadata": {},
   "outputs": [],
   "source": [
    "p = pl.process_one(search_engine_text)"
   ]
  },
  {
   "cell_type": "code",
   "execution_count": 21,
   "metadata": {},
   "outputs": [
    {
     "name": "stdout",
     "output_type": "stream",
     "text": [
      "{\"py/object\": \"forte.data.data_pack.DataPack\", \"py/state\": {\"_text\": \"A\", \"annotations\": [{\"_data_pack\": {\"py/id\": 0}, \"_span\": {\"begin\": 0, \"end\": 1, \"py/object\": \"forte.data.ontology.top.Span\"}, \"_tid\": \"forte.data.ontology.base_ontology.Document.0\", \"component\": \"forte.data.readers.string_reader.StringReader\", \"py/object\": \"forte.data.ontology.base_ontology.Document\"}, {\"_data_pack\": {\"py/id\": 0}, \"_span\": {\"begin\": 0, \"end\": 1, \"py/object\": \"forte.data.ontology.top.Span\"}, \"_tid\": \"forte.data.ontology.base_ontology.Sentence.0\", \"component\": \"forte.processors.sentence_predictor.NLTKSentenceSegmenter\", \"py/object\": \"forte.data.ontology.base_ontology.Sentence\"}, {\"_data_pack\": {\"py/id\": 0}, \"_span\": {\"begin\": 0, \"end\": 1, \"py/object\": \"forte.data.ontology.top.Span\"}, \"_tid\": \"forte.data.ontology.base_ontology.Token.0\", \"component\": \"forte.processors.tokenization_predictor.NLTKWordTokenizer\", \"pos_tag\": \"DT\", \"py/object\": \"forte.data.ontology.base_ontology.Token\"}], \"groups\": [], \"internal_metas\": {\"<class 'forte.data.ontology.base_ontology.Document'>\": {\"default_component\": \"forte.data.readers.string_reader.StringReader\", \"fields_created\": {\"default_factory\": {\"py/type\": \"builtins.set\"}, \"forte.data.readers.string_reader.StringReader\": {\"py/set\": [\"span\", \"tid\"]}, \"py/object\": \"collections.defaultdict\"}, \"id_counter\": 1, \"py/object\": \"forte.data.base_pack.InternalMeta\"}, \"<class 'forte.data.ontology.base_ontology.Sentence'>\": {\"default_component\": \"forte.processors.sentence_predictor.NLTKSentenceSegmenter\", \"fields_created\": {\"default_factory\": {\"py/type\": \"builtins.set\"}, \"forte.processors.sentence_predictor.NLTKSentenceSegmenter\": {\"py/set\": [\"span\", \"tid\"]}, \"py/object\": \"collections.defaultdict\"}, \"id_counter\": 1, \"py/object\": \"forte.data.base_pack.InternalMeta\"}, \"<class 'forte.data.ontology.base_ontology.Token'>\": {\"default_component\": \"forte.processors.tokenization_predictor.NLTKWordTokenizer\", \"fields_created\": {\"default_factory\": {\"py/type\": \"builtins.set\"}, \"forte.processors.tokenization_predictor.NLTKWordTokenizer\": {\"py/set\": [\"span\", \"tid\"]}, \"null\": {\"py/set\": [\"span\", \"tid\", \"pos_tag\"]}, \"py/object\": \"collections.defaultdict\"}, \"id_counter\": 1, \"py/object\": \"forte.data.base_pack.InternalMeta\"}, \"default_factory\": {\"py/type\": \"forte.data.base_pack.InternalMeta\"}, \"py/object\": \"collections.defaultdict\"}, \"inverse_replace_operations\": [], \"links\": [], \"meta\": {\"cache_state\": \"\", \"doc_id\": null, \"language\": \"english\", \"name\": null, \"process_state\": \"forte.processors.postag_predictor.NLTKPOSTagger\", \"py/object\": \"forte.data.data_pack.Meta\", \"span_unit\": \"character\"}}}\n"
     ]
    }
   ],
   "source": [
    "print(BaseReader.serialize_instance(p))"
   ]
  },
  {
   "cell_type": "code",
   "execution_count": 22,
   "metadata": {},
   "outputs": [],
   "source": [
    "import copy\n",
    "pc = copy.deepcopy(p)"
   ]
  },
  {
   "cell_type": "code",
   "execution_count": 23,
   "metadata": {},
   "outputs": [
    {
     "name": "stdout",
     "output_type": "stream",
     "text": [
      "{\"py/object\": \"forte.data.data_pack.DataPack\", \"py/state\": {\"_text\": \"A\", \"annotations\": [{\"_data_pack\": {\"py/id\": 0}, \"_span\": {\"begin\": 0, \"end\": 1, \"py/object\": \"forte.data.ontology.top.Span\"}, \"_tid\": \"forte.data.ontology.base_ontology.Document.0\", \"component\": \"forte.data.readers.string_reader.StringReader\", \"py/object\": \"forte.data.ontology.base_ontology.Document\"}, {\"_data_pack\": {\"py/id\": 0}, \"_span\": {\"begin\": 0, \"end\": 1, \"py/object\": \"forte.data.ontology.top.Span\"}, \"_tid\": \"forte.data.ontology.base_ontology.Sentence.0\", \"component\": \"forte.processors.sentence_predictor.NLTKSentenceSegmenter\", \"py/object\": \"forte.data.ontology.base_ontology.Sentence\"}, {\"_data_pack\": {\"py/id\": 0}, \"_span\": {\"begin\": 0, \"end\": 1, \"py/object\": \"forte.data.ontology.top.Span\"}, \"_tid\": \"forte.data.ontology.base_ontology.Token.0\", \"component\": \"forte.processors.tokenization_predictor.NLTKWordTokenizer\", \"pos_tag\": \"DT\", \"py/object\": \"forte.data.ontology.base_ontology.Token\"}], \"groups\": [], \"internal_metas\": {\"<class 'forte.data.ontology.base_ontology.Document'>\": {\"default_component\": \"forte.data.readers.string_reader.StringReader\", \"fields_created\": {\"default_factory\": {\"py/type\": \"builtins.set\"}, \"forte.data.readers.string_reader.StringReader\": {\"py/set\": [\"span\", \"tid\"]}, \"py/object\": \"collections.defaultdict\"}, \"id_counter\": 1, \"py/object\": \"forte.data.base_pack.InternalMeta\"}, \"<class 'forte.data.ontology.base_ontology.Sentence'>\": {\"default_component\": \"forte.processors.sentence_predictor.NLTKSentenceSegmenter\", \"fields_created\": {\"default_factory\": {\"py/type\": \"builtins.set\"}, \"forte.processors.sentence_predictor.NLTKSentenceSegmenter\": {\"py/set\": [\"span\", \"tid\"]}, \"py/object\": \"collections.defaultdict\"}, \"id_counter\": 1, \"py/object\": \"forte.data.base_pack.InternalMeta\"}, \"<class 'forte.data.ontology.base_ontology.Token'>\": {\"default_component\": \"forte.processors.tokenization_predictor.NLTKWordTokenizer\", \"fields_created\": {\"default_factory\": {\"py/type\": \"builtins.set\"}, \"forte.processors.tokenization_predictor.NLTKWordTokenizer\": {\"py/set\": [\"span\", \"tid\"]}, \"null\": {\"py/set\": [\"span\", \"tid\", \"pos_tag\"]}, \"py/object\": \"collections.defaultdict\"}, \"id_counter\": 1, \"py/object\": \"forte.data.base_pack.InternalMeta\"}, \"default_factory\": {\"py/type\": \"forte.data.base_pack.InternalMeta\"}, \"py/object\": \"collections.defaultdict\"}, \"inverse_replace_operations\": [], \"links\": [], \"meta\": {\"cache_state\": \"\", \"doc_id\": null, \"language\": \"english\", \"name\": null, \"process_state\": \"forte.processors.postag_predictor.NLTKPOSTagger\", \"py/object\": \"forte.data.data_pack.Meta\", \"span_unit\": \"character\"}}}\n"
     ]
    }
   ],
   "source": [
    "print(BaseReader.serialize_instance(pc))"
   ]
  },
  {
   "cell_type": "code",
   "execution_count": null,
   "metadata": {},
   "outputs": [],
   "source": []
  }
 ],
 "metadata": {
  "kernelspec": {
   "display_name": "Python 3",
   "language": "python",
   "name": "python3"
  },
  "language_info": {
   "codemirror_mode": {
    "name": "ipython",
    "version": 3
   },
   "file_extension": ".py",
   "mimetype": "text/x-python",
   "name": "python",
   "nbconvert_exporter": "python",
   "pygments_lexer": "ipython3",
   "version": "3.7.4"
  }
 },
 "nbformat": 4,
 "nbformat_minor": 2
}
